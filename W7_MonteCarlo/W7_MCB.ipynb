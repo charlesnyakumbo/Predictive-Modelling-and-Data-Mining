{
 "cells": [
  {
   "cell_type": "markdown",
   "metadata": {},
   "source": [
    "# Monte Carlo Simulation Modeling"
   ]
  },
  {
   "cell_type": "markdown",
   "metadata": {},
   "source": [
    "## 1- Flipping Coin\n",
    "\n",
    "1. Write a code that counts number of heads and tails in a for loop.\n",
    "1. Run this loop for a)100 b)1000000 times  \n",
    "1. What can you say about this experiment?"
   ]
  },
  {
   "cell_type": "code",
   "execution_count": 1,
   "metadata": {},
   "outputs": [
    {
     "name": "stdout",
     "output_type": "stream",
     "text": [
      "Number of Heads are:  0.0\n"
     ]
    }
   ],
   "source": [
    "import random, pylab\n",
    "import numpy as np\n",
    "\n",
    "nrun=1000000\n",
    "\n",
    "nh=0\n",
    "nt=0\n",
    "\n",
    "# Write your code here\n",
    "\n",
    "\n",
    "\n",
    "\n",
    "print('Number of Heads are: ', nh/nrun)\n",
    "        "
   ]
  },
  {
   "cell_type": "markdown",
   "metadata": {},
   "source": [
    "## 2- Fair Roulette\n",
    "\n",
    "Write a code that accumulates total gain (can be positive or negative) in a fair roulette game:\n",
    "\n",
    "**Hint:**\n",
    "1. Create two independent np.random.randint(1,37) variables \n",
    "1. If they are equal, you will gain 35 else, you will lose 1"
   ]
  },
  {
   "cell_type": "code",
   "execution_count": 7,
   "metadata": {},
   "outputs": [
    {
     "name": "stdout",
     "output_type": "stream",
     "text": [
      "Win:  -0.5175\n"
     ]
    }
   ],
   "source": [
    "import random, pylab\n",
    "import numpy as np\n",
    "\n",
    "nrun=1000000\n",
    "\n",
    "win_tot=0\n",
    "\n",
    "\n",
    "# Write your code here\n",
    "\n",
    "print('Win: ', win_tot/nrun*100)\n",
    "        "
   ]
  },
  {
   "cell_type": "markdown",
   "metadata": {},
   "source": [
    "## 3- Europian Roulette\n",
    "\n",
    "Write a code that accumulates total gain (can be positive or negative) in a Europian roulette game:\n",
    "\n",
    "**Hint:**\n",
    "1. Create two independent np.random.randint(1,37) and np.random.randint(1,36) variables \n",
    "1. If they are equal, you will gain 34 else, you will lose 1\n"
   ]
  },
  {
   "cell_type": "code",
   "execution_count": 93,
   "metadata": {},
   "outputs": [
    {
     "name": "stdout",
     "output_type": "stream",
     "text": [
      "Number of Heads are:  -2.52709\n"
     ]
    }
   ],
   "source": [
    "import random, pylab\n",
    "import numpy as np\n",
    "\n",
    "nrun=10000000\n",
    "\n",
    "win_tot=0\n",
    "\n",
    "\n",
    "for _ in range(1,nrun):\n",
    "    buck_n=np.random.randint(1,37)\n",
    "    a=np.random.randint(1,36)\n",
    "    \n",
    "    if a==buck_n:\n",
    "        win_tot = win_tot+34\n",
    "    else:\n",
    "        win_tot =win_tot-1\n",
    "\n",
    "print('Number of Heads are: ', win_tot/nrun*100)\n",
    "        "
   ]
  },
  {
   "cell_type": "markdown",
   "metadata": {},
   "source": [
    "## 4- American Roulette\n",
    "\n",
    "Write a code that accumulates total gain (can be positive or negative) in a American roulette game:\n",
    "\n",
    "**Hint:**\n",
    "1. Create two independent np.random.randint(1,37) and np.random.randint(1,35) variables \n",
    "1. If they are equal, you will gain 33 else, you will lose 1\n",
    "\n"
   ]
  },
  {
   "cell_type": "code",
   "execution_count": 94,
   "metadata": {},
   "outputs": [
    {
     "name": "stdout",
     "output_type": "stream",
     "text": [
      "Number of Heads are:  -5.0991\n"
     ]
    }
   ],
   "source": [
    "import random, pylab\n",
    "import numpy as np\n",
    "\n",
    "nrun=1000000\n",
    "\n",
    "win_tot=0\n",
    "\n",
    "\n",
    "for _ in range(1,nrun):\n",
    "    buck_n=np.random.randint(1,37)\n",
    "    a=np.random.randint(1,35)\n",
    "    \n",
    "    if a==buck_n:\n",
    "        win_tot = win_tot+33\n",
    "    else:\n",
    "        win_tot =win_tot-1\n",
    "\n",
    "print('Number of Heads are: ', win_tot/nrun*100)\n",
    "        "
   ]
  },
  {
   "cell_type": "code",
   "execution_count": null,
   "metadata": {},
   "outputs": [],
   "source": []
  }
 ],
 "metadata": {
  "anaconda-cloud": {},
  "kernelspec": {
   "display_name": "Python 3",
   "language": "python",
   "name": "python3"
  },
  "language_info": {
   "codemirror_mode": {
    "name": "ipython",
    "version": 3
   },
   "file_extension": ".py",
   "mimetype": "text/x-python",
   "name": "python",
   "nbconvert_exporter": "python",
   "pygments_lexer": "ipython3",
   "version": "3.7.1"
  }
 },
 "nbformat": 4,
 "nbformat_minor": 2
}
