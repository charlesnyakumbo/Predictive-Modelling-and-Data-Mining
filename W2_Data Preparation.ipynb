{
 "cells": [
  {
   "cell_type": "markdown",
   "metadata": {},
   "source": [
    "# <center> Week 2: Data Preparation </center>\n",
    "\n"
   ]
  },
  {
   "cell_type": "markdown",
   "metadata": {},
   "source": [
    "## Learning Objectives \n",
    "\n",
    "* What is data preparation? \n",
    "* How we can prepare data in Python? \n"
   ]
  },
  {
   "cell_type": "markdown",
   "metadata": {},
   "source": [
    "[For online lab click here](https://mybinder.org/v2/gh/jupyterlab/jupyterlab-demo/master?urlpath=lab/tree/demo/Lorenz.ipynb)"
   ]
  },
  {
   "cell_type": "markdown",
   "metadata": {},
   "source": [
    "## Importing data\n",
    "<center> <img src=\"Figs/DataImport.PNG\" height=\"150\" width=\"300\"> </center>\n",
    "\n",
    "#### 1- From files [(To learn more, click here)](https://www.py4e.com/lessons/files)\n",
    "#### 2- From database [(To learn more, click here)](https://www.py4e.com/lessons/json)\n",
    "#### 3- From Internet [(To learn more, click here)](https://www.py4e.com/lessons/servces)\n"
   ]
  },
  {
   "cell_type": "markdown",
   "metadata": {},
   "source": [
    "### Reading CSV files:\n",
    "\n"
   ]
  },
  {
   "cell_type": "markdown",
   "metadata": {},
   "source": [
    "## Data Visualization\n",
    "<center> <img src=\"Figs/seaborn_pairplot-1.png\" height=\"150\" width=\"300\">> </center>\n",
    "\n",
    "* pd.df.Value_counts()\n",
    "* pd.df.describe()\n",
    "* pd.df.info()\n",
    "\n"
   ]
  },
  {
   "cell_type": "code",
   "execution_count": null,
   "metadata": {},
   "outputs": [],
   "source": []
  },
  {
   "cell_type": "markdown",
   "metadata": {},
   "source": [
    "## Data Cleaning:\n",
    "<center> <img src=\"Figs/DataCleaning.PNG\"> </center>\n",
    "\n",
    "* Checking data format\n",
    "* Handling missing data\n",
    "* Removing anomalies \n",
    "\n"
   ]
  },
  {
   "cell_type": "code",
   "execution_count": null,
   "metadata": {},
   "outputs": [],
   "source": []
  }
 ],
 "metadata": {
  "kernelspec": {
   "display_name": "Python 3",
   "language": "python",
   "name": "python3"
  },
  "language_info": {
   "codemirror_mode": {
    "name": "ipython",
    "version": 3
   },
   "file_extension": ".py",
   "mimetype": "text/x-python",
   "name": "python",
   "nbconvert_exporter": "python",
   "pygments_lexer": "ipython3",
   "version": "3.6.3"
  }
 },
 "nbformat": 4,
 "nbformat_minor": 2
}
