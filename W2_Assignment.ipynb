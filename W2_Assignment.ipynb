{
 "cells": [
  {
   "cell_type": "markdown",
   "metadata": {},
   "source": [
    "# Assignment 2: \n",
    "### Data cleaning, preparation and transformation on Titanic dataset\n",
    "\n",
    "The purpose of this assignment is practice data preparation in Python.\n",
    "This assignment provides you with an opportunity to demonstrate the achievement of the following course learning outcomes:\n",
    "\n",
    "\n",
    "- Understand key data preparation steps \n",
    "- Be able to manipulate data in Python \n",
    "- Know most essential Python libraries and functions\n",
    "\n",
    "\n",
    "### Key Information\n",
    "- **Type:** Individual\n",
    "- **Weight:** 6.5%\n",
    "- **Delivery:** Course website upload\n",
    "- **Due Date:** 29/01/2019\n"
   ]
  },
  {
   "cell_type": "markdown",
   "metadata": {},
   "source": [
    "**1- Download Titanic dataset from Avenue to Learn**"
   ]
  },
  {
   "cell_type": "markdown",
   "metadata": {},
   "source": [
    "**2- Manually delete values from several cells, save file locally and explore in Python** "
   ]
  },
  {
   "cell_type": "markdown",
   "metadata": {},
   "source": [
    "**Apply following data preparation rules**"
   ]
  },
  {
   "cell_type": "markdown",
   "metadata": {},
   "source": [
    "**For more references you may study** </br>\n",
    "1- https://docs.python.org, </br>\n",
    "2- https://matplotlib.org/ </br>\n",
    "3- https://pandas.pydata.org/pandas-docs/stable/\n",
    "\n"
   ]
  },
  {
   "cell_type": "markdown",
   "metadata": {},
   "source": [
    "**3- Drop the columns where all elements are missing values.** </br>\n",
    " hint: df.dropna(how='all’)"
   ]
  },
  {
   "cell_type": "code",
   "execution_count": 1,
   "metadata": {},
   "outputs": [],
   "source": [
    "# Write your code here\n"
   ]
  },
  {
   "cell_type": "markdown",
   "metadata": {},
   "source": [
    "**4- Drop the columns where any of the elements are missing values.** </br>\n",
    " Hint: df.dropna(how='???')\n"
   ]
  },
  {
   "cell_type": "code",
   "execution_count": 2,
   "metadata": {},
   "outputs": [],
   "source": [
    "## Write your code here\n"
   ]
  },
  {
   "cell_type": "markdown",
   "metadata": {},
   "source": [
    "**5- Keep only the rows which contain 2 missing values maximum.** </br>\n",
    "hint: df.dropna(thresh=???)\n",
    " "
   ]
  },
  {
   "cell_type": "code",
   "execution_count": 30,
   "metadata": {},
   "outputs": [],
   "source": [
    "# Write your code here\n",
    "\n"
   ]
  },
  {
   "cell_type": "markdown",
   "metadata": {},
   "source": [
    "**6- Fill all missing values with the mean of the particular column.** </br>\n",
    "Hint: df.fillna(df.mean())\n",
    " "
   ]
  },
  {
   "cell_type": "code",
   "execution_count": 5,
   "metadata": {},
   "outputs": [],
   "source": [
    "# Write your code here\n"
   ]
  },
  {
   "cell_type": "markdown",
   "metadata": {},
   "source": [
    "**7- Fill any missing value in column 'A' with the column median.** </br>\n",
    "Hint: df['A'].fillna(???)\n",
    "\n"
   ]
  },
  {
   "cell_type": "code",
   "execution_count": 3,
   "metadata": {},
   "outputs": [],
   "source": [
    "## Write your code here\n"
   ]
  },
  {
   "cell_type": "markdown",
   "metadata": {},
   "source": [
    "**Look at the statistical summary of the prepared dataset.** </br> \n",
    "Use: print( df.describe() )\n"
   ]
  },
  {
   "cell_type": "markdown",
   "metadata": {},
   "source": [
    "**8- Look at the statistical summary for categorical variables.** </br>\n",
    "Hint: </br>\n",
    "**First** get the categorical columns (categorical = df.dtypes[df.dtypes == ???].index) </br>\n",
    "**Then** describe it (describe())\n",
    "\n"
   ]
  },
  {
   "cell_type": "code",
   "execution_count": 14,
   "metadata": {},
   "outputs": [],
   "source": [
    "## Write your code here\n"
   ]
  },
  {
   "cell_type": "markdown",
   "metadata": {},
   "source": [
    "**9- Transform one of the categorical variables into numerical using label encoder method.**  \n",
    "\n"
   ]
  },
  {
   "cell_type": "code",
   "execution_count": 16,
   "metadata": {},
   "outputs": [],
   "source": [
    "## Write your code here\n"
   ]
  },
  {
   "cell_type": "markdown",
   "metadata": {},
   "source": [
    "**10- Transform gender into numerical variable using one-hot coding.**\n",
    "\n"
   ]
  },
  {
   "cell_type": "code",
   "execution_count": 22,
   "metadata": {},
   "outputs": [],
   "source": [
    "## Write your code here\n"
   ]
  },
  {
   "cell_type": "code",
   "execution_count": null,
   "metadata": {},
   "outputs": [],
   "source": []
  }
 ],
 "metadata": {
  "kernelspec": {
   "display_name": "Python 3",
   "language": "python",
   "name": "python3"
  },
  "language_info": {
   "codemirror_mode": {
    "name": "ipython",
    "version": 3
   },
   "file_extension": ".py",
   "mimetype": "text/x-python",
   "name": "python",
   "nbconvert_exporter": "python",
   "pygments_lexer": "ipython3",
   "version": "3.6.3"
  }
 },
 "nbformat": 4,
 "nbformat_minor": 2
}
