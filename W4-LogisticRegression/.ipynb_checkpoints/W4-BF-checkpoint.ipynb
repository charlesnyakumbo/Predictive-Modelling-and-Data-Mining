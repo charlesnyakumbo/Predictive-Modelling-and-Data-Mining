{
 "cells": [
  {
   "cell_type": "markdown",
   "metadata": {
    "_cell_guid": "cb19f71d-51c8-417f-829e-3179d3319dcd",
    "_uuid": "c3b9226e142667d6b96e34daf7d6e42bea0ea1e2"
   },
   "source": [
    "# W4- Logistic Regression\n",
    "\n",
    "Logistic Regression is one of the classification methods that uses sigmoid hypothesis function. \n",
    "\n",
    "In the following sections we will first prepare the data for sklearn and then we will use LogisticRegression method available in sklearn to fit the parameters of the hypothesis function (Figure below).\n",
    "\n",
    "![LogisticRegression](https://i.imgur.com/qLJkYLd.png)\n",
    "\n",
    "\n",
    "1. [Import Python Packages and \"Titanic.csv\" file from data folder.](#t1.)\n",
    "\n",
    "\n",
    "2. [Assess Data Quality & Missing Values](#t2.)\n",
    "    * 2.1. [Age - Missing Values](#t2.1.)\n",
    "    * 2.2. [Cabin - Missing Values](#t2.2.)\n",
    "    * 2.3. [Embarked - Missing Values](#t2.3.)\n",
    "    * 2.4. [Final Adjustments to Data](#t2.4.)\n",
    "    \n",
    "        \n",
    "3. [Exploratory Data Analysis](#t3.)\n",
    "    * 3.1. [Exploration of Age](#t3.1.)\n",
    "    * 3.2. [Exploration of Fare](#t3.2.)\n",
    "    * 3.3. [Exploration of Passenger Class](#t3.3.)\n",
    "    * 3.4. [Exploration of Embarked Port](#t3.4.)\n",
    "    * 3.5. [Exploration of Traveling Alone vs. With Family](#t3.5.)\n",
    "    * 3.6. [Exploration of Gender Variable](#t3.6.)\n",
    "\n",
    "\n",
    "\n",
    "4. [Logistic Regression and Results](#t4.)\n",
    "    * 4.1. [Feature selection (Manual)](#t4.1.)\n",
    "    * 4.2. [Feature selection with Recursive feature elimination (RFE)](#t4.2.)\n",
    "    * 4.3. [Finding optimal number of features with RFECV](#t4.3.)\n",
    "    "
   ]
  },
  {
   "cell_type": "markdown",
   "metadata": {
    "_cell_guid": "33c91cae-2ff8-45a6-b8cb-671619e9c933",
    "_uuid": "0a395fd25f20834b070ef55cb8987c8c1f9b55f9"
   },
   "source": [
    "<a id=\"t1.\"></a>\n",
    "## 1. Import Python Packages and \"Titanic.csv\" file from data folder."
   ]
  },
  {
   "cell_type": "code",
   "execution_count": 2,
   "metadata": {
    "_cell_guid": "de05512e-6991-44df-9599-da92a7e459ac",
    "_uuid": "d8bdd5f0320e244e4702ed8ec1c2482b022c51cd"
   },
   "outputs": [],
   "source": [
    "\n",
    "import numpy as np \n",
    "import pandas as pd \n",
    "\n",
    "from sklearn import preprocessing\n",
    "import matplotlib.pyplot as plt \n",
    "\n",
    "import seaborn as sns\n"
   ]
  },
  {
   "cell_type": "code",
   "execution_count": 3,
   "metadata": {
    "_cell_guid": "e0a17223-f682-45fc-89a5-667af9782bbe",
    "_uuid": "7964157913fbcff581fc1929eed487708e81ac9c"
   },
   "outputs": [
    {
     "data": {
      "text/html": [
       "<div>\n",
       "<style scoped>\n",
       "    .dataframe tbody tr th:only-of-type {\n",
       "        vertical-align: middle;\n",
       "    }\n",
       "\n",
       "    .dataframe tbody tr th {\n",
       "        vertical-align: top;\n",
       "    }\n",
       "\n",
       "    .dataframe thead th {\n",
       "        text-align: right;\n",
       "    }\n",
       "</style>\n",
       "<table border=\"1\" class=\"dataframe\">\n",
       "  <thead>\n",
       "    <tr style=\"text-align: right;\">\n",
       "      <th></th>\n",
       "      <th>PassengerId</th>\n",
       "      <th>Survived</th>\n",
       "      <th>Pclass</th>\n",
       "      <th>Name</th>\n",
       "      <th>Sex</th>\n",
       "      <th>Age</th>\n",
       "      <th>SibSp</th>\n",
       "      <th>Parch</th>\n",
       "      <th>Ticket</th>\n",
       "      <th>Fare</th>\n",
       "      <th>Cabin</th>\n",
       "      <th>Embarked</th>\n",
       "    </tr>\n",
       "  </thead>\n",
       "  <tbody>\n",
       "    <tr>\n",
       "      <th>0</th>\n",
       "      <td>1</td>\n",
       "      <td>0</td>\n",
       "      <td>3</td>\n",
       "      <td>Braund, Mr. Owen Harris</td>\n",
       "      <td>male</td>\n",
       "      <td>22.0</td>\n",
       "      <td>1</td>\n",
       "      <td>0</td>\n",
       "      <td>A/5 21171</td>\n",
       "      <td>7.2500</td>\n",
       "      <td>NaN</td>\n",
       "      <td>S</td>\n",
       "    </tr>\n",
       "    <tr>\n",
       "      <th>1</th>\n",
       "      <td>2</td>\n",
       "      <td>1</td>\n",
       "      <td>1</td>\n",
       "      <td>Cumings, Mrs. John Bradley (Florence Briggs Th...</td>\n",
       "      <td>female</td>\n",
       "      <td>38.0</td>\n",
       "      <td>1</td>\n",
       "      <td>0</td>\n",
       "      <td>PC 17599</td>\n",
       "      <td>71.2833</td>\n",
       "      <td>C85</td>\n",
       "      <td>C</td>\n",
       "    </tr>\n",
       "    <tr>\n",
       "      <th>2</th>\n",
       "      <td>3</td>\n",
       "      <td>1</td>\n",
       "      <td>3</td>\n",
       "      <td>Heikkinen, Miss. Laina</td>\n",
       "      <td>female</td>\n",
       "      <td>26.0</td>\n",
       "      <td>0</td>\n",
       "      <td>0</td>\n",
       "      <td>STON/O2. 3101282</td>\n",
       "      <td>7.9250</td>\n",
       "      <td>NaN</td>\n",
       "      <td>S</td>\n",
       "    </tr>\n",
       "    <tr>\n",
       "      <th>3</th>\n",
       "      <td>4</td>\n",
       "      <td>1</td>\n",
       "      <td>1</td>\n",
       "      <td>Futrelle, Mrs. Jacques Heath (Lily May Peel)</td>\n",
       "      <td>female</td>\n",
       "      <td>35.0</td>\n",
       "      <td>1</td>\n",
       "      <td>0</td>\n",
       "      <td>113803</td>\n",
       "      <td>53.1000</td>\n",
       "      <td>C123</td>\n",
       "      <td>S</td>\n",
       "    </tr>\n",
       "    <tr>\n",
       "      <th>4</th>\n",
       "      <td>5</td>\n",
       "      <td>0</td>\n",
       "      <td>3</td>\n",
       "      <td>Allen, Mr. William Henry</td>\n",
       "      <td>male</td>\n",
       "      <td>35.0</td>\n",
       "      <td>0</td>\n",
       "      <td>0</td>\n",
       "      <td>373450</td>\n",
       "      <td>8.0500</td>\n",
       "      <td>NaN</td>\n",
       "      <td>S</td>\n",
       "    </tr>\n",
       "  </tbody>\n",
       "</table>\n",
       "</div>"
      ],
      "text/plain": [
       "   PassengerId  Survived  Pclass  \\\n",
       "0            1         0       3   \n",
       "1            2         1       1   \n",
       "2            3         1       3   \n",
       "3            4         1       1   \n",
       "4            5         0       3   \n",
       "\n",
       "                                                Name     Sex   Age  SibSp  \\\n",
       "0                            Braund, Mr. Owen Harris    male  22.0      1   \n",
       "1  Cumings, Mrs. John Bradley (Florence Briggs Th...  female  38.0      1   \n",
       "2                             Heikkinen, Miss. Laina  female  26.0      0   \n",
       "3       Futrelle, Mrs. Jacques Heath (Lily May Peel)  female  35.0      1   \n",
       "4                           Allen, Mr. William Henry    male  35.0      0   \n",
       "\n",
       "   Parch            Ticket     Fare Cabin Embarked  \n",
       "0      0         A/5 21171   7.2500   NaN        S  \n",
       "1      0          PC 17599  71.2833   C85        C  \n",
       "2      0  STON/O2. 3101282   7.9250   NaN        S  \n",
       "3      0            113803  53.1000  C123        S  \n",
       "4      0            373450   8.0500   NaN        S  "
      ]
     },
     "execution_count": 3,
     "metadata": {},
     "output_type": "execute_result"
    }
   ],
   "source": [
    "# Read CSV file into DataFrame\n",
    "train_df = pd.read_table(\"data/Titanic.csv\", sep=',')\n",
    "\n",
    "train_df.head()"
   ]
  },
  {
   "cell_type": "code",
   "execution_count": 4,
   "metadata": {
    "_uuid": "1b35474408f35d3be5afaf43022f84b7b54850e0"
   },
   "outputs": [
    {
     "data": {
      "text/plain": [
       "(891, 12)"
      ]
     },
     "execution_count": 4,
     "metadata": {},
     "output_type": "execute_result"
    }
   ],
   "source": [
    "train_df.shape"
   ]
  },
  {
   "cell_type": "code",
   "execution_count": 5,
   "metadata": {
    "_cell_guid": "872d0de9-a873-4b60-b1ee-d557ee39d8a1",
    "_uuid": "d38222a64d4dfd1d1ee1a7ee1f58c4aa54560de3"
   },
   "outputs": [
    {
     "name": "stdout",
     "output_type": "stream",
     "text": [
      "The number of samples into the train data:  891\n"
     ]
    }
   ],
   "source": [
    "print('The number of samples into the train data: ', train_df.shape[0])"
   ]
  },
  {
   "cell_type": "markdown",
   "metadata": {
    "_cell_guid": "6578c0da-7bcf-433d-9f28-a66d8dfa6fa3",
    "_uuid": "8660e63a62c2fcdb4f7633380166438caf5edae9"
   },
   "source": [
    "<a id=\"t2.\"></a>\n",
    "## 2. Data Quality & Missing Value Assessment\n",
    "\n",
    "**Check missing values in train data**\n"
   ]
  },
  {
   "cell_type": "code",
   "execution_count": null,
   "metadata": {
    "_cell_guid": "29dddd33-d995-4b0f-92ea-a361b368cc42",
    "_uuid": "d4fe22ead7e187724ca6f3ba7ba0e6412ae0e874"
   },
   "outputs": [],
   "source": []
  },
  {
   "cell_type": "markdown",
   "metadata": {
    "_cell_guid": "7776faeb-6a8f-4460-a367-4b087d2cc089",
    "_uuid": "696b428bd3ca49421f650665267ce7ca1b358814"
   },
   "source": [
    "<a id=\"t2.1.\"></a>\n",
    "### 2.1.    Age - Missing Values"
   ]
  },
  {
   "cell_type": "markdown",
   "metadata": {
    "_cell_guid": "951f7bb8-779c-4eac-85a2-3fdcfdcd293e",
    "_uuid": "c8fff460fb532a063f6944450809014ca831ca52"
   },
   "source": [
    "* Plot kernel density estimation and histogram of Age (distplot).\n",
    "* What is the mean and median of Age?\n",
    "* Which one is better to impute the missing values (mean or median)?"
   ]
  },
  {
   "cell_type": "code",
   "execution_count": null,
   "metadata": {},
   "outputs": [],
   "source": []
  },
  {
   "cell_type": "code",
   "execution_count": null,
   "metadata": {
    "_cell_guid": "1d70c27b-1e4d-4d5e-8a39-c134389d436c",
    "_uuid": "4f13840d4f9bf1b4331523c99274aa0627485e6c"
   },
   "outputs": [],
   "source": []
  },
  {
   "cell_type": "code",
   "execution_count": null,
   "metadata": {
    "_uuid": "ee129521a1976c4c7647bc0de0d9c48e4aacc93f"
   },
   "outputs": [],
   "source": [
    "train_data = train_df.copy()\n",
    "\n"
   ]
  },
  {
   "cell_type": "markdown",
   "metadata": {
    "_cell_guid": "dea7b01c-c8c1-401f-a336-36ee73de2222",
    "_uuid": "e1a08114e302ddc90266e5f065b3f0b5a200bc89"
   },
   "source": [
    "<a id=\"t2.2.\"></a>\n",
    "### 2.2. Cabin - Missing Values"
   ]
  },
  {
   "cell_type": "markdown",
   "metadata": {
    "_cell_guid": "eda8c434-63ff-4875-8566-2e194c0d3f66",
    "_uuid": "b6e037c7ac5ec476516031a06b042d8b9999ba44"
   },
   "source": [
    "77% of records are missing, which means that imputing information and using this variable for prediction is probably not wise.  We'll ignore this variable in our model."
   ]
  },
  {
   "cell_type": "code",
   "execution_count": null,
   "metadata": {
    "_uuid": "cd19fc2a1740dd476f93ffea98971b96c0a9361f"
   },
   "outputs": [],
   "source": []
  },
  {
   "cell_type": "markdown",
   "metadata": {
    "_cell_guid": "0e696cff-ca80-4cb5-862c-ee80f4b1ab1f",
    "_uuid": "d575319b1f528c7a153d8ab680282048cb163b14"
   },
   "source": [
    "<a id=\"t2.3.\"></a>\n",
    "### 2.3. Embarked - Missing Values"
   ]
  },
  {
   "cell_type": "markdown",
   "metadata": {
    "_cell_guid": "d03a4187-c527-4f71-8260-0495f4523e9e",
    "_uuid": "dc97b80524057522f024d0ae6f1abe77cb994903"
   },
   "source": [
    "There are only 2 (0.22%) missing values for \"Embarked\", so we can just impute with the port where most people boarded."
   ]
  },
  {
   "cell_type": "code",
   "execution_count": null,
   "metadata": {
    "_cell_guid": "22924bc4-5dfa-4df7-b0d0-de3ede9c58b7",
    "_uuid": "f2a915f45264f8a580de6cc382d96b370eb75730"
   },
   "outputs": [],
   "source": []
  },
  {
   "cell_type": "code",
   "execution_count": null,
   "metadata": {
    "_cell_guid": "bc0d7121-1008-4890-9043-07eba1524e15",
    "_uuid": "feeed4b6775f88edf5de12b0ee6ee73c16eba61d"
   },
   "outputs": [],
   "source": []
  },
  {
   "cell_type": "markdown",
   "metadata": {},
   "source": [
    "#### Check missing values in adjusted train data."
   ]
  },
  {
   "cell_type": "code",
   "execution_count": null,
   "metadata": {
    "_cell_guid": "0cfe1c08-71a6-493e-803d-db255af01697",
    "_uuid": "d6be29651bb903964e02d3a7bcc7033513eb76c9"
   },
   "outputs": [],
   "source": []
  },
  {
   "cell_type": "markdown",
   "metadata": {},
   "source": [
    "**Plot density function of raw and adjusted \"Age\".**"
   ]
  },
  {
   "cell_type": "code",
   "execution_count": null,
   "metadata": {},
   "outputs": [],
   "source": []
  },
  {
   "cell_type": "markdown",
   "metadata": {
    "_cell_guid": "6925fcc2-977b-4369-85e1-77a9210326a7",
    "_uuid": "d8280757e6bc627821fb0540c87ccd6ca110f1e0"
   },
   "source": [
    "<a id=\"t2.4.\"></a>\n",
    "### 2.4. Final Adjustments"
   ]
  },
  {
   "cell_type": "markdown",
   "metadata": {
    "_cell_guid": "5cf98f33-fdd5-4a16-b6bf-fa36bc8b84e0",
    "_uuid": "3bfdee842f11d27ca490f466c45ef9bf3673e7ae"
   },
   "source": [
    "Note: \n",
    "\n",
    "**SibSp:** Number of Siblings/Spouses Aboard. </br>\n",
    "**Parch** Number of Parents/Children Aboard.\n",
    "\n",
    "1. Combine the effect of these variables into a categorical predictor that shows 1 for traveling alone and 0 if not (use **where** method of numpy).\n",
    "\n",
    "1. Drop the old predictors. "
   ]
  },
  {
   "cell_type": "code",
   "execution_count": 30,
   "metadata": {
    "_cell_guid": "759c3c8e-8db6-41d9-a1a2-058a15b338a6",
    "_uuid": "d1f5815ba663f7e8cc17d7efcff73653af5b1bdb"
   },
   "outputs": [],
   "source": [
    "## Create categorical variable for traveling alone\n"
   ]
  },
  {
   "cell_type": "markdown",
   "metadata": {
    "_cell_guid": "e4a22367-b719-4204-952f-d2e9a3b8075e",
    "_uuid": "ca53796bf788bd3b015f1a79a97e050bafa2c770"
   },
   "source": [
    "**Create categorical variables for Passenger Class (\"Pclass\"), Gender (\"Sex\"), and Port Embarked (\"Embarked\")**. \n",
    "\n",
    "1. Use get_dummies of Pandas.\n",
    "1. Drop Ticket, Sex_female, PassengerId, Name."
   ]
  },
  {
   "cell_type": "code",
   "execution_count": 31,
   "metadata": {
    "_cell_guid": "f95361e8-2533-4731-a7ab-a99cf686ed50",
    "_uuid": "4494fcbf9faa90151e20042f74d73395fac3cc8e"
   },
   "outputs": [],
   "source": [
    "#create categorical variables and drop some variables\n",
    "\n"
   ]
  },
  {
   "cell_type": "markdown",
   "metadata": {
    "_cell_guid": "1430d510-1c8d-4544-8009-3911fff7afbb",
    "_uuid": "4e26c19bf719b7086addc0e1981c00836a19f189"
   },
   "source": [
    "<a id=\"t3.\"></a>\n",
    "## 3. Exploratory Data Analysis"
   ]
  },
  {
   "cell_type": "markdown",
   "metadata": {
    "_cell_guid": "2655428b-d69d-4c0f-85ff-e31ada8e37b9",
    "_uuid": "32e9c04a3281fb1aa8c77e1406c56cd820459202"
   },
   "source": [
    "<a id=\"t3.1.\"></a>\n",
    "### 3.1. Exploration of Age\n",
    "\n",
    "* Plot kernel density estimation of Age for both \"Survived\" and \"Died\"\n",
    "* Which age range survived more?\n",
    "* Create extra (binary) feature for this range."
   ]
  },
  {
   "cell_type": "code",
   "execution_count": null,
   "metadata": {
    "_cell_guid": "9f9ca9e5-50a0-4487-ba53-815dda90af1c",
    "_uuid": "790e8d7ca89d19e276b3398e299c42893a796b79"
   },
   "outputs": [],
   "source": [
    "\n"
   ]
  },
  {
   "cell_type": "code",
   "execution_count": 32,
   "metadata": {
    "_cell_guid": "1655b49b-b33f-4236-8b31-d995ef26c6f6",
    "_uuid": "8918defa6e17b83c700ea45357ebd67a3a22f02f"
   },
   "outputs": [],
   "source": [
    "# Add extra column for age under 16\n"
   ]
  },
  {
   "cell_type": "markdown",
   "metadata": {
    "_cell_guid": "a643b196-91c6-4b12-9463-0f984fbfc91a",
    "_uuid": "337b3ced0c6423cf1d126f23a7e60c0181af6a47"
   },
   "source": [
    "<a id=\"t3.2.\"></a>\n",
    "### 3.2. Exploration of Fare\n",
    "\n",
    "* Plot kernel density estimation of Fare for both \"Survived\" and \"Died\"\n",
    "* Which Fare range survived more?\n"
   ]
  },
  {
   "cell_type": "code",
   "execution_count": 20,
   "metadata": {
    "_cell_guid": "9f31ffe1-7cd8-4169-b193-ed44e56d0bd4",
    "_uuid": "4a1c521f08460f6983eca0c4e01294fb7c86e4f9"
   },
   "outputs": [
    {
     "data": {
      "image/png": "[encoded data removed]",
      "text/plain": [
       "<Figure size 1080x576 with 1 Axes>"
      ]
     },
     "metadata": {},
     "output_type": "display_data"
    }
   ],
   "source": [
    "plt.figure(figsize=(15,8))\n",
    "\n",
    "sns.distplot(final_train[\"Fare\"][final_train.Survived == 1], hist=False, label='Survived')\n",
    "sns.distplot(final_train[\"Fare\"][final_train.Survived == 0], hist=False, label='Died')\n",
    "\n",
    "plt.legend()\n",
    "plt.title('Density Plot of Fare for Surviving Population and Deceased Population')\n",
    "plt.xlabel('Fare')\n",
    "plt.xlim(-20,200)\n",
    "\n",
    "plt.show()"
   ]
  },
  {
   "cell_type": "markdown",
   "metadata": {
    "_cell_guid": "cf585311-4029-4be4-8af2-3eea8258801a",
    "_uuid": "4524affda51265ea23fa923e2ea7f93d7bb91875"
   },
   "source": [
    "<a id=\"t3.3.\"></a>\n",
    "### 3.3. Exploration of Passenger Class\n",
    "\n",
    "**How being in different class ('Pclass') effects survival rate?**\n",
    "\n",
    "Use barplot of seaborn.\n",
    "\n",
    "Statistically, the difference between which groups are significant?\n",
    "\n"
   ]
  },
  {
   "cell_type": "code",
   "execution_count": null,
   "metadata": {
    "_cell_guid": "676548e8-6dd4-4180-800c-7b164acb3877",
    "_uuid": "08fd677214959e0b938a0f8a94b63ab548673ea5"
   },
   "outputs": [],
   "source": []
  },
  {
   "cell_type": "markdown",
   "metadata": {
    "_cell_guid": "c59f8e8f-e8c2-40fb-b9c8-12dddd6d318f",
    "_uuid": "2fc06b75321946b721852f78431435f9ba5fef39"
   },
   "source": [
    "<a id=\"t3.4.\"></a>\n",
    "### 3.4. Exploration of Embarked Port\n",
    "\n",
    "**How embarked port, effects the survival rate?**"
   ]
  },
  {
   "cell_type": "code",
   "execution_count": 22,
   "metadata": {
    "_cell_guid": "6e5bec50-2f5e-433e-9130-c56956fddad3",
    "_uuid": "a9f0598701c7c5224eaa73dafa869af73beffe18"
   },
   "outputs": [
    {
     "data": {
      "image/png": "[encoded data removed]",
      "text/plain": [
       "<Figure size 432x288 with 1 Axes>"
      ]
     },
     "metadata": {},
     "output_type": "display_data"
    }
   ],
   "source": [
    "sns.barplot('Embarked', 'Survived', data=train_df, color=\"teal\")\n",
    "plt.show()"
   ]
  },
  {
   "cell_type": "markdown",
   "metadata": {
    "_cell_guid": "88d78820-35a5-48fd-a234-9f3ca3fca779",
    "_uuid": "2f6a0329cf0c7b771a707ec790efc065924e1ee2"
   },
   "source": [
    "Passengers who boarded in Cherbourg, France, appear to have the highest survival rate.  Passengers who boarded in Southhampton were marginally less likely to survive than those who boarded in Queenstown.  This is probably related to passenger class, or maybe even the order of room assignments (e.g. maybe earlier passengers were more likely to have rooms closer to deck). <br> It's also worth noting the size of the whiskers in these plots.  Because the number of passengers who boarded at Southhampton was highest, the confidence around the survival rate is the highest.  The whisker of the Queenstown plot includes the Southhampton average, as well as the lower bound of its whisker.  It's possible that Queenstown passengers were equally, or even more, ill-fated than their Southhampton counterparts."
   ]
  },
  {
   "cell_type": "markdown",
   "metadata": {
    "_cell_guid": "9e6dc87e-ba59-4004-8145-79709328fe27",
    "_uuid": "92bacce85a7dec5509217b9570bc2a2fea6a8452"
   },
   "source": [
    "<a id=\"t3.5.\"></a>\n",
    "### 3.5. Exploration of Traveling Alone vs. With Family"
   ]
  },
  {
   "cell_type": "code",
   "execution_count": 23,
   "metadata": {
    "_cell_guid": "67017a88-93d4-412b-9adf-8b4d1d9b9db0",
    "_uuid": "e0c3dc16292ef0bcabf0fc680d821ef654084ab4"
   },
   "outputs": [
    {
     "data": {
      "image/png": "[encoded data removed]",
      "text/plain": [
       "<Figure size 432x288 with 1 Axes>"
      ]
     },
     "metadata": {},
     "output_type": "display_data"
    }
   ],
   "source": [
    "sns.barplot('Isalone', 'Survived', data=final_train, color=\"mediumturquoise\")\n",
    "plt.show()"
   ]
  },
  {
   "cell_type": "markdown",
   "metadata": {
    "_cell_guid": "e9e68cef-5e74-46aa-8343-39afbbf00efe",
    "_uuid": "f160bd7399e024ae669d55f09caf6e7902768851"
   },
   "source": [
    "Individuals traveling without family were more likely to die in the disaster than those with family aboard. Given the era, it's likely that individuals traveling alone were likely male."
   ]
  },
  {
   "cell_type": "markdown",
   "metadata": {
    "_cell_guid": "201b4c9d-b9f0-4ae9-8580-0b4e24ee62be",
    "_uuid": "693c25c25f3590f0b027725471ddd74d56f154af"
   },
   "source": [
    "<a id=\"t3.6.\"></a>\n",
    "### 3.6. Exploration of Gender Variable"
   ]
  },
  {
   "cell_type": "code",
   "execution_count": 24,
   "metadata": {
    "_cell_guid": "7b416e59-8616-4a44-93e1-a8005eff78a9",
    "_uuid": "354794315925dff1e96229cc737eaf299aaea17a"
   },
   "outputs": [
    {
     "data": {
      "image/png": "[encoded data removed]",
      "text/plain": [
       "<Figure size 432x288 with 1 Axes>"
      ]
     },
     "metadata": {},
     "output_type": "display_data"
    }
   ],
   "source": [
    "sns.barplot('Sex', 'Survived', data=train_df)\n",
    "plt.show()"
   ]
  },
  {
   "cell_type": "markdown",
   "metadata": {
    "_cell_guid": "490ed298-f0e4-466b-acc8-81280315e6a2",
    "_uuid": "80c02b9fe2151c443f189cbe44c9cacf7e5c44a4"
   },
   "source": [
    "This is a very obvious difference.  Clearly being female greatly increased your chances of survival."
   ]
  },
  {
   "cell_type": "markdown",
   "metadata": {
    "_cell_guid": "c833cbf5-74db-44ff-90fa-b600ff0a09d7",
    "_uuid": "39dbc095f99dcec6d25a7a4561e81bb641078622"
   },
   "source": [
    "<a id=\"t4.\"></a>\n",
    "# 4. Logistic Regression and Results"
   ]
  },
  {
   "cell_type": "markdown",
   "metadata": {},
   "source": [
    "<a id=\"t4.1.\"></a>\n",
    "### 4.1. Feature selection (manual)\n",
    "\n",
    "**Steps:**\n",
    "\n",
    "1. Split the selected features so far as X and target as y.\n",
    "1. Use train_test_split available in model_selection and create X_train, y_train, ...\n",
    "1. Use LogisticRegression available in linear_model to fit X_train to y_train.\n",
    "1. Print the coef_ of trained model and specify the least important feature. \n",
    "1. Eliminate this feature and train another model to see the next least important feature. \n",
    "1. Continue this process until you rank the importance of all features"
   ]
  },
  {
   "cell_type": "code",
   "execution_count": 25,
   "metadata": {},
   "outputs": [
    {
     "data": {
      "text/plain": [
       "array([[-2.39935167e-02,  1.82511289e-03,  7.54042430e-02,\n",
       "         1.99164032e+00,  1.24420064e+00,  9.58792483e-02,\n",
       "        -3.74104634e-01, -2.50881032e+00,  5.91755568e-01]])"
      ]
     },
     "execution_count": 25,
     "metadata": {},
     "output_type": "execute_result"
    }
   ],
   "source": [
    "cols = [\"Age\",\"Fare\",\"Isalone\",\"Pclass_1\",\"Pclass_2\",\"Embarked_C\",\"Embarked_S\",\"Sex_male\",\"Isminor\"] \n",
    "\n"
   ]
  },
  {
   "cell_type": "markdown",
   "metadata": {
    "_cell_guid": "b70cda8a-e8d9-44a6-b9f0-2b365fdf3428",
    "_uuid": "136cf9e02ea1ab48a397f534b491fb2d9dbb5684"
   },
   "source": [
    "<a id=\"t4.2.\"></a>\n",
    "### 4.2. Feature selection with recursive feature elimination [RFE](https://scikit-learn.org/stable/modules/generated/sklearn.feature_selection.RFE.html#sklearn.feature_selection.RFE)\n",
    "\n",
    "Recursive feature elimination (RFE) selects features by recursively eliminating least important features.\n",
    "\n",
    "**Algorithm:**\n",
    "\n",
    "1. Train the estimator (any clf or rgr) on the initial set of features.\n",
    "1. Obtain the importance of each feature through a `coef_ attribute` or through a `feature_importances_` attribute.\n",
    "1. Prune the least important feature and train the estimator on the remaining set of features.\n",
    "1. Go to step 1 (until you have desired number of features)\n",
    "\n",
    "\n",
    "\n",
    "#### Using RFE, select top 8 features for training. "
   ]
  },
  {
   "cell_type": "code",
   "execution_count": 26,
   "metadata": {
    "_cell_guid": "11a2a468-20df-40cd-a4ba-4ae7bd2fc403",
    "_uuid": "64befdf1182c2b4e845f488f5bfd0e19ce3dc17a",
    "scrolled": true
   },
   "outputs": [],
   "source": [
    "from sklearn.linear_model import LogisticRegression\n",
    "from sklearn.feature_selection import RFE\n",
    "\n",
    "cols = [\"Age\",\"Fare\",\"Isalone\",\"Pclass_1\",\"Pclass_2\",\"Embarked_C\",\"Embarked_S\",\"Sex_male\",\"IsMinor\"] \n",
    "\n",
    "X = final_train[cols]\n",
    "y = final_train['Survived']\n",
    "# Build a logreg and compute the feature importances\n",
    "clf = LogisticRegression(solver='liblinear')\n",
    "# create the RFE model and select 8 attributes\n",
    "clf_rfe = RFE(clf, 1)\n",
    "clf_rfe = clf_rfe.fit(X, y)  # choose X with important features (based on ranking_)\n"
   ]
  },
  {
   "cell_type": "code",
   "execution_count": 27,
   "metadata": {
    "_uuid": "b867cf8d517fac3069c5f111dd27bf7302a95f8e"
   },
   "outputs": [
    {
     "name": "stdout",
     "output_type": "stream",
     "text": [
      "Selected features: ['Sex_male']\n",
      "Ranking of features:  [8 9 7 2 3 6 5 1 4]\n"
     ]
    }
   ],
   "source": [
    "# summarize the selection of the attributes\n",
    "print('Selected features: %s' % list(X.columns[clf_rfe.support_]))\n",
    "\n",
    "print('Ranking of features: ', clf_rfe.ranking_)"
   ]
  },
  {
   "cell_type": "markdown",
   "metadata": {},
   "source": [
    "<a id=\"t4.3.\"></a>\n",
    "### 4.3. Finding optimal number of features with RFECV.\n",
    "\n",
    "**Steps:**\n",
    "\n",
    "1. From sklearn.feature_selection import RFECV.\n",
    "1. Use LogisticRegression as estimator (clf).\n",
    "1. Create RFECV model with clf and cv=5.\n",
    "1. Use created model to fit X and y (why not X_train and y_train?).\n",
    "1. Print the optimal ranking of features using **.ranking_** attribute."
   ]
  },
  {
   "cell_type": "code",
   "execution_count": null,
   "metadata": {},
   "outputs": [],
   "source": [
    "%%time\n",
    "from sklearn.feature_selection import RFECV\n",
    "\n",
    "clf=LogisticRegression()\n",
    "\n",
    "clf_rfecv=RFECV(clf, cv=5, verbose=1)\n",
    "\n",
    "clf_rfecv.fit(X,y)\n",
    "\n",
    "print(clf_rfecv.ranking_)"
   ]
  }
 ],
 "metadata": {
  "kernelspec": {
   "display_name": "Python 3",
   "language": "python",
   "name": "python3"
  },
  "language_info": {
   "codemirror_mode": {
    "name": "ipython",
    "version": 3
   },
   "file_extension": ".py",
   "mimetype": "text/x-python",
   "name": "python",
   "nbconvert_exporter": "python",
   "pygments_lexer": "ipython3",
   "version": "3.7.1"
  }
 },
 "nbformat": 4,
 "nbformat_minor": 2
}
