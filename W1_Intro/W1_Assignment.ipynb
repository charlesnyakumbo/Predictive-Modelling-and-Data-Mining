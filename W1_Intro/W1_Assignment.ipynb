{
  "nbformat": 4,
  "nbformat_minor": 0,
  "metadata": {
    "kernelspec": {
      "display_name": "Python 3",
      "language": "python",
      "name": "python3"
    },
    "language_info": {
      "codemirror_mode": {
        "name": "ipython",
        "version": 3
      },
      "file_extension": ".py",
      "mimetype": "text/x-python",
      "name": "python",
      "nbconvert_exporter": "python",
      "pygments_lexer": "ipython3",
      "version": "3.6.3"
    },
    "colab": {
      "name": "W1_Assignment.ipynb",
      "provenance": [],
      "collapsed_sections": [],
      "include_colab_link": true
    }
  },
  "cells": [
    {
      "cell_type": "markdown",
      "metadata": {
        "id": "view-in-github",
        "colab_type": "text"
      },
      "source": [
        "<a href=\"https://colab.research.google.com/github/mesmalif/Predictive-Modelling-and-Data-Mining/blob/master/W1_Intro/W1_Assignment.ipynb\" target=\"_parent\"><img src=\"https://colab.research.google.com/assets/colab-badge.svg\" alt=\"Open In Colab\"/></a>"
      ]
    },
    {
      "cell_type": "markdown",
      "metadata": {
        "id": "C8MWimffUeWh",
        "colab_type": "text"
      },
      "source": [
        "# Assignment 1: \n",
        "### Data science tools and libraries\n",
        "\n",
        "The purpose of this assignment is to recognize Python libraries and commands/syntax that are relevant for data science and statistical analysis.\n",
        "This assignment provides you with an opportunity to demonstrate the achievement of the following course learning outcomes:\n",
        "\n",
        "- Know most important libraries in Python that will be essential for implementation of data science projects in Python \n",
        "\n",
        "- Be able to manipulate datasets in Python\n",
        "\n",
        "### Key Information\n",
        "- **Type:** Individual\n",
        "- **Weight:** 5%\n",
        "- **Delivery:** Course website upload\n",
        "- **Due Date:** 27/09/2020\n"
      ]
    },
    {
      "cell_type": "markdown",
      "metadata": {
        "id": "ivaNhD73UeWi",
        "colab_type": "text"
      },
      "source": [
        "### 1- Import Numpy, Pandas, Scipy, matplotlib, sklearn"
      ]
    },
    {
      "cell_type": "code",
      "metadata": {
        "id": "M6c2ZfU_UeWi",
        "colab_type": "code",
        "colab": {}
      },
      "source": [
        "import numpy as np\n",
        "import pandas as pd\n",
        "import scipy as sc\n",
        "import matplotlib\n",
        "import sklearn"
      ],
      "execution_count": null,
      "outputs": []
    },
    {
      "cell_type": "markdown",
      "metadata": {
        "id": "Dc2Ta9dsUeWm",
        "colab_type": "text"
      },
      "source": [
        "### 2- Open supplied CSV file “Office” "
      ]
    },
    {
      "cell_type": "code",
      "metadata": {
        "id": "hQqV3XOTUeWm",
        "colab_type": "code",
        "colab": {}
      },
      "source": [
        "## your code here\n"
      ],
      "execution_count": null,
      "outputs": []
    },
    {
      "cell_type": "markdown",
      "metadata": {
        "id": "09ROlVzbUeWo",
        "colab_type": "text"
      },
      "source": [
        "### 3- Characterize the dataset: \n",
        "\n",
        "Use: name.describe()"
      ]
    },
    {
      "cell_type": "code",
      "metadata": {
        "id": "T7TRaHl8UeWp",
        "colab_type": "code",
        "colab": {}
      },
      "source": [
        "# Write your code here\n",
        "\n"
      ],
      "execution_count": null,
      "outputs": []
    },
    {
      "cell_type": "markdown",
      "metadata": {
        "id": "1fS4-GaUUeWr",
        "colab_type": "text"
      },
      "source": [
        "#### Create two new variables X and Y with number of values matching length of columns in the imported file: \n",
        "\n",
        "Use: numpy:random.random(length) "
      ]
    },
    {
      "cell_type": "code",
      "metadata": {
        "id": "RbPLKqFsUeWr",
        "colab_type": "code",
        "colab": {},
        "outputId": "20a4a05e-619a-4460-a8bc-6066583cc47b"
      },
      "source": [
        "x = np.random.random(43)\n",
        "x=x*100\n",
        "y = np.random.random(43)\n",
        "y=y*100\n",
        "\n",
        "#print(y)"
      ],
      "execution_count": null,
      "outputs": [
        {
          "output_type": "error",
          "ename": "NameError",
          "evalue": "name 'np' is not defined",
          "traceback": [
            "\u001b[1;31m---------------------------------------------------------------------------\u001b[0m",
            "\u001b[1;31mNameError\u001b[0m                                 Traceback (most recent call last)",
            "\u001b[1;32m<ipython-input-1-9efeb6aeb1a8>\u001b[0m in \u001b[0;36m<module>\u001b[1;34m()\u001b[0m\n\u001b[1;32m----> 1\u001b[1;33m \u001b[0mx\u001b[0m \u001b[1;33m=\u001b[0m \u001b[0mnp\u001b[0m\u001b[1;33m.\u001b[0m\u001b[0mrandom\u001b[0m\u001b[1;33m.\u001b[0m\u001b[0mrandom\u001b[0m\u001b[1;33m(\u001b[0m\u001b[1;36m43\u001b[0m\u001b[1;33m)\u001b[0m\u001b[1;33m\u001b[0m\u001b[0m\n\u001b[0m\u001b[0;32m      2\u001b[0m \u001b[0mx\u001b[0m\u001b[1;33m=\u001b[0m\u001b[0mx\u001b[0m\u001b[1;33m*\u001b[0m\u001b[1;36m100\u001b[0m\u001b[1;33m\u001b[0m\u001b[0m\n\u001b[0;32m      3\u001b[0m \u001b[0my\u001b[0m \u001b[1;33m=\u001b[0m \u001b[0mnp\u001b[0m\u001b[1;33m.\u001b[0m\u001b[0mrandom\u001b[0m\u001b[1;33m.\u001b[0m\u001b[0mrandom\u001b[0m\u001b[1;33m(\u001b[0m\u001b[1;36m43\u001b[0m\u001b[1;33m)\u001b[0m\u001b[1;33m\u001b[0m\u001b[0m\n\u001b[0;32m      4\u001b[0m \u001b[0my\u001b[0m\u001b[1;33m=\u001b[0m\u001b[0my\u001b[0m\u001b[1;33m*\u001b[0m\u001b[1;36m100\u001b[0m\u001b[1;33m\u001b[0m\u001b[0m\n\u001b[0;32m      5\u001b[0m \u001b[1;33m\u001b[0m\u001b[0m\n",
            "\u001b[1;31mNameError\u001b[0m: name 'np' is not defined"
          ]
        }
      ]
    },
    {
      "cell_type": "markdown",
      "metadata": {
        "id": "Xh4S8UHLUeWu",
        "colab_type": "text"
      },
      "source": [
        "### 4- Scale created variables to be within 0-100 value range\n",
        "\n",
        "Use: name=name*100"
      ]
    },
    {
      "cell_type": "code",
      "metadata": {
        "id": "yzmEU7JiUeWv",
        "colab_type": "code",
        "colab": {}
      },
      "source": [
        "## Write your code here\n"
      ],
      "execution_count": null,
      "outputs": []
    },
    {
      "cell_type": "markdown",
      "metadata": {
        "id": "F73LFDH9UeWz",
        "colab_type": "text"
      },
      "source": [
        "### 5-Create third variable Z as a function between X and Y that utilizes functions “+”, “*”, “/”"
      ]
    },
    {
      "cell_type": "code",
      "metadata": {
        "id": "Lclbl-KfUeWz",
        "colab_type": "code",
        "colab": {}
      },
      "source": [
        "## Write your code here\n",
        "\n"
      ],
      "execution_count": null,
      "outputs": []
    },
    {
      "cell_type": "markdown",
      "metadata": {
        "id": "__hozhGxUeW2",
        "colab_type": "text"
      },
      "source": [
        "### 6- Create forth dataset ZZ as ascending range of values from 0 to the number of elements each vector should have:\n",
        "Use: ZZ =np.arange(numberofelements)\n"
      ]
    },
    {
      "cell_type": "code",
      "metadata": {
        "id": "fYdx1jY9UeW2",
        "colab_type": "code",
        "colab": {}
      },
      "source": [
        "## Write your code here\n"
      ],
      "execution_count": null,
      "outputs": []
    },
    {
      "cell_type": "markdown",
      "metadata": {
        "id": "pb37fdzXUeW4",
        "colab_type": "text"
      },
      "source": [
        "### 7-Combine X, Y, Z and ZZ informing a table T:\n",
        "Use: T = numpy.array ( list (zip (x,y,z,zz)))\n"
      ]
    },
    {
      "cell_type": "code",
      "metadata": {
        "id": "Zhv8_KQvUeW5",
        "colab_type": "code",
        "colab": {}
      },
      "source": [
        "## Write your code here"
      ],
      "execution_count": null,
      "outputs": []
    },
    {
      "cell_type": "markdown",
      "metadata": {
        "id": "o-aFkjqGUeW7",
        "colab_type": "text"
      },
      "source": [
        "### 8- Combine T with the original dataset imported from CVS:\n",
        "Use: dataset3 = numpy.c_(dataset1, dataset2)\n"
      ]
    },
    {
      "cell_type": "code",
      "metadata": {
        "id": "6A5ckVEQUeW7",
        "colab_type": "code",
        "colab": {}
      },
      "source": [
        "## Write your code here\n"
      ],
      "execution_count": null,
      "outputs": []
    },
    {
      "cell_type": "markdown",
      "metadata": {
        "id": "T3ygvtcXUeW9",
        "colab_type": "text"
      },
      "source": [
        "### 9- Create labels for new dataset so X, Y and Z  columns are labeled as “Demand”, Supply”, “Projected growth”, ‘Index’\n",
        "\n",
        "Use: column_labels = [‘Name’, ‘Name2, “Name3’]"
      ]
    },
    {
      "cell_type": "code",
      "metadata": {
        "id": "F0n4TaauUeW9",
        "colab_type": "code",
        "colab": {}
      },
      "source": [
        "## Write your code here\n"
      ],
      "execution_count": null,
      "outputs": []
    },
    {
      "cell_type": "markdown",
      "metadata": {
        "id": "svJh17elUeXA",
        "colab_type": "text"
      },
      "source": [
        "### 10-Combine labels with the dataset to create a DateFrame: \n",
        "Use: pandas.DataFrame (dataset, columns = column_labels) \n"
      ]
    },
    {
      "cell_type": "code",
      "metadata": {
        "id": "BMGdIhdyUeXA",
        "colab_type": "code",
        "colab": {}
      },
      "source": [
        "## Write your code here"
      ],
      "execution_count": null,
      "outputs": []
    },
    {
      "cell_type": "code",
      "metadata": {
        "id": "FO3qMjqNUeXD",
        "colab_type": "code",
        "colab": {}
      },
      "source": [
        ""
      ],
      "execution_count": null,
      "outputs": []
    }
  ]
}