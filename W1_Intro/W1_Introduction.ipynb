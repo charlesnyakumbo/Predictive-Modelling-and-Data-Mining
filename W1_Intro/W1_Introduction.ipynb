{
  "nbformat": 4,
  "nbformat_minor": 0,
  "metadata": {
    "kernelspec": {
      "display_name": "Python 3",
      "language": "python",
      "name": "python3"
    },
    "language_info": {
      "codemirror_mode": {
        "name": "ipython",
        "version": 3
      },
      "file_extension": ".py",
      "mimetype": "text/x-python",
      "name": "python",
      "nbconvert_exporter": "python",
      "pygments_lexer": "ipython3",
      "version": "3.6.3"
    },
    "colab": {
      "name": "W1_Introduction.ipynb",
      "provenance": [],
      "toc_visible": true,
      "include_colab_link": true
    }
  },
  "cells": [
    {
      "cell_type": "markdown",
      "metadata": {
        "id": "view-in-github",
        "colab_type": "text"
      },
      "source": [
        "<a href=\"https://colab.research.google.com/github/mesmalif/Predictive-Modelling-and-Data-Mining/blob/master/W1_Intro/W1_Introduction.ipynb\" target=\"_parent\"><img src=\"https://colab.research.google.com/assets/colab-badge.svg\" alt=\"Open In Colab\"/></a>"
      ]
    },
    {
      "cell_type": "markdown",
      "metadata": {
        "id": "j68KLDgESB--",
        "colab_type": "text"
      },
      "source": [
        "# <center> Introduction to Python </center>\n",
        "## <center> [For more information, check the link here.](https://www.py4e.com/lessons) </center>\n",
        "\n",
        "\n"
      ]
    },
    {
      "cell_type": "markdown",
      "metadata": {
        "id": "VoQa1zZiSB--",
        "colab_type": "text"
      },
      "source": [
        "## Agenda \n",
        "\n",
        "- Constants and Variables\n",
        "- Types of variables\n",
        "- Conditional statement\n",
        "- Debugging codes\n",
        "- Data collection and presentation"
      ]
    },
    {
      "cell_type": "markdown",
      "metadata": {
        "id": "9vMZtYtFSB-_",
        "colab_type": "text"
      },
      "source": [
        "\n",
        "## 1- Constants:\n",
        "\n",
        "Fixed values that can not be changed such as numbers or letters.\n",
        "\n",
        "#### example: \n",
        "\n",
        "print(54) <br>\n",
        "print('Hello Class!') <br>\n",
        "\n",
        "\n",
        "\n"
      ]
    },
    {
      "cell_type": "code",
      "metadata": {
        "collapsed": true,
        "id": "ONkNv7K3SB_A",
        "colab_type": "code",
        "colab": {
          "base_uri": "https://localhost:8080/",
          "height": 51
        },
        "outputId": "dc9cb515-5c1a-412a-fa45-b640c383de74"
      },
      "source": [
        "print(54) \n",
        "print('Hello Class!!') "
      ],
      "execution_count": null,
      "outputs": [
        {
          "output_type": "stream",
          "text": [
            "54\n",
            "Hello Class!!\n"
          ],
          "name": "stdout"
        }
      ]
    },
    {
      "cell_type": "markdown",
      "metadata": {
        "id": "iLz2RfpDSB_D",
        "colab_type": "text"
      },
      "source": [
        "## 2- Variables:\n",
        "\n",
        "Named places in the memory where a programmer can store data and later retrieve them (with the variable name).\n",
        "\n",
        "#### example: \n",
        "\n",
        "A= 14 <br>\n",
        "B= 29 <br>\n",
        "A= 32 <br>\n",
        "<br>\n",
        "A=?"
      ]
    },
    {
      "cell_type": "code",
      "metadata": {
        "id": "PQ8puaK0SB_E",
        "colab_type": "code",
        "colab": {},
        "outputId": "c043766f-1cb7-4a9f-f985-6b08f6e15b55"
      },
      "source": [
        "A= 14 \n",
        "B= 29 \n",
        "A= 32 \n",
        "\n",
        "A"
      ],
      "execution_count": null,
      "outputs": [
        {
          "output_type": "execute_result",
          "data": {
            "text/plain": [
              "32"
            ]
          },
          "metadata": {
            "tags": []
          },
          "execution_count": 3
        }
      ]
    },
    {
      "cell_type": "markdown",
      "metadata": {
        "id": "R6F54VjLSB_G",
        "colab_type": "text"
      },
      "source": [
        "## 3- Numerical Expressions\n",
        "\n",
        "* Addition     +\n",
        "* Subtraction  -\n",
        "* Multiplication *\n",
        "* Division /\n",
        "* Power **\n",
        "* Remainder %"
      ]
    },
    {
      "cell_type": "code",
      "metadata": {
        "id": "5qOJO4LNSB_H",
        "colab_type": "code",
        "colab": {},
        "outputId": "0c54fdb1-0bbe-4fcd-ca2b-7f9306ad8d76"
      },
      "source": [
        "23 % 7"
      ],
      "execution_count": null,
      "outputs": [
        {
          "output_type": "execute_result",
          "data": {
            "text/plain": [
              "2"
            ]
          },
          "metadata": {
            "tags": []
          },
          "execution_count": 1
        }
      ]
    },
    {
      "cell_type": "markdown",
      "metadata": {
        "id": "Vz_cq_8qSB_J",
        "colab_type": "text"
      },
      "source": [
        "## 4- Types of Variables and Constants\n",
        "\n",
        "* int\n",
        "* str\n",
        "* float\n",
        "\n",
        "### example:\n",
        "\n",
        "* type('Hamilton')=?\n",
        "* type(53)=?\n",
        "* type(53.2)=?\n"
      ]
    },
    {
      "cell_type": "code",
      "metadata": {
        "id": "QBvRpL9CSB_J",
        "colab_type": "code",
        "colab": {},
        "outputId": "60dd39b3-519a-4fab-a337-695aafbcf389"
      },
      "source": [
        "type(53)"
      ],
      "execution_count": null,
      "outputs": [
        {
          "output_type": "execute_result",
          "data": {
            "text/plain": [
              "int"
            ]
          },
          "metadata": {
            "tags": []
          },
          "execution_count": 9
        }
      ]
    },
    {
      "cell_type": "markdown",
      "metadata": {
        "id": "qc3K-SZ1SB_M",
        "colab_type": "text"
      },
      "source": [
        "## 5- Conditional Execution\n",
        "\n",
        "* Less than <\n",
        "* Less than or equal to <=\n",
        "* Greater than >\n",
        "* Greater than or equal to >=\n",
        "* Equal to ==\n",
        "* Not Equal to !=\n"
      ]
    },
    {
      "cell_type": "code",
      "metadata": {
        "id": "qJQcBsD1SB_M",
        "colab_type": "code",
        "colab": {},
        "outputId": "1e6f13a6-7950-4f9a-8e10-fe53bf936cc9"
      },
      "source": [
        "x=35\n",
        "\n",
        "if x == 35:\n",
        "    print('It was equal ...')\n",
        "\n",
        "if x < 100:\n",
        "        print('It was less than ...')\n",
        "    \n",
        "    "
      ],
      "execution_count": null,
      "outputs": [
        {
          "output_type": "stream",
          "text": [
            "It was equal ...\n",
            "It was less than ...\n"
          ],
          "name": "stdout"
        }
      ]
    },
    {
      "cell_type": "code",
      "metadata": {
        "id": "axWjZXVlSB_O",
        "colab_type": "code",
        "colab": {},
        "outputId": "b9949ca5-8790-425c-b542-974802e3e188"
      },
      "source": [
        "y= 25\n",
        "\n",
        "if y<=20:\n",
        "    print('First condition ...')\n",
        "    \n",
        "elif y < 30:\n",
        "        print('Second condition ...')\n",
        "        \n",
        "else:\n",
        "    print('Third condition ...')"
      ],
      "execution_count": null,
      "outputs": [
        {
          "output_type": "stream",
          "text": [
            "Second condition ...\n"
          ],
          "name": "stdout"
        }
      ]
    },
    {
      "cell_type": "markdown",
      "metadata": {
        "id": "5KrXEL3NSB_R",
        "colab_type": "text"
      },
      "source": [
        "## 6- Debugging codes with \"Try/Except\"\n",
        "\n",
        "* If the code in \"try\" works, the \"except\" section is skipped.\n",
        "* If the code in the try fails, it jumps to the \"except\" section."
      ]
    },
    {
      "cell_type": "code",
      "metadata": {
        "id": "5Pv_wz47SB_R",
        "colab_type": "code",
        "colab": {},
        "outputId": "7288f895-b1fa-467b-df07-e9fb2a59f975"
      },
      "source": [
        "A='12'   # you can use single quote or double quote \n",
        "\n",
        "type(A)"
      ],
      "execution_count": null,
      "outputs": [
        {
          "output_type": "execute_result",
          "data": {
            "text/plain": [
              "str"
            ]
          },
          "metadata": {
            "tags": []
          },
          "execution_count": 9
        }
      ]
    },
    {
      "cell_type": "code",
      "metadata": {
        "id": "TxMKbbdLSB_T",
        "colab_type": "code",
        "colab": {},
        "outputId": "d298970b-75a6-4dc4-dbe0-12c0fad0ffb4"
      },
      "source": [
        "float(A)"
      ],
      "execution_count": null,
      "outputs": [
        {
          "output_type": "execute_result",
          "data": {
            "text/plain": [
              "12.0"
            ]
          },
          "metadata": {
            "tags": []
          },
          "execution_count": 12
        }
      ]
    },
    {
      "cell_type": "code",
      "metadata": {
        "id": "-XyZP-Q7SB_V",
        "colab_type": "code",
        "colab": {},
        "outputId": "af5de019-d78e-49e7-bebb-5a0b0bfa9cda"
      },
      "source": [
        "Book = 'Hello Bob'\n",
        "Pen = int(Book)\n",
        "print('First', Book)\n",
        "\n",
        "\n"
      ],
      "execution_count": null,
      "outputs": [
        {
          "output_type": "error",
          "ename": "ValueError",
          "evalue": "invalid literal for int() with base 10: 'Hello Bob'",
          "traceback": [
            "\u001b[1;31m---------------------------------------------------------------------------\u001b[0m",
            "\u001b[1;31mValueError\u001b[0m                                Traceback (most recent call last)",
            "\u001b[1;32m<ipython-input-13-c9454088f213>\u001b[0m in \u001b[0;36m<module>\u001b[1;34m()\u001b[0m\n\u001b[0;32m      1\u001b[0m \u001b[0mBook\u001b[0m \u001b[1;33m=\u001b[0m \u001b[1;34m'Hello Bob'\u001b[0m\u001b[1;33m\u001b[0m\u001b[0m\n\u001b[1;32m----> 2\u001b[1;33m \u001b[0mPen\u001b[0m \u001b[1;33m=\u001b[0m \u001b[0mint\u001b[0m\u001b[1;33m(\u001b[0m\u001b[0mBook\u001b[0m\u001b[1;33m)\u001b[0m\u001b[1;33m\u001b[0m\u001b[0m\n\u001b[0m\u001b[0;32m      3\u001b[0m \u001b[0mprint\u001b[0m\u001b[1;33m(\u001b[0m\u001b[1;34m'First'\u001b[0m\u001b[1;33m,\u001b[0m \u001b[0mBook\u001b[0m\u001b[1;33m)\u001b[0m\u001b[1;33m\u001b[0m\u001b[0m\n\u001b[0;32m      4\u001b[0m \u001b[1;33m\u001b[0m\u001b[0m\n\u001b[0;32m      5\u001b[0m \u001b[1;33m\u001b[0m\u001b[0m\n",
            "\u001b[1;31mValueError\u001b[0m: invalid literal for int() with base 10: 'Hello Bob'"
          ]
        }
      ]
    },
    {
      "cell_type": "code",
      "metadata": {
        "id": "tOlJ2rIvSB_X",
        "colab_type": "code",
        "colab": {},
        "outputId": "c563d6d4-cabb-4090-ae39-e5952b8cf7fc"
      },
      "source": [
        "try:\n",
        "    Book = 'Hello Bob'\n",
        "    Pen = int(hello)\n",
        "    print('First', Book)\n",
        "    \n",
        "except:\n",
        "    print('Program continued but you should check the first part ...')\n",
        "\n",
        "A='Class'\n",
        "\n",
        "print(A)\n",
        "    \n",
        "    "
      ],
      "execution_count": null,
      "outputs": [
        {
          "output_type": "stream",
          "text": [
            "Program continued but you should check the first part ...\n",
            "Class\n"
          ],
          "name": "stdout"
        }
      ]
    },
    {
      "cell_type": "markdown",
      "metadata": {
        "id": "CmOIg9oKSB_Z",
        "colab_type": "text"
      },
      "source": [
        "## 7- Lists [[Ref]](https://www.py4e.com/lessons/lists)"
      ]
    },
    {
      "cell_type": "markdown",
      "metadata": {
        "id": "GGg7xbO1SB_a",
        "colab_type": "text"
      },
      "source": [
        "* List constants are separated by commas and surrounded by square brackets.\n",
        "* List can have any python object even another list\n",
        "* Lists are mutable \n"
      ]
    },
    {
      "cell_type": "code",
      "metadata": {
        "id": "05LUom1_SB_a",
        "colab_type": "code",
        "colab": {},
        "outputId": "4425e363-0fdf-4b58-fc3f-ffa4ff63b8ff"
      },
      "source": [
        "A=[(2,3),[4,5],9]\n",
        "\n",
        "type(A)"
      ],
      "execution_count": null,
      "outputs": [
        {
          "output_type": "execute_result",
          "data": {
            "text/plain": [
              "list"
            ]
          },
          "metadata": {
            "tags": []
          },
          "execution_count": 17
        }
      ]
    },
    {
      "cell_type": "code",
      "metadata": {
        "id": "1KSWW_8kSB_c",
        "colab_type": "code",
        "colab": {},
        "outputId": "33e55261-6bbb-466d-d750-e8f7d955e813"
      },
      "source": [
        "type(A[0])   #List can have any python object even another list"
      ],
      "execution_count": null,
      "outputs": [
        {
          "output_type": "execute_result",
          "data": {
            "text/plain": [
              "tuple"
            ]
          },
          "metadata": {
            "tags": []
          },
          "execution_count": 20
        }
      ]
    },
    {
      "cell_type": "code",
      "metadata": {
        "id": "CNW50hV6SB_e",
        "colab_type": "code",
        "colab": {},
        "outputId": "1c357711-d093-4997-87c3-8d873f6fa47b"
      },
      "source": [
        "A[2]='Book'     #Lists are mutable\n",
        "A"
      ],
      "execution_count": null,
      "outputs": [
        {
          "output_type": "execute_result",
          "data": {
            "text/plain": [
              "[(2, 3), [4, 5], 'Book']"
            ]
          },
          "metadata": {
            "tags": []
          },
          "execution_count": 21
        }
      ]
    },
    {
      "cell_type": "code",
      "metadata": {
        "id": "H-ApYrkYSB_g",
        "colab_type": "code",
        "colab": {}
      },
      "source": [
        "B='Pen'"
      ],
      "execution_count": null,
      "outputs": []
    },
    {
      "cell_type": "code",
      "metadata": {
        "id": "XFJYfB2YSB_i",
        "colab_type": "code",
        "colab": {},
        "outputId": "f6bf9159-eb2d-438b-ba19-3c42a2e3b782"
      },
      "source": [
        "B[1]"
      ],
      "execution_count": null,
      "outputs": [
        {
          "output_type": "execute_result",
          "data": {
            "text/plain": [
              "'e'"
            ]
          },
          "metadata": {
            "tags": []
          },
          "execution_count": 23
        }
      ]
    },
    {
      "cell_type": "code",
      "metadata": {
        "id": "Hjlr8GUOSB_k",
        "colab_type": "code",
        "colab": {},
        "outputId": "602399c6-5552-48e5-f241-178d05aa9874"
      },
      "source": [
        "B[1]='C'  #Strings are not mutable"
      ],
      "execution_count": null,
      "outputs": [
        {
          "output_type": "error",
          "ename": "NameError",
          "evalue": "name 'B' is not defined",
          "traceback": [
            "\u001b[1;31m---------------------------------------------------------------------------\u001b[0m",
            "\u001b[1;31mNameError\u001b[0m                                 Traceback (most recent call last)",
            "\u001b[1;32m<ipython-input-19-0e70d9a0f6f2>\u001b[0m in \u001b[0;36m<module>\u001b[1;34m()\u001b[0m\n\u001b[1;32m----> 1\u001b[1;33m \u001b[0mB\u001b[0m\u001b[1;33m[\u001b[0m\u001b[1;36m1\u001b[0m\u001b[1;33m]\u001b[0m\u001b[1;33m=\u001b[0m\u001b[1;34m'C'\u001b[0m  \u001b[1;31m#Strings are not mutable\u001b[0m\u001b[1;33m\u001b[0m\u001b[0m\n\u001b[0m",
            "\u001b[1;31mNameError\u001b[0m: name 'B' is not defined"
          ]
        }
      ]
    },
    {
      "cell_type": "markdown",
      "metadata": {
        "id": "HRXM6LNhSB_m",
        "colab_type": "text"
      },
      "source": [
        "#### Question: What will be the output of List1 + List2?"
      ]
    },
    {
      "cell_type": "markdown",
      "metadata": {
        "id": "Rdsfj2OPSB_n",
        "colab_type": "text"
      },
      "source": [
        "#### zip() function"
      ]
    },
    {
      "cell_type": "code",
      "metadata": {
        "id": "SUwc3ooVSB_n",
        "colab_type": "code",
        "colab": {},
        "outputId": "fbb23694-3857-4bdf-8761-25032b61308c"
      },
      "source": [
        "l1 = [1, 2, 9]\n",
        "l2 = [4, 'B', 9]\n",
        "\n",
        "list(zip(l1,l2))    "
      ],
      "execution_count": null,
      "outputs": [
        {
          "output_type": "execute_result",
          "data": {
            "text/plain": [
              "[(1, 4), (2, 'B'), (9, 9)]"
            ]
          },
          "metadata": {
            "tags": []
          },
          "execution_count": 44
        }
      ]
    },
    {
      "cell_type": "markdown",
      "metadata": {
        "id": "RoWRZ3E-SB_o",
        "colab_type": "text"
      },
      "source": [
        "## 8- Tuples [[Ref]](https://www.py4e.com/lessons/tuples)"
      ]
    },
    {
      "cell_type": "markdown",
      "metadata": {
        "id": "dWyHRiDESB_p",
        "colab_type": "text"
      },
      "source": [
        "Tuples are not mutable (similar to strings but unlike to lists)."
      ]
    },
    {
      "cell_type": "code",
      "metadata": {
        "id": "lSxa2gDsSB_p",
        "colab_type": "code",
        "colab": {}
      },
      "source": [
        "B=(2,3,[4,5],9)"
      ],
      "execution_count": null,
      "outputs": []
    },
    {
      "cell_type": "code",
      "metadata": {
        "id": "cDhM7L0ISB_r",
        "colab_type": "code",
        "colab": {},
        "outputId": "b70b6dab-8625-4c96-e53a-3242996b4d31"
      },
      "source": [
        "B[2]"
      ],
      "execution_count": null,
      "outputs": [
        {
          "output_type": "execute_result",
          "data": {
            "text/plain": [
              "[4, 5]"
            ]
          },
          "metadata": {
            "tags": []
          },
          "execution_count": 30
        }
      ]
    },
    {
      "cell_type": "code",
      "metadata": {
        "id": "-jO3hQR6SB_s",
        "colab_type": "code",
        "colab": {},
        "outputId": "ac440fa4-190f-4e25-b62f-b5ab90faa35a"
      },
      "source": [
        "B[2]='Book'"
      ],
      "execution_count": null,
      "outputs": [
        {
          "output_type": "error",
          "ename": "TypeError",
          "evalue": "'tuple' object does not support item assignment",
          "traceback": [
            "\u001b[1;31m---------------------------------------------------------------------------\u001b[0m",
            "\u001b[1;31mTypeError\u001b[0m                                 Traceback (most recent call last)",
            "\u001b[1;32m<ipython-input-31-652ea2e1e524>\u001b[0m in \u001b[0;36m<module>\u001b[1;34m()\u001b[0m\n\u001b[1;32m----> 1\u001b[1;33m \u001b[0mB\u001b[0m\u001b[1;33m[\u001b[0m\u001b[1;36m2\u001b[0m\u001b[1;33m]\u001b[0m\u001b[1;33m=\u001b[0m\u001b[1;34m'Book'\u001b[0m\u001b[1;33m\u001b[0m\u001b[0m\n\u001b[0m",
            "\u001b[1;31mTypeError\u001b[0m: 'tuple' object does not support item assignment"
          ]
        }
      ]
    },
    {
      "cell_type": "markdown",
      "metadata": {
        "id": "L9mABXr_SB_u",
        "colab_type": "text"
      },
      "source": [
        "## 9- Dictionaries [[Ref]](https://www.py4e.com/lessons/dictionary)\n",
        "\n",
        "- Powerful data collection in Python\n",
        "- Dictionaries can do fast database-like operations in Python"
      ]
    },
    {
      "cell_type": "code",
      "metadata": {
        "id": "F8MgFyiSSB_u",
        "colab_type": "code",
        "colab": {},
        "outputId": "6a573966-6684-49ee-eb09-5bbbc7d9d9db"
      },
      "source": [
        "Uni={'Book':36, 16:4 , 'Name': ['Dave',56,(39,87,5)] , 3:'winner'\n",
        "}\n",
        "\n",
        "Uni"
      ],
      "execution_count": null,
      "outputs": [
        {
          "output_type": "execute_result",
          "data": {
            "text/plain": [
              "{'Book': 36, 16: 4, 'Name': ['Dave', 56, (39, 87, 5)], 3: 'winner'}"
            ]
          },
          "metadata": {
            "tags": []
          },
          "execution_count": 33
        }
      ]
    },
    {
      "cell_type": "code",
      "metadata": {
        "id": "T0XV2TGFSB_w",
        "colab_type": "code",
        "colab": {},
        "outputId": "ebc2d228-aece-43ce-e3f4-63b68b8715b7"
      },
      "source": [
        "Uni[16]"
      ],
      "execution_count": null,
      "outputs": [
        {
          "output_type": "execute_result",
          "data": {
            "text/plain": [
              "4"
            ]
          },
          "metadata": {
            "tags": []
          },
          "execution_count": 35
        }
      ]
    },
    {
      "cell_type": "code",
      "metadata": {
        "id": "4XFnLyNLSB_y",
        "colab_type": "code",
        "colab": {},
        "outputId": "e1166829-35de-40b7-fb87-ca691b2c0a29"
      },
      "source": [
        "Uni[3]"
      ],
      "execution_count": null,
      "outputs": [
        {
          "output_type": "execute_result",
          "data": {
            "text/plain": [
              "'halk'"
            ]
          },
          "metadata": {
            "tags": []
          },
          "execution_count": 15
        }
      ]
    },
    {
      "cell_type": "code",
      "metadata": {
        "id": "6ER516VcSB_1",
        "colab_type": "code",
        "colab": {},
        "outputId": "ea73b717-f861-455d-cb43-ced836bf951d"
      },
      "source": [
        "type(Uni)"
      ],
      "execution_count": null,
      "outputs": [
        {
          "output_type": "execute_result",
          "data": {
            "text/plain": [
              "dict"
            ]
          },
          "metadata": {
            "tags": []
          },
          "execution_count": 16
        }
      ]
    },
    {
      "cell_type": "markdown",
      "metadata": {
        "id": "FdXlTUjeSB_3",
        "colab_type": "text"
      },
      "source": [
        "## 10- Commonly used libraries in Python:\n",
        "\n",
        "![PYlib](Figs/libraries.PNG)"
      ]
    },
    {
      "cell_type": "markdown",
      "metadata": {
        "id": "dObj7c0rSB_3",
        "colab_type": "text"
      },
      "source": [
        "## 11- Data presentation in Numpy [[Ref]](https://docs.scipy.org/doc/numpy/user/quickstart.html)\n",
        "* np.array\n",
        "* ndarray.shape\n",
        "* ndarray.dtype"
      ]
    },
    {
      "cell_type": "code",
      "metadata": {
        "id": "0oXeZ4RhSB_4",
        "colab_type": "code",
        "colab": {},
        "outputId": "003c1c4a-f51c-48bd-e22a-e55ece0aeef8"
      },
      "source": [
        "import numpy as np\n",
        "k=[[2,3,9],[3,1,6]]\n",
        "b=np.array(k)\n",
        "b"
      ],
      "execution_count": null,
      "outputs": [
        {
          "output_type": "execute_result",
          "data": {
            "text/plain": [
              "array([[2, 3, 9],\n",
              "       [3, 1, 6]])"
            ]
          },
          "metadata": {
            "tags": []
          },
          "execution_count": 47
        }
      ]
    },
    {
      "cell_type": "code",
      "metadata": {
        "id": "46u11fMdSB_5",
        "colab_type": "code",
        "colab": {},
        "outputId": "62ca02e3-4e99-41d4-d3b2-b02b9022cb8e"
      },
      "source": [
        "b.shape"
      ],
      "execution_count": null,
      "outputs": [
        {
          "output_type": "execute_result",
          "data": {
            "text/plain": [
              "(2, 3)"
            ]
          },
          "metadata": {
            "tags": []
          },
          "execution_count": 45
        }
      ]
    },
    {
      "cell_type": "code",
      "metadata": {
        "id": "fZRPt927SB_7",
        "colab_type": "code",
        "colab": {},
        "outputId": "2d3f6de0-3fde-4060-b383-0fa6535f7071"
      },
      "source": [
        "b[0,:]"
      ],
      "execution_count": null,
      "outputs": [
        {
          "output_type": "execute_result",
          "data": {
            "text/plain": [
              "array([2, 3, 9])"
            ]
          },
          "metadata": {
            "tags": []
          },
          "execution_count": 32
        }
      ]
    },
    {
      "cell_type": "code",
      "metadata": {
        "id": "fZtQJ3DoSB_9",
        "colab_type": "code",
        "colab": {},
        "outputId": "3b592993-c9a5-4c42-cc94-78bf701db3b7"
      },
      "source": [
        "B=np.arange(36)\n",
        "B"
      ],
      "execution_count": null,
      "outputs": [
        {
          "output_type": "execute_result",
          "data": {
            "text/plain": [
              "array([ 0,  1,  2,  3,  4,  5,  6,  7,  8,  9, 10, 11, 12, 13, 14, 15, 16,\n",
              "       17, 18, 19, 20, 21, 22, 23, 24, 25, 26, 27, 28, 29, 30, 31, 32, 33,\n",
              "       34, 35])"
            ]
          },
          "metadata": {
            "tags": []
          },
          "execution_count": 49
        }
      ]
    },
    {
      "cell_type": "code",
      "metadata": {
        "id": "hqRVs_7pSB_-",
        "colab_type": "code",
        "colab": {},
        "outputId": "62f8ad8d-136b-4ba9-ae1f-88856221091b"
      },
      "source": [
        "C=B.reshape(9,4)   # try reshape(2,3,2,3)\n",
        "C"
      ],
      "execution_count": null,
      "outputs": [
        {
          "output_type": "execute_result",
          "data": {
            "text/plain": [
              "array([[ 0,  1,  2,  3],\n",
              "       [ 4,  5,  6,  7],\n",
              "       [ 8,  9, 10, 11],\n",
              "       [12, 13, 14, 15],\n",
              "       [16, 17, 18, 19],\n",
              "       [20, 21, 22, 23],\n",
              "       [24, 25, 26, 27],\n",
              "       [28, 29, 30, 31],\n",
              "       [32, 33, 34, 35]])"
            ]
          },
          "metadata": {
            "tags": []
          },
          "execution_count": 53
        }
      ]
    },
    {
      "cell_type": "code",
      "metadata": {
        "id": "0-7FEjxLSCAA",
        "colab_type": "code",
        "colab": {},
        "outputId": "f78b7e2c-9b8a-4578-a09d-54a6cdb95a33"
      },
      "source": [
        "C.shape"
      ],
      "execution_count": null,
      "outputs": [
        {
          "output_type": "execute_result",
          "data": {
            "text/plain": [
              "(9, 4)"
            ]
          },
          "metadata": {
            "tags": []
          },
          "execution_count": 54
        }
      ]
    },
    {
      "cell_type": "markdown",
      "metadata": {
        "id": "XKc_BIRHSCAB",
        "colab_type": "text"
      },
      "source": [
        "#### Dimensions in numpy arrays:\n",
        "\n",
        "![Numpy array dimensions](Figs/Dim.PNG)"
      ]
    },
    {
      "cell_type": "code",
      "metadata": {
        "id": "HJP8zqCwSCAC",
        "colab_type": "code",
        "colab": {},
        "outputId": "80f61f1b-0bbc-4590-df32-8e29446707a9"
      },
      "source": [
        "C[:,:,1,0]"
      ],
      "execution_count": null,
      "outputs": [
        {
          "output_type": "execute_result",
          "data": {
            "text/plain": [
              "array([[ 3,  9, 15],\n",
              "       [21, 27, 33]])"
            ]
          },
          "metadata": {
            "tags": []
          },
          "execution_count": 51
        }
      ]
    },
    {
      "cell_type": "code",
      "metadata": {
        "id": "v1SFS_X0SCAG",
        "colab_type": "code",
        "colab": {}
      },
      "source": [
        ""
      ],
      "execution_count": null,
      "outputs": []
    },
    {
      "cell_type": "markdown",
      "metadata": {
        "id": "K-PMutDfSCAK",
        "colab_type": "text"
      },
      "source": [
        "## 12- Data presentation in Pandas (dataframe) [[Ref]](https://pandas.pydata.org/pandas-docs/stable/10min.html)\n",
        "* pd.Series()\n",
        "* pd.DataFrame()\n",
        "* df.head()\n",
        "* df.describe()\n",
        "* df.info()\n",
        "* df.dtypes\n",
        "* df.shape\n",
        "* df.columns\n",
        "* df.values\n",
        "* df.T"
      ]
    },
    {
      "cell_type": "code",
      "metadata": {
        "id": "wO1uhSIUSCAL",
        "colab_type": "code",
        "colab": {}
      },
      "source": [
        "import pandas as pd\n",
        "import numpy as np"
      ],
      "execution_count": null,
      "outputs": []
    },
    {
      "cell_type": "markdown",
      "metadata": {
        "id": "4nN8sfLCSCAO",
        "colab_type": "text"
      },
      "source": [
        "#### Creating a Series by passing a list of values:"
      ]
    },
    {
      "cell_type": "code",
      "metadata": {
        "id": "dQORHCRpSCAP",
        "colab_type": "code",
        "colab": {},
        "outputId": "3ba4c4ec-a550-48ac-e64f-05db15d5a438"
      },
      "source": [
        "k = pd.Series([8,5,np.nan,10,2])\n",
        "\n",
        "k"
      ],
      "execution_count": null,
      "outputs": [
        {
          "output_type": "execute_result",
          "data": {
            "text/plain": [
              "0     8.0\n",
              "1     5.0\n",
              "2     NaN\n",
              "3    10.0\n",
              "4     2.0\n",
              "dtype: float64"
            ]
          },
          "metadata": {
            "tags": []
          },
          "execution_count": 61
        }
      ]
    },
    {
      "cell_type": "code",
      "metadata": {
        "id": "XnEcmgK7SCAS",
        "colab_type": "code",
        "colab": {},
        "outputId": "bc9b56da-b530-4e80-98a8-7e190e536ed4"
      },
      "source": [
        "type(k)"
      ],
      "execution_count": null,
      "outputs": [
        {
          "output_type": "execute_result",
          "data": {
            "text/plain": [
              "pandas.core.series.Series"
            ]
          },
          "metadata": {
            "tags": []
          },
          "execution_count": 62
        }
      ]
    },
    {
      "cell_type": "markdown",
      "metadata": {
        "id": "1wQplCmoSCAV",
        "colab_type": "text"
      },
      "source": [
        "#### Creating DataFrame from dictionary "
      ]
    },
    {
      "cell_type": "code",
      "metadata": {
        "id": "1is1IqOZSCAW",
        "colab_type": "code",
        "colab": {},
        "outputId": "2975ee43-5e24-4182-cd39-634575281373"
      },
      "source": [
        "df = pd.DataFrame({'A' : 1.,\n",
        "                    'C' : pd.Series(list(range(4)),dtype='float32'),\n",
        "                    'D' : np.array([3] * 4,dtype='int32'),\n",
        "                    'E' : pd.Categorical([\"test\",\"train\",\"test\",\"train\"]),\n",
        "                    'F' : 'foo' })\n",
        "df"
      ],
      "execution_count": null,
      "outputs": [
        {
          "output_type": "execute_result",
          "data": {
            "text/html": [
              "<div>\n",
              "<style scoped>\n",
              "    .dataframe tbody tr th:only-of-type {\n",
              "        vertical-align: middle;\n",
              "    }\n",
              "\n",
              "    .dataframe tbody tr th {\n",
              "        vertical-align: top;\n",
              "    }\n",
              "\n",
              "    .dataframe thead th {\n",
              "        text-align: right;\n",
              "    }\n",
              "</style>\n",
              "<table border=\"1\" class=\"dataframe\">\n",
              "  <thead>\n",
              "    <tr style=\"text-align: right;\">\n",
              "      <th></th>\n",
              "      <th>A</th>\n",
              "      <th>C</th>\n",
              "      <th>D</th>\n",
              "      <th>E</th>\n",
              "      <th>F</th>\n",
              "    </tr>\n",
              "  </thead>\n",
              "  <tbody>\n",
              "    <tr>\n",
              "      <th>0</th>\n",
              "      <td>1.0</td>\n",
              "      <td>0.0</td>\n",
              "      <td>3</td>\n",
              "      <td>test</td>\n",
              "      <td>foo</td>\n",
              "    </tr>\n",
              "    <tr>\n",
              "      <th>1</th>\n",
              "      <td>1.0</td>\n",
              "      <td>1.0</td>\n",
              "      <td>3</td>\n",
              "      <td>train</td>\n",
              "      <td>foo</td>\n",
              "    </tr>\n",
              "    <tr>\n",
              "      <th>2</th>\n",
              "      <td>1.0</td>\n",
              "      <td>2.0</td>\n",
              "      <td>3</td>\n",
              "      <td>test</td>\n",
              "      <td>foo</td>\n",
              "    </tr>\n",
              "    <tr>\n",
              "      <th>3</th>\n",
              "      <td>1.0</td>\n",
              "      <td>3.0</td>\n",
              "      <td>3</td>\n",
              "      <td>train</td>\n",
              "      <td>foo</td>\n",
              "    </tr>\n",
              "  </tbody>\n",
              "</table>\n",
              "</div>"
            ],
            "text/plain": [
              "     A    C  D      E    F\n",
              "0  1.0  0.0  3   test  foo\n",
              "1  1.0  1.0  3  train  foo\n",
              "2  1.0  2.0  3   test  foo\n",
              "3  1.0  3.0  3  train  foo"
            ]
          },
          "metadata": {
            "tags": []
          },
          "execution_count": 87
        }
      ]
    },
    {
      "cell_type": "markdown",
      "metadata": {
        "id": "5Oy5V5b4SCAZ",
        "colab_type": "text"
      },
      "source": [
        "#### Question: What is the type of \"one column\" in a dataframe?"
      ]
    },
    {
      "cell_type": "code",
      "metadata": {
        "id": "dI9_zWh3SCAa",
        "colab_type": "code",
        "colab": {},
        "outputId": "547cf5bc-0812-4134-8142-d927627405f2"
      },
      "source": [
        "type(df['A'])"
      ],
      "execution_count": null,
      "outputs": [
        {
          "output_type": "execute_result",
          "data": {
            "text/plain": [
              "pandas.core.series.Series"
            ]
          },
          "metadata": {
            "tags": []
          },
          "execution_count": 88
        }
      ]
    },
    {
      "cell_type": "markdown",
      "metadata": {
        "id": "7SAniJZxSCAf",
        "colab_type": "text"
      },
      "source": [
        "#### Converting dataframe to numpy array"
      ]
    },
    {
      "cell_type": "code",
      "metadata": {
        "id": "I5yxHHEzSCAf",
        "colab_type": "code",
        "colab": {},
        "outputId": "edeb13ea-ba4d-46ad-e6ed-8eba561c1eda"
      },
      "source": [
        "A=df.values\n",
        "\n",
        "A"
      ],
      "execution_count": null,
      "outputs": [
        {
          "output_type": "execute_result",
          "data": {
            "text/plain": [
              "array([[1.0, 0.0, 3, 'test', 'foo'],\n",
              "       [1.0, 1.0, 3, 'train', 'foo'],\n",
              "       [1.0, 2.0, 3, 'test', 'foo'],\n",
              "       [1.0, 3.0, 3, 'train', 'foo']], dtype=object)"
            ]
          },
          "metadata": {
            "tags": []
          },
          "execution_count": 89
        }
      ]
    },
    {
      "cell_type": "markdown",
      "metadata": {
        "id": "nViUUdY1SCAi",
        "colab_type": "text"
      },
      "source": [
        "#### Importing data to a dataframe\n",
        "\n",
        "\n",
        "![dataloading](Figs/DataImport.PNG)\n",
        "\n",
        "##### 1- From files [(To learn more, click here)](https://www.py4e.com/lessons/files)\n",
        "##### 2- From database [(To learn more, click here)](https://www.py4e.com/lessons/json)\n",
        "##### 3- From Internet [(To learn more, click here).](https://www.py4e.com/lessons/servces) For more datasets [(Click here)](https://archive.ics.uci.edu/ml/datasets.html)\n"
      ]
    },
    {
      "cell_type": "code",
      "metadata": {
        "id": "--TC7MVSSCAi",
        "colab_type": "code",
        "colab": {}
      },
      "source": [
        "import pandas as pd\n",
        "import numpy as np\n",
        "\n",
        "df=pd.read_table('C:\\\\Users\\\\Esmal\\\\OneDrive\\\\CIRC\\\\Data Science\\\\GitPushes\\\\bigdata\\\\data\\\\Adult.data',sep=',', header=None)\n",
        "\n",
        "DFw=pd.read_table('https://archive.ics.uci.edu/ml/machine-learning-databases/adult/adult.data', sep=',')\n"
      ],
      "execution_count": null,
      "outputs": []
    },
    {
      "cell_type": "code",
      "metadata": {
        "id": "HSQke_YpSCAl",
        "colab_type": "code",
        "colab": {},
        "outputId": "9e49390a-5023-434c-9544-df149a84f62f"
      },
      "source": [
        "DFf.head()"
      ],
      "execution_count": null,
      "outputs": [
        {
          "output_type": "execute_result",
          "data": {
            "text/html": [
              "<div>\n",
              "<style scoped>\n",
              "    .dataframe tbody tr th:only-of-type {\n",
              "        vertical-align: middle;\n",
              "    }\n",
              "\n",
              "    .dataframe tbody tr th {\n",
              "        vertical-align: top;\n",
              "    }\n",
              "\n",
              "    .dataframe thead th {\n",
              "        text-align: right;\n",
              "    }\n",
              "</style>\n",
              "<table border=\"1\" class=\"dataframe\">\n",
              "  <thead>\n",
              "    <tr style=\"text-align: right;\">\n",
              "      <th></th>\n",
              "      <th>0</th>\n",
              "      <th>1</th>\n",
              "      <th>2</th>\n",
              "      <th>3</th>\n",
              "      <th>4</th>\n",
              "      <th>5</th>\n",
              "      <th>6</th>\n",
              "      <th>7</th>\n",
              "      <th>8</th>\n",
              "      <th>9</th>\n",
              "      <th>10</th>\n",
              "      <th>11</th>\n",
              "      <th>12</th>\n",
              "      <th>13</th>\n",
              "      <th>14</th>\n",
              "    </tr>\n",
              "  </thead>\n",
              "  <tbody>\n",
              "    <tr>\n",
              "      <th>0</th>\n",
              "      <td>39</td>\n",
              "      <td>State-gov</td>\n",
              "      <td>77516</td>\n",
              "      <td>Bachelors</td>\n",
              "      <td>13</td>\n",
              "      <td>Never-married</td>\n",
              "      <td>Adm-clerical</td>\n",
              "      <td>Not-in-family</td>\n",
              "      <td>White</td>\n",
              "      <td>Male</td>\n",
              "      <td>2174</td>\n",
              "      <td>0</td>\n",
              "      <td>40</td>\n",
              "      <td>United-States</td>\n",
              "      <td>&lt;=50K</td>\n",
              "    </tr>\n",
              "    <tr>\n",
              "      <th>1</th>\n",
              "      <td>50</td>\n",
              "      <td>Self-emp-not-inc</td>\n",
              "      <td>83311</td>\n",
              "      <td>Bachelors</td>\n",
              "      <td>13</td>\n",
              "      <td>Married-civ-spouse</td>\n",
              "      <td>Exec-managerial</td>\n",
              "      <td>Husband</td>\n",
              "      <td>White</td>\n",
              "      <td>Male</td>\n",
              "      <td>0</td>\n",
              "      <td>0</td>\n",
              "      <td>13</td>\n",
              "      <td>United-States</td>\n",
              "      <td>&lt;=50K</td>\n",
              "    </tr>\n",
              "    <tr>\n",
              "      <th>2</th>\n",
              "      <td>38</td>\n",
              "      <td>Private</td>\n",
              "      <td>215646</td>\n",
              "      <td>HS-grad</td>\n",
              "      <td>9</td>\n",
              "      <td>Divorced</td>\n",
              "      <td>Handlers-cleaners</td>\n",
              "      <td>Not-in-family</td>\n",
              "      <td>White</td>\n",
              "      <td>Male</td>\n",
              "      <td>0</td>\n",
              "      <td>0</td>\n",
              "      <td>40</td>\n",
              "      <td>United-States</td>\n",
              "      <td>&lt;=50K</td>\n",
              "    </tr>\n",
              "    <tr>\n",
              "      <th>3</th>\n",
              "      <td>53</td>\n",
              "      <td>Private</td>\n",
              "      <td>234721</td>\n",
              "      <td>11th</td>\n",
              "      <td>7</td>\n",
              "      <td>Married-civ-spouse</td>\n",
              "      <td>Handlers-cleaners</td>\n",
              "      <td>Husband</td>\n",
              "      <td>Black</td>\n",
              "      <td>Male</td>\n",
              "      <td>0</td>\n",
              "      <td>0</td>\n",
              "      <td>40</td>\n",
              "      <td>United-States</td>\n",
              "      <td>&lt;=50K</td>\n",
              "    </tr>\n",
              "    <tr>\n",
              "      <th>4</th>\n",
              "      <td>28</td>\n",
              "      <td>Private</td>\n",
              "      <td>338409</td>\n",
              "      <td>Bachelors</td>\n",
              "      <td>13</td>\n",
              "      <td>Married-civ-spouse</td>\n",
              "      <td>Prof-specialty</td>\n",
              "      <td>Wife</td>\n",
              "      <td>Black</td>\n",
              "      <td>Female</td>\n",
              "      <td>0</td>\n",
              "      <td>0</td>\n",
              "      <td>40</td>\n",
              "      <td>Cuba</td>\n",
              "      <td>&lt;=50K</td>\n",
              "    </tr>\n",
              "  </tbody>\n",
              "</table>\n",
              "</div>"
            ],
            "text/plain": [
              "   0                  1       2           3   4                    5   \\\n",
              "0  39          State-gov   77516   Bachelors  13        Never-married   \n",
              "1  50   Self-emp-not-inc   83311   Bachelors  13   Married-civ-spouse   \n",
              "2  38            Private  215646     HS-grad   9             Divorced   \n",
              "3  53            Private  234721        11th   7   Married-civ-spouse   \n",
              "4  28            Private  338409   Bachelors  13   Married-civ-spouse   \n",
              "\n",
              "                   6               7       8        9     10  11  12  \\\n",
              "0        Adm-clerical   Not-in-family   White     Male  2174   0  40   \n",
              "1     Exec-managerial         Husband   White     Male     0   0  13   \n",
              "2   Handlers-cleaners   Not-in-family   White     Male     0   0  40   \n",
              "3   Handlers-cleaners         Husband   Black     Male     0   0  40   \n",
              "4      Prof-specialty            Wife   Black   Female     0   0  40   \n",
              "\n",
              "               13      14  \n",
              "0   United-States   <=50K  \n",
              "1   United-States   <=50K  \n",
              "2   United-States   <=50K  \n",
              "3   United-States   <=50K  \n",
              "4            Cuba   <=50K  "
            ]
          },
          "metadata": {
            "tags": []
          },
          "execution_count": 91
        }
      ]
    },
    {
      "cell_type": "markdown",
      "metadata": {
        "id": "jebgF40GSCAo",
        "colab_type": "text"
      },
      "source": [
        "#### Visualizing DataFrame"
      ]
    },
    {
      "cell_type": "code",
      "metadata": {
        "id": "r5pNe0vmSCAo",
        "colab_type": "code",
        "colab": {},
        "outputId": "2f99e930-05f6-4f3d-d2cf-499515504012"
      },
      "source": [
        "df.describe()"
      ],
      "execution_count": null,
      "outputs": [
        {
          "output_type": "execute_result",
          "data": {
            "text/html": [
              "<div>\n",
              "<style scoped>\n",
              "    .dataframe tbody tr th:only-of-type {\n",
              "        vertical-align: middle;\n",
              "    }\n",
              "\n",
              "    .dataframe tbody tr th {\n",
              "        vertical-align: top;\n",
              "    }\n",
              "\n",
              "    .dataframe thead th {\n",
              "        text-align: right;\n",
              "    }\n",
              "</style>\n",
              "<table border=\"1\" class=\"dataframe\">\n",
              "  <thead>\n",
              "    <tr style=\"text-align: right;\">\n",
              "      <th></th>\n",
              "      <th>1st</th>\n",
              "      <th>3rd</th>\n",
              "      <th>4th</th>\n",
              "      <th>4th</th>\n",
              "      <th>4th</th>\n",
              "      <th>4th</th>\n",
              "    </tr>\n",
              "  </thead>\n",
              "  <tbody>\n",
              "    <tr>\n",
              "      <th>count</th>\n",
              "      <td>32561.000000</td>\n",
              "      <td>3.256100e+04</td>\n",
              "      <td>32561.000000</td>\n",
              "      <td>32561.000000</td>\n",
              "      <td>32561.000000</td>\n",
              "      <td>32561.000000</td>\n",
              "    </tr>\n",
              "    <tr>\n",
              "      <th>mean</th>\n",
              "      <td>38.581647</td>\n",
              "      <td>1.897784e+05</td>\n",
              "      <td>10.080679</td>\n",
              "      <td>1077.648844</td>\n",
              "      <td>87.303830</td>\n",
              "      <td>40.437456</td>\n",
              "    </tr>\n",
              "    <tr>\n",
              "      <th>std</th>\n",
              "      <td>13.640433</td>\n",
              "      <td>1.055500e+05</td>\n",
              "      <td>2.572720</td>\n",
              "      <td>7385.292085</td>\n",
              "      <td>402.960219</td>\n",
              "      <td>12.347429</td>\n",
              "    </tr>\n",
              "    <tr>\n",
              "      <th>min</th>\n",
              "      <td>17.000000</td>\n",
              "      <td>1.228500e+04</td>\n",
              "      <td>1.000000</td>\n",
              "      <td>0.000000</td>\n",
              "      <td>0.000000</td>\n",
              "      <td>1.000000</td>\n",
              "    </tr>\n",
              "    <tr>\n",
              "      <th>25%</th>\n",
              "      <td>28.000000</td>\n",
              "      <td>1.178270e+05</td>\n",
              "      <td>9.000000</td>\n",
              "      <td>0.000000</td>\n",
              "      <td>0.000000</td>\n",
              "      <td>40.000000</td>\n",
              "    </tr>\n",
              "    <tr>\n",
              "      <th>50%</th>\n",
              "      <td>37.000000</td>\n",
              "      <td>1.783560e+05</td>\n",
              "      <td>10.000000</td>\n",
              "      <td>0.000000</td>\n",
              "      <td>0.000000</td>\n",
              "      <td>40.000000</td>\n",
              "    </tr>\n",
              "    <tr>\n",
              "      <th>75%</th>\n",
              "      <td>48.000000</td>\n",
              "      <td>2.370510e+05</td>\n",
              "      <td>12.000000</td>\n",
              "      <td>0.000000</td>\n",
              "      <td>0.000000</td>\n",
              "      <td>45.000000</td>\n",
              "    </tr>\n",
              "    <tr>\n",
              "      <th>max</th>\n",
              "      <td>90.000000</td>\n",
              "      <td>1.484705e+06</td>\n",
              "      <td>16.000000</td>\n",
              "      <td>99999.000000</td>\n",
              "      <td>4356.000000</td>\n",
              "      <td>99.000000</td>\n",
              "    </tr>\n",
              "  </tbody>\n",
              "</table>\n",
              "</div>"
            ],
            "text/plain": [
              "                1st           3rd           4th           4th           4th  \\\n",
              "count  32561.000000  3.256100e+04  32561.000000  32561.000000  32561.000000   \n",
              "mean      38.581647  1.897784e+05     10.080679   1077.648844     87.303830   \n",
              "std       13.640433  1.055500e+05      2.572720   7385.292085    402.960219   \n",
              "min       17.000000  1.228500e+04      1.000000      0.000000      0.000000   \n",
              "25%       28.000000  1.178270e+05      9.000000      0.000000      0.000000   \n",
              "50%       37.000000  1.783560e+05     10.000000      0.000000      0.000000   \n",
              "75%       48.000000  2.370510e+05     12.000000      0.000000      0.000000   \n",
              "max       90.000000  1.484705e+06     16.000000  99999.000000   4356.000000   \n",
              "\n",
              "                4th  \n",
              "count  32561.000000  \n",
              "mean      40.437456  \n",
              "std       12.347429  \n",
              "min        1.000000  \n",
              "25%       40.000000  \n",
              "50%       40.000000  \n",
              "75%       45.000000  \n",
              "max       99.000000  "
            ]
          },
          "metadata": {
            "tags": []
          },
          "execution_count": 105
        }
      ]
    },
    {
      "cell_type": "code",
      "metadata": {
        "id": "3NF69MrTSCAr",
        "colab_type": "code",
        "colab": {},
        "outputId": "85328d0c-77c5-4060-c3f4-d1a3934dadba"
      },
      "source": [
        "df.info()  # Basic information about the datframe"
      ],
      "execution_count": null,
      "outputs": [
        {
          "output_type": "stream",
          "text": [
            "<class 'pandas.core.frame.DataFrame'>\n",
            "RangeIndex: 32561 entries, 0 to 32560\n",
            "Data columns (total 15 columns):\n",
            "1st    32561 non-null int64\n",
            "2nd    32561 non-null object\n",
            "3rd    32561 non-null int64\n",
            "4th    32561 non-null object\n",
            "4th    32561 non-null int64\n",
            "4th    32561 non-null object\n",
            "4th    32561 non-null object\n",
            "4th    32561 non-null object\n",
            "4th    32561 non-null object\n",
            "4th    32561 non-null object\n",
            "4th    32561 non-null int64\n",
            "4th    32561 non-null int64\n",
            "4th    32561 non-null int64\n",
            "4th    32561 non-null object\n",
            "4th    32561 non-null object\n",
            "dtypes: int64(6), object(9)\n",
            "memory usage: 3.7+ MB\n"
          ],
          "name": "stdout"
        }
      ]
    },
    {
      "cell_type": "code",
      "metadata": {
        "id": "2WT4lJqPSCAt",
        "colab_type": "code",
        "colab": {},
        "outputId": "61f6ca3a-34d4-488e-c39b-19f206af15ee"
      },
      "source": [
        "df.dtypes"
      ],
      "execution_count": null,
      "outputs": [
        {
          "output_type": "execute_result",
          "data": {
            "text/plain": [
              "1st     int64\n",
              "2nd    object\n",
              "3rd     int64\n",
              "4th    object\n",
              "4th     int64\n",
              "4th    object\n",
              "4th    object\n",
              "4th    object\n",
              "4th    object\n",
              "4th    object\n",
              "4th     int64\n",
              "4th     int64\n",
              "4th     int64\n",
              "4th    object\n",
              "4th    object\n",
              "dtype: object"
            ]
          },
          "metadata": {
            "tags": []
          },
          "execution_count": 107
        }
      ]
    },
    {
      "cell_type": "code",
      "metadata": {
        "id": "6H831FQlSCAu",
        "colab_type": "code",
        "colab": {},
        "outputId": "5a860029-ae73-4184-ff93-e8838075bf99"
      },
      "source": [
        "df.shape"
      ],
      "execution_count": null,
      "outputs": [
        {
          "output_type": "execute_result",
          "data": {
            "text/plain": [
              "(32561, 15)"
            ]
          },
          "metadata": {
            "tags": []
          },
          "execution_count": 108
        }
      ]
    },
    {
      "cell_type": "code",
      "metadata": {
        "id": "b5PFFZEySCAx",
        "colab_type": "code",
        "colab": {},
        "outputId": "05abae07-c775-42e0-9567-591f293e4023"
      },
      "source": [
        "df.columns     # Try df.columns=['1st','2nd','3rd','4th','4th','4th','4th','4th','4th','4th','4th','4th','4th','4th','4th']"
      ],
      "execution_count": null,
      "outputs": [
        {
          "output_type": "execute_result",
          "data": {
            "text/plain": [
              "Index(['1st', '2nd', '3rd', '4th', '4th', '4th', '4th', '4th', '4th', '4th',\n",
              "       '4th', '4th', '4th', '4th', '4th'],\n",
              "      dtype='object')"
            ]
          },
          "metadata": {
            "tags": []
          },
          "execution_count": 109
        }
      ]
    },
    {
      "cell_type": "code",
      "metadata": {
        "id": "SKUgMUqESCA0",
        "colab_type": "code",
        "colab": {},
        "outputId": "667684fa-96e8-48d3-8fc8-f49e4aebae61"
      },
      "source": [
        "df.T"
      ],
      "execution_count": null,
      "outputs": [
        {
          "output_type": "execute_result",
          "data": {
            "text/html": [
              "<div>\n",
              "<style scoped>\n",
              "    .dataframe tbody tr th:only-of-type {\n",
              "        vertical-align: middle;\n",
              "    }\n",
              "\n",
              "    .dataframe tbody tr th {\n",
              "        vertical-align: top;\n",
              "    }\n",
              "\n",
              "    .dataframe thead th {\n",
              "        text-align: right;\n",
              "    }\n",
              "</style>\n",
              "<table border=\"1\" class=\"dataframe\">\n",
              "  <thead>\n",
              "    <tr style=\"text-align: right;\">\n",
              "      <th></th>\n",
              "      <th>0</th>\n",
              "      <th>1</th>\n",
              "      <th>2</th>\n",
              "      <th>3</th>\n",
              "      <th>4</th>\n",
              "      <th>5</th>\n",
              "      <th>6</th>\n",
              "      <th>7</th>\n",
              "      <th>8</th>\n",
              "      <th>9</th>\n",
              "      <th>...</th>\n",
              "      <th>32551</th>\n",
              "      <th>32552</th>\n",
              "      <th>32553</th>\n",
              "      <th>32554</th>\n",
              "      <th>32555</th>\n",
              "      <th>32556</th>\n",
              "      <th>32557</th>\n",
              "      <th>32558</th>\n",
              "      <th>32559</th>\n",
              "      <th>32560</th>\n",
              "    </tr>\n",
              "  </thead>\n",
              "  <tbody>\n",
              "    <tr>\n",
              "      <th>1st</th>\n",
              "      <td>39</td>\n",
              "      <td>50</td>\n",
              "      <td>38</td>\n",
              "      <td>53</td>\n",
              "      <td>28</td>\n",
              "      <td>37</td>\n",
              "      <td>49</td>\n",
              "      <td>52</td>\n",
              "      <td>31</td>\n",
              "      <td>42</td>\n",
              "      <td>...</td>\n",
              "      <td>32</td>\n",
              "      <td>43</td>\n",
              "      <td>32</td>\n",
              "      <td>53</td>\n",
              "      <td>22</td>\n",
              "      <td>27</td>\n",
              "      <td>40</td>\n",
              "      <td>58</td>\n",
              "      <td>22</td>\n",
              "      <td>52</td>\n",
              "    </tr>\n",
              "    <tr>\n",
              "      <th>2nd</th>\n",
              "      <td>State-gov</td>\n",
              "      <td>Self-emp-not-inc</td>\n",
              "      <td>Private</td>\n",
              "      <td>Private</td>\n",
              "      <td>Private</td>\n",
              "      <td>Private</td>\n",
              "      <td>Private</td>\n",
              "      <td>Self-emp-not-inc</td>\n",
              "      <td>Private</td>\n",
              "      <td>Private</td>\n",
              "      <td>...</td>\n",
              "      <td>Private</td>\n",
              "      <td>Private</td>\n",
              "      <td>Private</td>\n",
              "      <td>Private</td>\n",
              "      <td>Private</td>\n",
              "      <td>Private</td>\n",
              "      <td>Private</td>\n",
              "      <td>Private</td>\n",
              "      <td>Private</td>\n",
              "      <td>Self-emp-inc</td>\n",
              "    </tr>\n",
              "    <tr>\n",
              "      <th>3rd</th>\n",
              "      <td>77516</td>\n",
              "      <td>83311</td>\n",
              "      <td>215646</td>\n",
              "      <td>234721</td>\n",
              "      <td>338409</td>\n",
              "      <td>284582</td>\n",
              "      <td>160187</td>\n",
              "      <td>209642</td>\n",
              "      <td>45781</td>\n",
              "      <td>159449</td>\n",
              "      <td>...</td>\n",
              "      <td>34066</td>\n",
              "      <td>84661</td>\n",
              "      <td>116138</td>\n",
              "      <td>321865</td>\n",
              "      <td>310152</td>\n",
              "      <td>257302</td>\n",
              "      <td>154374</td>\n",
              "      <td>151910</td>\n",
              "      <td>201490</td>\n",
              "      <td>287927</td>\n",
              "    </tr>\n",
              "    <tr>\n",
              "      <th>4th</th>\n",
              "      <td>Bachelors</td>\n",
              "      <td>Bachelors</td>\n",
              "      <td>HS-grad</td>\n",
              "      <td>11th</td>\n",
              "      <td>Bachelors</td>\n",
              "      <td>Masters</td>\n",
              "      <td>9th</td>\n",
              "      <td>HS-grad</td>\n",
              "      <td>Masters</td>\n",
              "      <td>Bachelors</td>\n",
              "      <td>...</td>\n",
              "      <td>10th</td>\n",
              "      <td>Assoc-voc</td>\n",
              "      <td>Masters</td>\n",
              "      <td>Masters</td>\n",
              "      <td>Some-college</td>\n",
              "      <td>Assoc-acdm</td>\n",
              "      <td>HS-grad</td>\n",
              "      <td>HS-grad</td>\n",
              "      <td>HS-grad</td>\n",
              "      <td>HS-grad</td>\n",
              "    </tr>\n",
              "    <tr>\n",
              "      <th>4th</th>\n",
              "      <td>13</td>\n",
              "      <td>13</td>\n",
              "      <td>9</td>\n",
              "      <td>7</td>\n",
              "      <td>13</td>\n",
              "      <td>14</td>\n",
              "      <td>5</td>\n",
              "      <td>9</td>\n",
              "      <td>14</td>\n",
              "      <td>13</td>\n",
              "      <td>...</td>\n",
              "      <td>6</td>\n",
              "      <td>11</td>\n",
              "      <td>14</td>\n",
              "      <td>14</td>\n",
              "      <td>10</td>\n",
              "      <td>12</td>\n",
              "      <td>9</td>\n",
              "      <td>9</td>\n",
              "      <td>9</td>\n",
              "      <td>9</td>\n",
              "    </tr>\n",
              "    <tr>\n",
              "      <th>4th</th>\n",
              "      <td>Never-married</td>\n",
              "      <td>Married-civ-spouse</td>\n",
              "      <td>Divorced</td>\n",
              "      <td>Married-civ-spouse</td>\n",
              "      <td>Married-civ-spouse</td>\n",
              "      <td>Married-civ-spouse</td>\n",
              "      <td>Married-spouse-absent</td>\n",
              "      <td>Married-civ-spouse</td>\n",
              "      <td>Never-married</td>\n",
              "      <td>Married-civ-spouse</td>\n",
              "      <td>...</td>\n",
              "      <td>Married-civ-spouse</td>\n",
              "      <td>Married-civ-spouse</td>\n",
              "      <td>Never-married</td>\n",
              "      <td>Married-civ-spouse</td>\n",
              "      <td>Never-married</td>\n",
              "      <td>Married-civ-spouse</td>\n",
              "      <td>Married-civ-spouse</td>\n",
              "      <td>Widowed</td>\n",
              "      <td>Never-married</td>\n",
              "      <td>Married-civ-spouse</td>\n",
              "    </tr>\n",
              "    <tr>\n",
              "      <th>4th</th>\n",
              "      <td>Adm-clerical</td>\n",
              "      <td>Exec-managerial</td>\n",
              "      <td>Handlers-cleaners</td>\n",
              "      <td>Handlers-cleaners</td>\n",
              "      <td>Prof-specialty</td>\n",
              "      <td>Exec-managerial</td>\n",
              "      <td>Other-service</td>\n",
              "      <td>Exec-managerial</td>\n",
              "      <td>Prof-specialty</td>\n",
              "      <td>Exec-managerial</td>\n",
              "      <td>...</td>\n",
              "      <td>Handlers-cleaners</td>\n",
              "      <td>Sales</td>\n",
              "      <td>Tech-support</td>\n",
              "      <td>Exec-managerial</td>\n",
              "      <td>Protective-serv</td>\n",
              "      <td>Tech-support</td>\n",
              "      <td>Machine-op-inspct</td>\n",
              "      <td>Adm-clerical</td>\n",
              "      <td>Adm-clerical</td>\n",
              "      <td>Exec-managerial</td>\n",
              "    </tr>\n",
              "    <tr>\n",
              "      <th>4th</th>\n",
              "      <td>Not-in-family</td>\n",
              "      <td>Husband</td>\n",
              "      <td>Not-in-family</td>\n",
              "      <td>Husband</td>\n",
              "      <td>Wife</td>\n",
              "      <td>Wife</td>\n",
              "      <td>Not-in-family</td>\n",
              "      <td>Husband</td>\n",
              "      <td>Not-in-family</td>\n",
              "      <td>Husband</td>\n",
              "      <td>...</td>\n",
              "      <td>Husband</td>\n",
              "      <td>Husband</td>\n",
              "      <td>Not-in-family</td>\n",
              "      <td>Husband</td>\n",
              "      <td>Not-in-family</td>\n",
              "      <td>Wife</td>\n",
              "      <td>Husband</td>\n",
              "      <td>Unmarried</td>\n",
              "      <td>Own-child</td>\n",
              "      <td>Wife</td>\n",
              "    </tr>\n",
              "    <tr>\n",
              "      <th>4th</th>\n",
              "      <td>White</td>\n",
              "      <td>White</td>\n",
              "      <td>White</td>\n",
              "      <td>Black</td>\n",
              "      <td>Black</td>\n",
              "      <td>White</td>\n",
              "      <td>Black</td>\n",
              "      <td>White</td>\n",
              "      <td>White</td>\n",
              "      <td>White</td>\n",
              "      <td>...</td>\n",
              "      <td>Amer-Indian-Eskimo</td>\n",
              "      <td>White</td>\n",
              "      <td>Asian-Pac-Islander</td>\n",
              "      <td>White</td>\n",
              "      <td>White</td>\n",
              "      <td>White</td>\n",
              "      <td>White</td>\n",
              "      <td>White</td>\n",
              "      <td>White</td>\n",
              "      <td>White</td>\n",
              "    </tr>\n",
              "    <tr>\n",
              "      <th>4th</th>\n",
              "      <td>Male</td>\n",
              "      <td>Male</td>\n",
              "      <td>Male</td>\n",
              "      <td>Male</td>\n",
              "      <td>Female</td>\n",
              "      <td>Female</td>\n",
              "      <td>Female</td>\n",
              "      <td>Male</td>\n",
              "      <td>Female</td>\n",
              "      <td>Male</td>\n",
              "      <td>...</td>\n",
              "      <td>Male</td>\n",
              "      <td>Male</td>\n",
              "      <td>Male</td>\n",
              "      <td>Male</td>\n",
              "      <td>Male</td>\n",
              "      <td>Female</td>\n",
              "      <td>Male</td>\n",
              "      <td>Female</td>\n",
              "      <td>Male</td>\n",
              "      <td>Female</td>\n",
              "    </tr>\n",
              "    <tr>\n",
              "      <th>4th</th>\n",
              "      <td>2174</td>\n",
              "      <td>0</td>\n",
              "      <td>0</td>\n",
              "      <td>0</td>\n",
              "      <td>0</td>\n",
              "      <td>0</td>\n",
              "      <td>0</td>\n",
              "      <td>0</td>\n",
              "      <td>14084</td>\n",
              "      <td>5178</td>\n",
              "      <td>...</td>\n",
              "      <td>0</td>\n",
              "      <td>0</td>\n",
              "      <td>0</td>\n",
              "      <td>0</td>\n",
              "      <td>0</td>\n",
              "      <td>0</td>\n",
              "      <td>0</td>\n",
              "      <td>0</td>\n",
              "      <td>0</td>\n",
              "      <td>15024</td>\n",
              "    </tr>\n",
              "    <tr>\n",
              "      <th>4th</th>\n",
              "      <td>0</td>\n",
              "      <td>0</td>\n",
              "      <td>0</td>\n",
              "      <td>0</td>\n",
              "      <td>0</td>\n",
              "      <td>0</td>\n",
              "      <td>0</td>\n",
              "      <td>0</td>\n",
              "      <td>0</td>\n",
              "      <td>0</td>\n",
              "      <td>...</td>\n",
              "      <td>0</td>\n",
              "      <td>0</td>\n",
              "      <td>0</td>\n",
              "      <td>0</td>\n",
              "      <td>0</td>\n",
              "      <td>0</td>\n",
              "      <td>0</td>\n",
              "      <td>0</td>\n",
              "      <td>0</td>\n",
              "      <td>0</td>\n",
              "    </tr>\n",
              "    <tr>\n",
              "      <th>4th</th>\n",
              "      <td>40</td>\n",
              "      <td>13</td>\n",
              "      <td>40</td>\n",
              "      <td>40</td>\n",
              "      <td>40</td>\n",
              "      <td>40</td>\n",
              "      <td>16</td>\n",
              "      <td>45</td>\n",
              "      <td>50</td>\n",
              "      <td>40</td>\n",
              "      <td>...</td>\n",
              "      <td>40</td>\n",
              "      <td>45</td>\n",
              "      <td>11</td>\n",
              "      <td>40</td>\n",
              "      <td>40</td>\n",
              "      <td>38</td>\n",
              "      <td>40</td>\n",
              "      <td>40</td>\n",
              "      <td>20</td>\n",
              "      <td>40</td>\n",
              "    </tr>\n",
              "    <tr>\n",
              "      <th>4th</th>\n",
              "      <td>United-States</td>\n",
              "      <td>United-States</td>\n",
              "      <td>United-States</td>\n",
              "      <td>United-States</td>\n",
              "      <td>Cuba</td>\n",
              "      <td>United-States</td>\n",
              "      <td>Jamaica</td>\n",
              "      <td>United-States</td>\n",
              "      <td>United-States</td>\n",
              "      <td>United-States</td>\n",
              "      <td>...</td>\n",
              "      <td>United-States</td>\n",
              "      <td>United-States</td>\n",
              "      <td>Taiwan</td>\n",
              "      <td>United-States</td>\n",
              "      <td>United-States</td>\n",
              "      <td>United-States</td>\n",
              "      <td>United-States</td>\n",
              "      <td>United-States</td>\n",
              "      <td>United-States</td>\n",
              "      <td>United-States</td>\n",
              "    </tr>\n",
              "    <tr>\n",
              "      <th>4th</th>\n",
              "      <td>&lt;=50K</td>\n",
              "      <td>&lt;=50K</td>\n",
              "      <td>&lt;=50K</td>\n",
              "      <td>&lt;=50K</td>\n",
              "      <td>&lt;=50K</td>\n",
              "      <td>&lt;=50K</td>\n",
              "      <td>&lt;=50K</td>\n",
              "      <td>&gt;50K</td>\n",
              "      <td>&gt;50K</td>\n",
              "      <td>&gt;50K</td>\n",
              "      <td>...</td>\n",
              "      <td>&lt;=50K</td>\n",
              "      <td>&lt;=50K</td>\n",
              "      <td>&lt;=50K</td>\n",
              "      <td>&gt;50K</td>\n",
              "      <td>&lt;=50K</td>\n",
              "      <td>&lt;=50K</td>\n",
              "      <td>&gt;50K</td>\n",
              "      <td>&lt;=50K</td>\n",
              "      <td>&lt;=50K</td>\n",
              "      <td>&gt;50K</td>\n",
              "    </tr>\n",
              "  </tbody>\n",
              "</table>\n",
              "<p>15 rows × 32561 columns</p>\n",
              "</div>"
            ],
            "text/plain": [
              "              0                    1                   2      \\\n",
              "1st              39                   50                  38   \n",
              "2nd       State-gov     Self-emp-not-inc             Private   \n",
              "3rd           77516                83311              215646   \n",
              "4th       Bachelors            Bachelors             HS-grad   \n",
              "4th              13                   13                   9   \n",
              "4th   Never-married   Married-civ-spouse            Divorced   \n",
              "4th    Adm-clerical      Exec-managerial   Handlers-cleaners   \n",
              "4th   Not-in-family              Husband       Not-in-family   \n",
              "4th           White                White               White   \n",
              "4th            Male                 Male                Male   \n",
              "4th            2174                    0                   0   \n",
              "4th               0                    0                   0   \n",
              "4th              40                   13                  40   \n",
              "4th   United-States        United-States       United-States   \n",
              "4th           <=50K                <=50K               <=50K   \n",
              "\n",
              "                   3                    4                    5      \\\n",
              "1st                   53                   28                   37   \n",
              "2nd              Private              Private              Private   \n",
              "3rd               234721               338409               284582   \n",
              "4th                 11th            Bachelors              Masters   \n",
              "4th                    7                   13                   14   \n",
              "4th   Married-civ-spouse   Married-civ-spouse   Married-civ-spouse   \n",
              "4th    Handlers-cleaners       Prof-specialty      Exec-managerial   \n",
              "4th              Husband                 Wife                 Wife   \n",
              "4th                Black                Black                White   \n",
              "4th                 Male               Female               Female   \n",
              "4th                    0                    0                    0   \n",
              "4th                    0                    0                    0   \n",
              "4th                   40                   40                   40   \n",
              "4th        United-States                 Cuba        United-States   \n",
              "4th                <=50K                <=50K                <=50K   \n",
              "\n",
              "                      6                    7                8      \\\n",
              "1st                      49                   52               31   \n",
              "2nd                 Private     Self-emp-not-inc          Private   \n",
              "3rd                  160187               209642            45781   \n",
              "4th                     9th              HS-grad          Masters   \n",
              "4th                       5                    9               14   \n",
              "4th   Married-spouse-absent   Married-civ-spouse    Never-married   \n",
              "4th           Other-service      Exec-managerial   Prof-specialty   \n",
              "4th           Not-in-family              Husband    Not-in-family   \n",
              "4th                   Black                White            White   \n",
              "4th                  Female                 Male           Female   \n",
              "4th                       0                    0            14084   \n",
              "4th                       0                    0                0   \n",
              "4th                      16                   45               50   \n",
              "4th                 Jamaica        United-States    United-States   \n",
              "4th                   <=50K                 >50K             >50K   \n",
              "\n",
              "                   9             ...                         32551  \\\n",
              "1st                   42         ...                            32   \n",
              "2nd              Private         ...                       Private   \n",
              "3rd               159449         ...                         34066   \n",
              "4th            Bachelors         ...                          10th   \n",
              "4th                   13         ...                             6   \n",
              "4th   Married-civ-spouse         ...            Married-civ-spouse   \n",
              "4th      Exec-managerial         ...             Handlers-cleaners   \n",
              "4th              Husband         ...                       Husband   \n",
              "4th                White         ...            Amer-Indian-Eskimo   \n",
              "4th                 Male         ...                          Male   \n",
              "4th                 5178         ...                             0   \n",
              "4th                    0         ...                             0   \n",
              "4th                   40         ...                            40   \n",
              "4th        United-States         ...                 United-States   \n",
              "4th                 >50K         ...                         <=50K   \n",
              "\n",
              "                   32552                32553                32554  \\\n",
              "1st                   43                   32                   53   \n",
              "2nd              Private              Private              Private   \n",
              "3rd                84661               116138               321865   \n",
              "4th            Assoc-voc              Masters              Masters   \n",
              "4th                   11                   14                   14   \n",
              "4th   Married-civ-spouse        Never-married   Married-civ-spouse   \n",
              "4th                Sales         Tech-support      Exec-managerial   \n",
              "4th              Husband        Not-in-family              Husband   \n",
              "4th                White   Asian-Pac-Islander                White   \n",
              "4th                 Male                 Male                 Male   \n",
              "4th                    0                    0                    0   \n",
              "4th                    0                    0                    0   \n",
              "4th                   45                   11                   40   \n",
              "4th        United-States               Taiwan        United-States   \n",
              "4th                <=50K                <=50K                 >50K   \n",
              "\n",
              "                32555                32556                32557  \\\n",
              "1st                22                   27                   40   \n",
              "2nd           Private              Private              Private   \n",
              "3rd            310152               257302               154374   \n",
              "4th      Some-college           Assoc-acdm              HS-grad   \n",
              "4th                10                   12                    9   \n",
              "4th     Never-married   Married-civ-spouse   Married-civ-spouse   \n",
              "4th   Protective-serv         Tech-support    Machine-op-inspct   \n",
              "4th     Not-in-family                 Wife              Husband   \n",
              "4th             White                White                White   \n",
              "4th              Male               Female                 Male   \n",
              "4th                 0                    0                    0   \n",
              "4th                 0                    0                    0   \n",
              "4th                40                   38                   40   \n",
              "4th     United-States        United-States        United-States   \n",
              "4th             <=50K                <=50K                 >50K   \n",
              "\n",
              "              32558           32559                32560  \n",
              "1st              58              22                   52  \n",
              "2nd         Private         Private         Self-emp-inc  \n",
              "3rd          151910          201490               287927  \n",
              "4th         HS-grad         HS-grad              HS-grad  \n",
              "4th               9               9                    9  \n",
              "4th         Widowed   Never-married   Married-civ-spouse  \n",
              "4th    Adm-clerical    Adm-clerical      Exec-managerial  \n",
              "4th       Unmarried       Own-child                 Wife  \n",
              "4th           White           White                White  \n",
              "4th          Female            Male               Female  \n",
              "4th               0               0                15024  \n",
              "4th               0               0                    0  \n",
              "4th              40              20                   40  \n",
              "4th   United-States   United-States        United-States  \n",
              "4th           <=50K           <=50K                 >50K  \n",
              "\n",
              "[15 rows x 32561 columns]"
            ]
          },
          "metadata": {
            "tags": []
          },
          "execution_count": 110
        }
      ]
    },
    {
      "cell_type": "markdown",
      "metadata": {
        "id": "8vlJg_YGSCA2",
        "colab_type": "text"
      },
      "source": [
        ""
      ]
    },
    {
      "cell_type": "code",
      "metadata": {
        "id": "ZX4sbRiTSCA2",
        "colab_type": "code",
        "colab": {}
      },
      "source": [
        ""
      ],
      "execution_count": null,
      "outputs": []
    },
    {
      "cell_type": "code",
      "metadata": {
        "id": "bBxVo2eQSCA4",
        "colab_type": "code",
        "colab": {}
      },
      "source": [
        ""
      ],
      "execution_count": null,
      "outputs": []
    }
  ]
}