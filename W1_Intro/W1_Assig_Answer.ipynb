{
 "cells": [
  {
   "cell_type": "markdown",
   "metadata": {},
   "source": [
    "# Assignment 1: \n",
    "### Data science tools and libraries\n",
    "\n",
    "The purpose of this assignment is to recognize Python libraries and commands/syntax that are relevant for data science and statistical analysis.\n",
    "This assignment provides you with an opportunity to demonstrate the achievement of the following course learning outcomes:\n",
    "\n",
    "- Know most important libraries in Python that will be essential for implementation of data science projects in Python \n",
    "\n",
    "- Be able to manipulate datasets in Python\n",
    "\n",
    "### Key Information\n",
    "- **Type:** Individual\n",
    "- **Weight:** 6.5%\n",
    "- **Delivery:** Course website upload\n",
    "- **Due Date:** 22/01/2019\n"
   ]
  },
  {
   "cell_type": "markdown",
   "metadata": {},
   "source": [
    "### 1- Import Numpy, Pandas, Scipy, matplotlib, sklearn"
   ]
  },
  {
   "cell_type": "code",
   "execution_count": 1,
   "metadata": {},
   "outputs": [],
   "source": [
    "import numpy as np\n",
    "import pandas as pd\n",
    "import scipy as sc\n",
    "import matplotlib\n",
    "import sklearn"
   ]
  },
  {
   "cell_type": "markdown",
   "metadata": {},
   "source": [
    "### 2- Open supplied CSV file “Office” "
   ]
  },
  {
   "cell_type": "code",
   "execution_count": 4,
   "metadata": {},
   "outputs": [
    {
     "data": {
      "text/html": [
       "<div>\n",
       "<style scoped>\n",
       "    .dataframe tbody tr th:only-of-type {\n",
       "        vertical-align: middle;\n",
       "    }\n",
       "\n",
       "    .dataframe tbody tr th {\n",
       "        vertical-align: top;\n",
       "    }\n",
       "\n",
       "    .dataframe thead th {\n",
       "        text-align: right;\n",
       "    }\n",
       "</style>\n",
       "<table border=\"1\" class=\"dataframe\">\n",
       "  <thead>\n",
       "    <tr style=\"text-align: right;\">\n",
       "      <th></th>\n",
       "      <th>OrderDate</th>\n",
       "      <th>Region</th>\n",
       "      <th>Rep</th>\n",
       "      <th>Item</th>\n",
       "      <th>Units</th>\n",
       "      <th>Unit Price</th>\n",
       "    </tr>\n",
       "  </thead>\n",
       "  <tbody>\n",
       "    <tr>\n",
       "      <th>0</th>\n",
       "      <td>4-Jul-14</td>\n",
       "      <td>East</td>\n",
       "      <td>Richard</td>\n",
       "      <td>Pen Set</td>\n",
       "      <td>62</td>\n",
       "      <td>4.99</td>\n",
       "    </tr>\n",
       "    <tr>\n",
       "      <th>1</th>\n",
       "      <td>12-Jul-14</td>\n",
       "      <td>East</td>\n",
       "      <td>Nick</td>\n",
       "      <td>Binder</td>\n",
       "      <td>29</td>\n",
       "      <td>1.99</td>\n",
       "    </tr>\n",
       "    <tr>\n",
       "      <th>2</th>\n",
       "      <td>21-Jul-14</td>\n",
       "      <td>Central</td>\n",
       "      <td>Morgan</td>\n",
       "      <td>Pen Set</td>\n",
       "      <td>55</td>\n",
       "      <td>12.49</td>\n",
       "    </tr>\n",
       "    <tr>\n",
       "      <th>3</th>\n",
       "      <td>29-Jul-14</td>\n",
       "      <td>East</td>\n",
       "      <td>Susan</td>\n",
       "      <td>Binder</td>\n",
       "      <td>81</td>\n",
       "      <td>19.99</td>\n",
       "    </tr>\n",
       "    <tr>\n",
       "      <th>4</th>\n",
       "      <td>7-Aug-14</td>\n",
       "      <td>Central</td>\n",
       "      <td>Matthew</td>\n",
       "      <td>Pen Set</td>\n",
       "      <td>42</td>\n",
       "      <td>23.95</td>\n",
       "    </tr>\n",
       "  </tbody>\n",
       "</table>\n",
       "</div>"
      ],
      "text/plain": [
       "   OrderDate   Region      Rep     Item  Units  Unit Price\n",
       "0   4-Jul-14     East  Richard  Pen Set     62        4.99\n",
       "1  12-Jul-14     East     Nick   Binder     29        1.99\n",
       "2  21-Jul-14  Central   Morgan  Pen Set     55       12.49\n",
       "3  29-Jul-14     East    Susan   Binder     81       19.99\n",
       "4   7-Aug-14  Central  Matthew  Pen Set     42       23.95"
      ]
     },
     "execution_count": 4,
     "metadata": {},
     "output_type": "execute_result"
    }
   ],
   "source": [
    "## your code here\n",
    "df=pd.read_table(\"Office.csv\",sep=',')\n",
    "\n",
    "df.head()"
   ]
  },
  {
   "cell_type": "markdown",
   "metadata": {},
   "source": [
    "### 3- Characterize the dataset: \n",
    "\n",
    "Use: name.describe()"
   ]
  },
  {
   "cell_type": "code",
   "execution_count": 9,
   "metadata": {},
   "outputs": [
    {
     "data": {
      "text/html": [
       "<div>\n",
       "<style scoped>\n",
       "    .dataframe tbody tr th:only-of-type {\n",
       "        vertical-align: middle;\n",
       "    }\n",
       "\n",
       "    .dataframe tbody tr th {\n",
       "        vertical-align: top;\n",
       "    }\n",
       "\n",
       "    .dataframe thead th {\n",
       "        text-align: right;\n",
       "    }\n",
       "</style>\n",
       "<table border=\"1\" class=\"dataframe\">\n",
       "  <thead>\n",
       "    <tr style=\"text-align: right;\">\n",
       "      <th></th>\n",
       "      <th>Units</th>\n",
       "      <th>Unit Price</th>\n",
       "    </tr>\n",
       "  </thead>\n",
       "  <tbody>\n",
       "    <tr>\n",
       "      <th>count</th>\n",
       "      <td>43.000000</td>\n",
       "      <td>43.000000</td>\n",
       "    </tr>\n",
       "    <tr>\n",
       "      <th>mean</th>\n",
       "      <td>49.325581</td>\n",
       "      <td>20.308605</td>\n",
       "    </tr>\n",
       "    <tr>\n",
       "      <th>std</th>\n",
       "      <td>30.078248</td>\n",
       "      <td>47.345118</td>\n",
       "    </tr>\n",
       "    <tr>\n",
       "      <th>min</th>\n",
       "      <td>2.000000</td>\n",
       "      <td>1.290000</td>\n",
       "    </tr>\n",
       "    <tr>\n",
       "      <th>25%</th>\n",
       "      <td>27.500000</td>\n",
       "      <td>3.990000</td>\n",
       "    </tr>\n",
       "    <tr>\n",
       "      <th>50%</th>\n",
       "      <td>53.000000</td>\n",
       "      <td>4.990000</td>\n",
       "    </tr>\n",
       "    <tr>\n",
       "      <th>75%</th>\n",
       "      <td>74.500000</td>\n",
       "      <td>17.990000</td>\n",
       "    </tr>\n",
       "    <tr>\n",
       "      <th>max</th>\n",
       "      <td>96.000000</td>\n",
       "      <td>275.000000</td>\n",
       "    </tr>\n",
       "  </tbody>\n",
       "</table>\n",
       "</div>"
      ],
      "text/plain": [
       "           Units  Unit Price\n",
       "count  43.000000   43.000000\n",
       "mean   49.325581   20.308605\n",
       "std    30.078248   47.345118\n",
       "min     2.000000    1.290000\n",
       "25%    27.500000    3.990000\n",
       "50%    53.000000    4.990000\n",
       "75%    74.500000   17.990000\n",
       "max    96.000000  275.000000"
      ]
     },
     "execution_count": 9,
     "metadata": {},
     "output_type": "execute_result"
    }
   ],
   "source": [
    "# Write your code here\n",
    "\n",
    "df.describe()"
   ]
  },
  {
   "cell_type": "markdown",
   "metadata": {},
   "source": [
    "#### Create two new variables X and Y with number of values matching length of columns in the imported file: \n",
    "\n",
    "Use: numpy:random.random(length) "
   ]
  },
  {
   "cell_type": "code",
   "execution_count": 11,
   "metadata": {},
   "outputs": [
    {
     "name": "stdout",
     "output_type": "stream",
     "text": [
      "[49.63387831 99.00878063  4.25061524 14.32782427  4.39397477 55.46287469\n",
      " 44.49241913  5.82810926 93.36216636 67.11436446 13.32011114 80.58169254\n",
      " 37.35256058 21.87448893 36.83603684 96.10756463  3.36135176  6.83408782\n",
      " 48.51029113 15.4027417  49.91244863 47.99665249 77.55397514 92.47757151\n",
      " 90.42868745 75.84963597 39.8460133  22.42920531 47.54137469 44.99407535\n",
      " 68.33238616 82.59845517 93.94357471 32.55137249 78.64913686 52.12615386\n",
      " 30.61421109 48.05826622  3.37803886 69.46495281  1.622586   95.30994241\n",
      " 65.46342549]\n"
     ]
    }
   ],
   "source": [
    "x = np.random.random(43)\n",
    "x=x*100\n",
    "y = np.random.random(43)\n",
    "y=y*100\n",
    "\n",
    "print(y)"
   ]
  },
  {
   "cell_type": "markdown",
   "metadata": {},
   "source": [
    "### 4- Scale created variables to be within 0-100 value range\n",
    "\n",
    "Use: name=name*100"
   ]
  },
  {
   "cell_type": "code",
   "execution_count": 13,
   "metadata": {},
   "outputs": [],
   "source": [
    "## Write your code here\n"
   ]
  },
  {
   "cell_type": "markdown",
   "metadata": {},
   "source": [
    "### 5-Create third variable Z as a function between X and Y that utilizes functions “+”, “*”, “/”"
   ]
  },
  {
   "cell_type": "code",
   "execution_count": 14,
   "metadata": {},
   "outputs": [],
   "source": [
    "## Write your code here\n",
    "\n"
   ]
  },
  {
   "cell_type": "markdown",
   "metadata": {},
   "source": [
    "### 6- Create forth dataset ZZ as ascending range of values from 0 to the number of elements each vector should have:\n",
    "Use: ZZ =np.arange(numberofelements)\n"
   ]
  },
  {
   "cell_type": "code",
   "execution_count": 16,
   "metadata": {},
   "outputs": [],
   "source": [
    "## Write your code here\n"
   ]
  },
  {
   "cell_type": "markdown",
   "metadata": {},
   "source": [
    "### 7-Combine X, Y, Z and ZZ informing a table T:\n",
    "Use: T = numpy.array ( list (zip (x,y,z,zz)))\n"
   ]
  },
  {
   "cell_type": "code",
   "execution_count": 22,
   "metadata": {},
   "outputs": [],
   "source": [
    "## Write your code here"
   ]
  },
  {
   "cell_type": "markdown",
   "metadata": {},
   "source": [
    "### 8- Combine T with the original dataset imported from CVS:\n",
    "Use: dataset3 = numpy.c_(dataset1, dataset2)\n"
   ]
  },
  {
   "cell_type": "code",
   "execution_count": 27,
   "metadata": {},
   "outputs": [],
   "source": [
    "## Write your code here\n"
   ]
  },
  {
   "cell_type": "markdown",
   "metadata": {},
   "source": [
    "### 9- Create labels for new dataset so X, Y and Z  columns are labeled as “Demand”, Supply”, “Projected growth”, ‘Index’\n",
    "\n",
    "Use: column_labels = [‘Name’, ‘Name2, “Name3’]"
   ]
  },
  {
   "cell_type": "code",
   "execution_count": 26,
   "metadata": {},
   "outputs": [],
   "source": [
    "## Write your code here\n"
   ]
  },
  {
   "cell_type": "markdown",
   "metadata": {},
   "source": [
    "### 10-Combine labels with the dataset: \n",
    "Use: pandas.dataframe (dataset, columns = column_labels) \n"
   ]
  },
  {
   "cell_type": "code",
   "execution_count": 28,
   "metadata": {},
   "outputs": [],
   "source": [
    "## Write your code here"
   ]
  },
  {
   "cell_type": "code",
   "execution_count": null,
   "metadata": {},
   "outputs": [],
   "source": []
  }
 ],
 "metadata": {
  "kernelspec": {
   "display_name": "Python 3",
   "language": "python",
   "name": "python3"
  },
  "language_info": {
   "codemirror_mode": {
    "name": "ipython",
    "version": 3
   },
   "file_extension": ".py",
   "mimetype": "text/x-python",
   "name": "python",
   "nbconvert_exporter": "python",
   "pygments_lexer": "ipython3",
   "version": "3.6.3"
  }
 },
 "nbformat": 4,
 "nbformat_minor": 2
}
