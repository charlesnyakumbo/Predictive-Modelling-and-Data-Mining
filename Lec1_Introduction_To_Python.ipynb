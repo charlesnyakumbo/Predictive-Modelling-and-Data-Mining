{
 "cells": [
  {
   "cell_type": "markdown",
   "metadata": {
    "collapsed": true
   },
   "source": [
    "# <center> Introduction to Python </center>\n",
    "## <center> [For more information, check the link here.](https://www.py4e.com/lessons) </center>\n",
    "\n",
    "\n"
   ]
  },
  {
   "cell_type": "markdown",
   "metadata": {},
   "source": [
    "## Agenda\n",
    "\n",
    "- Constants and Variables\n",
    "- How do I choose the **best tuning parameters** for that model?\n",
    "- How do I estimate the **likely performance of my model** on out-of-sample data?"
   ]
  },
  {
   "cell_type": "markdown",
   "metadata": {
    "collapsed": true
   },
   "source": [
    "\n",
    "## 1- Constants:\n",
    "\n",
    "Fixed values that can not be changed such as numbers or letters.\n",
    "\n",
    "#### example: \n",
    "\n",
    "print(54) <br>\n",
    "print('Hello Class!') <br>\n",
    "\n",
    "\n",
    "\n"
   ]
  },
  {
   "cell_type": "code",
   "execution_count": null,
   "metadata": {
    "collapsed": true
   },
   "outputs": [],
   "source": [
    "print(54) \n",
    "print('Hello Class!') "
   ]
  },
  {
   "cell_type": "markdown",
   "metadata": {},
   "source": [
    "## 2- Variables:\n",
    "\n",
    "Named places in the memory where a programmer can store data and later retrieve them (with the variable name).\n",
    "\n",
    "#### example: \n",
    "\n",
    "A= 14 <br>\n",
    "B= 29 <br>\n",
    "A= 32 <br>\n",
    "<br>\n",
    "A=?"
   ]
  },
  {
   "cell_type": "code",
   "execution_count": 3,
   "metadata": {},
   "outputs": [
    {
     "data": {
      "text/plain": [
       "32"
      ]
     },
     "execution_count": 3,
     "metadata": {},
     "output_type": "execute_result"
    }
   ],
   "source": [
    "A= 14 \n",
    "B= 29 \n",
    "A= 32 \n",
    "\n",
    "A"
   ]
  },
  {
   "cell_type": "markdown",
   "metadata": {
    "collapsed": true
   },
   "source": [
    "## 3- Numerical Expressions\n",
    "\n",
    "* Addition     +\n",
    "* Subtraction  -\n",
    "* Multiplication *\n",
    "* Division /\n",
    "* Power **\n",
    "* Remainder %"
   ]
  },
  {
   "cell_type": "code",
   "execution_count": 5,
   "metadata": {},
   "outputs": [
    {
     "data": {
      "text/plain": [
       "3"
      ]
     },
     "execution_count": 5,
     "metadata": {},
     "output_type": "execute_result"
    }
   ],
   "source": [
    "23 % 5"
   ]
  },
  {
   "cell_type": "markdown",
   "metadata": {},
   "source": [
    "## 4- Types of Variables and Constants\n",
    "\n",
    "* int\n",
    "* str\n",
    "* float\n",
    "\n",
    "### example:\n",
    "\n",
    "* type('Hamilton')=?\n",
    "* type(53)=?\n",
    "* type(53.2)=?\n"
   ]
  },
  {
   "cell_type": "code",
   "execution_count": 9,
   "metadata": {},
   "outputs": [
    {
     "data": {
      "text/plain": [
       "int"
      ]
     },
     "execution_count": 9,
     "metadata": {},
     "output_type": "execute_result"
    }
   ],
   "source": [
    "type(53)"
   ]
  },
  {
   "attachments": {},
   "cell_type": "markdown",
   "metadata": {},
   "source": [
    "## 5- Conditional Execution\n",
    "\n",
    "* Less than <\n",
    "* Less than or equal to <=\n",
    "* Greater than >\n",
    "* Greater than or equal to >=\n",
    "* Equal to ==\n",
    "* Not Equal to !=\n"
   ]
  },
  {
   "cell_type": "code",
   "execution_count": 21,
   "metadata": {},
   "outputs": [
    {
     "name": "stdout",
     "output_type": "stream",
     "text": [
      "It was equal ...\n",
      "It was less than ...\n"
     ]
    }
   ],
   "source": [
    "x=35\n",
    "\n",
    "if x == 35:\n",
    "    print('It was equal ...')\n",
    "\n",
    "if x < 100:\n",
    "        print('It was less than ...')\n",
    "    \n",
    "    "
   ]
  },
  {
   "cell_type": "code",
   "execution_count": 23,
   "metadata": {},
   "outputs": [
    {
     "name": "stdout",
     "output_type": "stream",
     "text": [
      "It was equal ...\n"
     ]
    }
   ],
   "source": [
    "x=35\n",
    "\n",
    "if x == 35:\n",
    "    print('It was equal ...')\n",
    "\n",
    "elif x < 100:\n",
    "        print('It was less than ...')\n",
    "    \n",
    "    "
   ]
  },
  {
   "cell_type": "code",
   "execution_count": 25,
   "metadata": {},
   "outputs": [
    {
     "name": "stdout",
     "output_type": "stream",
     "text": [
      "They were not equal ...\n"
     ]
    }
   ],
   "source": [
    "y= 'Canada'\n",
    "\n",
    "if y== 'USA':\n",
    "    print(Y)\n",
    "    \n",
    "else:\n",
    "    print('They were not equal ...')"
   ]
  },
  {
   "cell_type": "code",
   "execution_count": null,
   "metadata": {
    "collapsed": true
   },
   "outputs": [],
   "source": []
  }
 ],
 "metadata": {
  "kernelspec": {
   "display_name": "Python 3",
   "language": "python",
   "name": "python3"
  },
  "language_info": {
   "codemirror_mode": {
    "name": "ipython",
    "version": 3
   },
   "file_extension": ".py",
   "mimetype": "text/x-python",
   "name": "python",
   "nbconvert_exporter": "python",
   "pygments_lexer": "ipython3",
   "version": "3.6.3"
  }
 },
 "nbformat": 4,
 "nbformat_minor": 2
}
