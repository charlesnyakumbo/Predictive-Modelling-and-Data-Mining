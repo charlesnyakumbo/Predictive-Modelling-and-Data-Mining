{
 "cells": [
  {
   "cell_type": "markdown",
   "metadata": {},
   "source": [
    "# <center> Introduction to Python </center>\n",
    "## <center> [For more information, check the link here.](https://www.py4e.com/lessons) </center>\n",
    "\n",
    "\n"
   ]
  },
  {
   "cell_type": "markdown",
   "metadata": {},
   "source": [
    "## Agenda \n",
    "\n",
    "- Constants and Variables\n",
    "- How do I choose the **best tuning parameters** for that model?\n",
    "- How do I estimate the **likely performance of my model** on out-of-sample data?"
   ]
  },
  {
   "cell_type": "markdown",
   "metadata": {},
   "source": [
    "\n",
    "## 1- Constants:\n",
    "\n",
    "Fixed values that can not be changed such as numbers or letters.\n",
    "\n",
    "#### example: \n",
    "\n",
    "print(54) <br>\n",
    "print('Hello Class!') <br>\n",
    "\n",
    "\n",
    "\n"
   ]
  },
  {
   "cell_type": "code",
   "execution_count": 1,
   "metadata": {
    "collapsed": true
   },
   "outputs": [
    {
     "name": "stdout",
     "output_type": "stream",
     "text": [
      "54\n",
      "Hello Class!\n"
     ]
    }
   ],
   "source": [
    "print(54) \n",
    "print('Hello Class!') "
   ]
  },
  {
   "cell_type": "markdown",
   "metadata": {},
   "source": [
    "## 2- Variables:\n",
    "\n",
    "Named places in the memory where a programmer can store data and later retrieve them (with the variable name).\n",
    "\n",
    "#### example: \n",
    "\n",
    "A= 14 <br>\n",
    "B= 29 <br>\n",
    "A= 32 <br>\n",
    "<br>\n",
    "A=?"
   ]
  },
  {
   "cell_type": "code",
   "execution_count": 3,
   "metadata": {},
   "outputs": [
    {
     "data": {
      "text/plain": [
       "32"
      ]
     },
     "execution_count": 3,
     "metadata": {},
     "output_type": "execute_result"
    }
   ],
   "source": [
    "A= 14 \n",
    "B= 29 \n",
    "A= 32 \n",
    "\n",
    "A"
   ]
  },
  {
   "cell_type": "markdown",
   "metadata": {},
   "source": [
    "## 3- Numerical Expressions\n",
    "\n",
    "* Addition     +\n",
    "* Subtraction  -\n",
    "* Multiplication *\n",
    "* Division /\n",
    "* Power **\n",
    "* Remainder %"
   ]
  },
  {
   "cell_type": "code",
   "execution_count": 1,
   "metadata": {},
   "outputs": [
    {
     "data": {
      "text/plain": [
       "2"
      ]
     },
     "execution_count": 1,
     "metadata": {},
     "output_type": "execute_result"
    }
   ],
   "source": [
    "23 % 7"
   ]
  },
  {
   "cell_type": "markdown",
   "metadata": {},
   "source": [
    "## 4- Types of Variables and Constants\n",
    "\n",
    "* int\n",
    "* str\n",
    "* float\n",
    "\n",
    "### example:\n",
    "\n",
    "* type('Hamilton')=?\n",
    "* type(53)=?\n",
    "* type(53.2)=?\n"
   ]
  },
  {
   "cell_type": "code",
   "execution_count": 9,
   "metadata": {},
   "outputs": [
    {
     "data": {
      "text/plain": [
       "int"
      ]
     },
     "execution_count": 9,
     "metadata": {},
     "output_type": "execute_result"
    }
   ],
   "source": [
    "type(53)"
   ]
  },
  {
   "cell_type": "markdown",
   "metadata": {},
   "source": [
    "## 5- Conditional Execution\n",
    "\n",
    "* Less than <\n",
    "* Less than or equal to <=\n",
    "* Greater than >\n",
    "* Greater than or equal to >=\n",
    "* Equal to ==\n",
    "* Not Equal to !=\n"
   ]
  },
  {
   "cell_type": "code",
   "execution_count": 21,
   "metadata": {},
   "outputs": [
    {
     "name": "stdout",
     "output_type": "stream",
     "text": [
      "It was equal ...\n",
      "It was less than ...\n"
     ]
    }
   ],
   "source": [
    "x=35\n",
    "\n",
    "if x == 35:\n",
    "    print('It was equal ...')\n",
    "\n",
    "if x < 100:\n",
    "        print('It was less than ...')\n",
    "    \n",
    "    "
   ]
  },
  {
   "cell_type": "code",
   "execution_count": 23,
   "metadata": {},
   "outputs": [
    {
     "name": "stdout",
     "output_type": "stream",
     "text": [
      "It was equal ...\n"
     ]
    }
   ],
   "source": [
    "x=35\n",
    "\n",
    "if x == 35:\n",
    "    print('It was equal ...')\n",
    "\n",
    "elif x < 100:\n",
    "        print('It was less than ...')\n",
    "    \n",
    "    "
   ]
  },
  {
   "cell_type": "code",
   "execution_count": 25,
   "metadata": {},
   "outputs": [
    {
     "name": "stdout",
     "output_type": "stream",
     "text": [
      "They were not equal ...\n"
     ]
    }
   ],
   "source": [
    "y= 'Canada'\n",
    "\n",
    "if y== 'USA':\n",
    "    print(Y)\n",
    "    \n",
    "else:\n",
    "    print('They were not equal ...')"
   ]
  },
  {
   "cell_type": "markdown",
   "metadata": {},
   "source": [
    "## 6- Debugging codes with \"Try/Except\"\n",
    "\n",
    "* If the code in \"try\" works, the \"except\" section is skipped.\n",
    "* If the code in the try fails, it jumps to the \"except\" section."
   ]
  },
  {
   "cell_type": "code",
   "execution_count": 9,
   "metadata": {},
   "outputs": [
    {
     "ename": "ValueError",
     "evalue": "invalid literal for int() with base 10: 'Hello Bob'",
     "output_type": "error",
     "traceback": [
      "\u001b[1;31m---------------------------------------------------------------------------\u001b[0m",
      "\u001b[1;31mValueError\u001b[0m                                Traceback (most recent call last)",
      "\u001b[1;32m<ipython-input-9-c9454088f213>\u001b[0m in \u001b[0;36m<module>\u001b[1;34m()\u001b[0m\n\u001b[0;32m      1\u001b[0m \u001b[0mBook\u001b[0m \u001b[1;33m=\u001b[0m \u001b[1;34m'Hello Bob'\u001b[0m\u001b[1;33m\u001b[0m\u001b[0m\n\u001b[1;32m----> 2\u001b[1;33m \u001b[0mPen\u001b[0m \u001b[1;33m=\u001b[0m \u001b[0mint\u001b[0m\u001b[1;33m(\u001b[0m\u001b[0mBook\u001b[0m\u001b[1;33m)\u001b[0m\u001b[1;33m\u001b[0m\u001b[0m\n\u001b[0m\u001b[0;32m      3\u001b[0m \u001b[0mprint\u001b[0m\u001b[1;33m(\u001b[0m\u001b[1;34m'First'\u001b[0m\u001b[1;33m,\u001b[0m \u001b[0mBook\u001b[0m\u001b[1;33m)\u001b[0m\u001b[1;33m\u001b[0m\u001b[0m\n\u001b[0;32m      4\u001b[0m \u001b[1;33m\u001b[0m\u001b[0m\n\u001b[0;32m      5\u001b[0m \u001b[1;33m\u001b[0m\u001b[0m\n",
      "\u001b[1;31mValueError\u001b[0m: invalid literal for int() with base 10: 'Hello Bob'"
     ]
    }
   ],
   "source": [
    "Book = 'Hello Bob'\n",
    "Pen = int(Book)\n",
    "print('First', Book)\n",
    "\n",
    "\n"
   ]
  },
  {
   "cell_type": "code",
   "execution_count": 6,
   "metadata": {},
   "outputs": [
    {
     "name": "stdout",
     "output_type": "stream",
     "text": [
      "Program continued but you should check the first part ...\n"
     ]
    }
   ],
   "source": [
    "try:\n",
    "    Book = 'Hello Bob'\n",
    "    Pen = int(hello)\n",
    "    print('First', Book)\n",
    "    \n",
    "except:\n",
    "    print('Program continued but you should check the first part ...')\n",
    "    \n",
    "    \n",
    "    "
   ]
  },
  {
   "cell_type": "code",
   "execution_count": null,
   "metadata": {},
   "outputs": [],
   "source": []
  }
 ],
 "metadata": {
  "kernelspec": {
   "display_name": "Python 3",
   "language": "python",
   "name": "python3"
  },
  "language_info": {
   "codemirror_mode": {
    "name": "ipython",
    "version": 3
   },
   "file_extension": ".py",
   "mimetype": "text/x-python",
   "name": "python",
   "nbconvert_exporter": "python",
   "pygments_lexer": "ipython3",
   "version": "3.6.3"
  }
 },
 "nbformat": 4,
 "nbformat_minor": 2
}
