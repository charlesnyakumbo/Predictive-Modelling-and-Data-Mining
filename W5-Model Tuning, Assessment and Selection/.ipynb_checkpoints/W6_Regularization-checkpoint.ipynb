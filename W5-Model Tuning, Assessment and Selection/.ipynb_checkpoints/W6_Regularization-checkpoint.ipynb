{
 "cells": [
  {
   "cell_type": "markdown",
   "metadata": {
    "_uuid": "38ed2648d44595868ec2fc83517bb6e42998b133"
   },
   "source": [
    "**Table of Content:** <br/>\n",
    "This notebook is an illustration of how regularized linear models work, using the house prices **training** set. <br/>\n",
    "I did submit my prediction just to see how it performs on the test set, but the purpose is **not** to enter competition, but to teach the various regularization methods. \n",
    "\n",
    "* Single-variable models (for illustration purposes)\n",
    "    * Ridge regression\n",
    "    * Lasso regression\n",
    "    * Elastic net\n",
    "* Multi-variable models\n",
    "    * Elastic net\n",
    "    * SGD and early stopping (with k-fold splitting)"
   ]
  },
  {
   "cell_type": "code",
   "execution_count": 1,
   "metadata": {
    "_cell_guid": "b1076dfc-b9ad-4769-8c92-a6c4dae69d19",
    "_uuid": "8f2839f25d086af736a60e9eeb907d3b93b6e0e5"
   },
   "outputs": [],
   "source": [
    "import numpy as np \n",
    "import pandas as pd \n",
    "import matplotlib.pyplot as plt\n",
    "from sklearn.linear_model import LinearRegression\n",
    "from sklearn.preprocessing import PolynomialFeatures\n",
    "from sklearn.preprocessing import StandardScaler\n",
    "from sklearn.linear_model import Ridge\n",
    "from sklearn.linear_model import Lasso\n",
    "from sklearn.linear_model import ElasticNet\n",
    "import os\n",
    "#print(os.listdir(\"../input\"))"
   ]
  },
  {
   "cell_type": "code",
   "execution_count": 2,
   "metadata": {
    "_uuid": "57541b1f0d3504aa4a73218f328b761017fa8eb8"
   },
   "outputs": [],
   "source": [
    "plt.rc('axes', lw = 1.5)\n",
    "plt.rc('xtick', labelsize = 14)\n",
    "plt.rc('ytick', labelsize = 14)\n",
    "plt.rc('xtick.major', size = 5, width = 3)\n",
    "plt.rc('ytick.major', size = 5, width = 3)"
   ]
  },
  {
   "cell_type": "markdown",
   "metadata": {
    "_cell_guid": "79c7e3d0-c299-4dcb-8224-4455121ee9b0",
    "_uuid": "d629ff2d2480ee46fbb7e2d37f6b5fab8052498a"
   },
   "source": [
    "These dataset are from the House Prices competition, yet the purpose of this Notebook is to learn and experiment with regularized linear models. <br/>\n",
    "We will first choose just one independent variable for visualization purpose, and try out different regularized linear models. Later we will expand the models to multiple independent variables. <br/>\n",
    "Data description is available here: https://www.kaggle.com/c/house-prices-advanced-regression-techniques/data"
   ]
  },
  {
   "cell_type": "code",
   "execution_count": 3,
   "metadata": {
    "_uuid": "be67b4481e345870f469d7eda8e8dadc79c631b9"
   },
   "outputs": [
    {
     "data": {
      "text/html": [
       "<div>\n",
       "<style scoped>\n",
       "    .dataframe tbody tr th:only-of-type {\n",
       "        vertical-align: middle;\n",
       "    }\n",
       "\n",
       "    .dataframe tbody tr th {\n",
       "        vertical-align: top;\n",
       "    }\n",
       "\n",
       "    .dataframe thead th {\n",
       "        text-align: right;\n",
       "    }\n",
       "</style>\n",
       "<table border=\"1\" class=\"dataframe\">\n",
       "  <thead>\n",
       "    <tr style=\"text-align: right;\">\n",
       "      <th></th>\n",
       "      <th>Id</th>\n",
       "      <th>MSSubClass</th>\n",
       "      <th>MSZoning</th>\n",
       "      <th>LotFrontage</th>\n",
       "      <th>LotArea</th>\n",
       "      <th>Street</th>\n",
       "      <th>Alley</th>\n",
       "      <th>LotShape</th>\n",
       "      <th>LandContour</th>\n",
       "      <th>Utilities</th>\n",
       "      <th>...</th>\n",
       "      <th>PoolArea</th>\n",
       "      <th>PoolQC</th>\n",
       "      <th>Fence</th>\n",
       "      <th>MiscFeature</th>\n",
       "      <th>MiscVal</th>\n",
       "      <th>MoSold</th>\n",
       "      <th>YrSold</th>\n",
       "      <th>SaleType</th>\n",
       "      <th>SaleCondition</th>\n",
       "      <th>SalePrice</th>\n",
       "    </tr>\n",
       "  </thead>\n",
       "  <tbody>\n",
       "    <tr>\n",
       "      <th>0</th>\n",
       "      <td>1</td>\n",
       "      <td>60</td>\n",
       "      <td>RL</td>\n",
       "      <td>65.0</td>\n",
       "      <td>8450</td>\n",
       "      <td>Pave</td>\n",
       "      <td>NaN</td>\n",
       "      <td>Reg</td>\n",
       "      <td>Lvl</td>\n",
       "      <td>AllPub</td>\n",
       "      <td>...</td>\n",
       "      <td>0</td>\n",
       "      <td>NaN</td>\n",
       "      <td>NaN</td>\n",
       "      <td>NaN</td>\n",
       "      <td>0</td>\n",
       "      <td>2</td>\n",
       "      <td>2008</td>\n",
       "      <td>WD</td>\n",
       "      <td>Normal</td>\n",
       "      <td>208500</td>\n",
       "    </tr>\n",
       "    <tr>\n",
       "      <th>1</th>\n",
       "      <td>2</td>\n",
       "      <td>20</td>\n",
       "      <td>RL</td>\n",
       "      <td>80.0</td>\n",
       "      <td>9600</td>\n",
       "      <td>Pave</td>\n",
       "      <td>NaN</td>\n",
       "      <td>Reg</td>\n",
       "      <td>Lvl</td>\n",
       "      <td>AllPub</td>\n",
       "      <td>...</td>\n",
       "      <td>0</td>\n",
       "      <td>NaN</td>\n",
       "      <td>NaN</td>\n",
       "      <td>NaN</td>\n",
       "      <td>0</td>\n",
       "      <td>5</td>\n",
       "      <td>2007</td>\n",
       "      <td>WD</td>\n",
       "      <td>Normal</td>\n",
       "      <td>181500</td>\n",
       "    </tr>\n",
       "    <tr>\n",
       "      <th>2</th>\n",
       "      <td>3</td>\n",
       "      <td>60</td>\n",
       "      <td>RL</td>\n",
       "      <td>68.0</td>\n",
       "      <td>11250</td>\n",
       "      <td>Pave</td>\n",
       "      <td>NaN</td>\n",
       "      <td>IR1</td>\n",
       "      <td>Lvl</td>\n",
       "      <td>AllPub</td>\n",
       "      <td>...</td>\n",
       "      <td>0</td>\n",
       "      <td>NaN</td>\n",
       "      <td>NaN</td>\n",
       "      <td>NaN</td>\n",
       "      <td>0</td>\n",
       "      <td>9</td>\n",
       "      <td>2008</td>\n",
       "      <td>WD</td>\n",
       "      <td>Normal</td>\n",
       "      <td>223500</td>\n",
       "    </tr>\n",
       "    <tr>\n",
       "      <th>3</th>\n",
       "      <td>4</td>\n",
       "      <td>70</td>\n",
       "      <td>RL</td>\n",
       "      <td>60.0</td>\n",
       "      <td>9550</td>\n",
       "      <td>Pave</td>\n",
       "      <td>NaN</td>\n",
       "      <td>IR1</td>\n",
       "      <td>Lvl</td>\n",
       "      <td>AllPub</td>\n",
       "      <td>...</td>\n",
       "      <td>0</td>\n",
       "      <td>NaN</td>\n",
       "      <td>NaN</td>\n",
       "      <td>NaN</td>\n",
       "      <td>0</td>\n",
       "      <td>2</td>\n",
       "      <td>2006</td>\n",
       "      <td>WD</td>\n",
       "      <td>Abnorml</td>\n",
       "      <td>140000</td>\n",
       "    </tr>\n",
       "    <tr>\n",
       "      <th>4</th>\n",
       "      <td>5</td>\n",
       "      <td>60</td>\n",
       "      <td>RL</td>\n",
       "      <td>84.0</td>\n",
       "      <td>14260</td>\n",
       "      <td>Pave</td>\n",
       "      <td>NaN</td>\n",
       "      <td>IR1</td>\n",
       "      <td>Lvl</td>\n",
       "      <td>AllPub</td>\n",
       "      <td>...</td>\n",
       "      <td>0</td>\n",
       "      <td>NaN</td>\n",
       "      <td>NaN</td>\n",
       "      <td>NaN</td>\n",
       "      <td>0</td>\n",
       "      <td>12</td>\n",
       "      <td>2008</td>\n",
       "      <td>WD</td>\n",
       "      <td>Normal</td>\n",
       "      <td>250000</td>\n",
       "    </tr>\n",
       "  </tbody>\n",
       "</table>\n",
       "<p>5 rows × 81 columns</p>\n",
       "</div>"
      ],
      "text/plain": [
       "   Id  MSSubClass MSZoning  LotFrontage  LotArea Street Alley LotShape  \\\n",
       "0   1          60       RL         65.0     8450   Pave   NaN      Reg   \n",
       "1   2          20       RL         80.0     9600   Pave   NaN      Reg   \n",
       "2   3          60       RL         68.0    11250   Pave   NaN      IR1   \n",
       "3   4          70       RL         60.0     9550   Pave   NaN      IR1   \n",
       "4   5          60       RL         84.0    14260   Pave   NaN      IR1   \n",
       "\n",
       "  LandContour Utilities    ...     PoolArea PoolQC Fence MiscFeature MiscVal  \\\n",
       "0         Lvl    AllPub    ...            0    NaN   NaN         NaN       0   \n",
       "1         Lvl    AllPub    ...            0    NaN   NaN         NaN       0   \n",
       "2         Lvl    AllPub    ...            0    NaN   NaN         NaN       0   \n",
       "3         Lvl    AllPub    ...            0    NaN   NaN         NaN       0   \n",
       "4         Lvl    AllPub    ...            0    NaN   NaN         NaN       0   \n",
       "\n",
       "  MoSold YrSold  SaleType  SaleCondition  SalePrice  \n",
       "0      2   2008        WD         Normal     208500  \n",
       "1      5   2007        WD         Normal     181500  \n",
       "2      9   2008        WD         Normal     223500  \n",
       "3      2   2006        WD        Abnorml     140000  \n",
       "4     12   2008        WD         Normal     250000  \n",
       "\n",
       "[5 rows x 81 columns]"
      ]
     },
     "execution_count": 3,
     "metadata": {},
     "output_type": "execute_result"
    }
   ],
   "source": [
    "# open the training dataset\n",
    "dataTrain = pd.read_csv('train.csv')\n",
    "dataTrain.head()"
   ]
  },
  {
   "cell_type": "markdown",
   "metadata": {
    "_uuid": "1a9cf2156d3642a23c80940a95bcc3a62bf01ec3"
   },
   "source": [
    "Since we have not talked about catgorical data, we will focus only on numeric features here. <br/>"
   ]
  },
  {
   "cell_type": "code",
   "execution_count": 4,
   "metadata": {
    "_uuid": "d37b351b3795bdc442f7ef5c3812c87e8fc2b610"
   },
   "outputs": [
    {
     "data": {
      "text/html": [
       "<div>\n",
       "<style scoped>\n",
       "    .dataframe tbody tr th:only-of-type {\n",
       "        vertical-align: middle;\n",
       "    }\n",
       "\n",
       "    .dataframe tbody tr th {\n",
       "        vertical-align: top;\n",
       "    }\n",
       "\n",
       "    .dataframe thead th {\n",
       "        text-align: right;\n",
       "    }\n",
       "</style>\n",
       "<table border=\"1\" class=\"dataframe\">\n",
       "  <thead>\n",
       "    <tr style=\"text-align: right;\">\n",
       "      <th></th>\n",
       "      <th>Id</th>\n",
       "      <th>MSSubClass</th>\n",
       "      <th>LotFrontage</th>\n",
       "      <th>LotArea</th>\n",
       "      <th>OverallQual</th>\n",
       "      <th>OverallCond</th>\n",
       "      <th>YearBuilt</th>\n",
       "      <th>YearRemodAdd</th>\n",
       "      <th>MasVnrArea</th>\n",
       "      <th>BsmtFinSF1</th>\n",
       "      <th>...</th>\n",
       "      <th>WoodDeckSF</th>\n",
       "      <th>OpenPorchSF</th>\n",
       "      <th>EnclosedPorch</th>\n",
       "      <th>3SsnPorch</th>\n",
       "      <th>ScreenPorch</th>\n",
       "      <th>PoolArea</th>\n",
       "      <th>MiscVal</th>\n",
       "      <th>MoSold</th>\n",
       "      <th>YrSold</th>\n",
       "      <th>SalePrice</th>\n",
       "    </tr>\n",
       "  </thead>\n",
       "  <tbody>\n",
       "    <tr>\n",
       "      <th>0</th>\n",
       "      <td>1</td>\n",
       "      <td>60</td>\n",
       "      <td>65.0</td>\n",
       "      <td>8450</td>\n",
       "      <td>7</td>\n",
       "      <td>5</td>\n",
       "      <td>2003</td>\n",
       "      <td>2003</td>\n",
       "      <td>196.0</td>\n",
       "      <td>706</td>\n",
       "      <td>...</td>\n",
       "      <td>0</td>\n",
       "      <td>61</td>\n",
       "      <td>0</td>\n",
       "      <td>0</td>\n",
       "      <td>0</td>\n",
       "      <td>0</td>\n",
       "      <td>0</td>\n",
       "      <td>2</td>\n",
       "      <td>2008</td>\n",
       "      <td>208500</td>\n",
       "    </tr>\n",
       "    <tr>\n",
       "      <th>1</th>\n",
       "      <td>2</td>\n",
       "      <td>20</td>\n",
       "      <td>80.0</td>\n",
       "      <td>9600</td>\n",
       "      <td>6</td>\n",
       "      <td>8</td>\n",
       "      <td>1976</td>\n",
       "      <td>1976</td>\n",
       "      <td>0.0</td>\n",
       "      <td>978</td>\n",
       "      <td>...</td>\n",
       "      <td>298</td>\n",
       "      <td>0</td>\n",
       "      <td>0</td>\n",
       "      <td>0</td>\n",
       "      <td>0</td>\n",
       "      <td>0</td>\n",
       "      <td>0</td>\n",
       "      <td>5</td>\n",
       "      <td>2007</td>\n",
       "      <td>181500</td>\n",
       "    </tr>\n",
       "    <tr>\n",
       "      <th>2</th>\n",
       "      <td>3</td>\n",
       "      <td>60</td>\n",
       "      <td>68.0</td>\n",
       "      <td>11250</td>\n",
       "      <td>7</td>\n",
       "      <td>5</td>\n",
       "      <td>2001</td>\n",
       "      <td>2002</td>\n",
       "      <td>162.0</td>\n",
       "      <td>486</td>\n",
       "      <td>...</td>\n",
       "      <td>0</td>\n",
       "      <td>42</td>\n",
       "      <td>0</td>\n",
       "      <td>0</td>\n",
       "      <td>0</td>\n",
       "      <td>0</td>\n",
       "      <td>0</td>\n",
       "      <td>9</td>\n",
       "      <td>2008</td>\n",
       "      <td>223500</td>\n",
       "    </tr>\n",
       "    <tr>\n",
       "      <th>3</th>\n",
       "      <td>4</td>\n",
       "      <td>70</td>\n",
       "      <td>60.0</td>\n",
       "      <td>9550</td>\n",
       "      <td>7</td>\n",
       "      <td>5</td>\n",
       "      <td>1915</td>\n",
       "      <td>1970</td>\n",
       "      <td>0.0</td>\n",
       "      <td>216</td>\n",
       "      <td>...</td>\n",
       "      <td>0</td>\n",
       "      <td>35</td>\n",
       "      <td>272</td>\n",
       "      <td>0</td>\n",
       "      <td>0</td>\n",
       "      <td>0</td>\n",
       "      <td>0</td>\n",
       "      <td>2</td>\n",
       "      <td>2006</td>\n",
       "      <td>140000</td>\n",
       "    </tr>\n",
       "    <tr>\n",
       "      <th>4</th>\n",
       "      <td>5</td>\n",
       "      <td>60</td>\n",
       "      <td>84.0</td>\n",
       "      <td>14260</td>\n",
       "      <td>8</td>\n",
       "      <td>5</td>\n",
       "      <td>2000</td>\n",
       "      <td>2000</td>\n",
       "      <td>350.0</td>\n",
       "      <td>655</td>\n",
       "      <td>...</td>\n",
       "      <td>192</td>\n",
       "      <td>84</td>\n",
       "      <td>0</td>\n",
       "      <td>0</td>\n",
       "      <td>0</td>\n",
       "      <td>0</td>\n",
       "      <td>0</td>\n",
       "      <td>12</td>\n",
       "      <td>2008</td>\n",
       "      <td>250000</td>\n",
       "    </tr>\n",
       "  </tbody>\n",
       "</table>\n",
       "<p>5 rows × 38 columns</p>\n",
       "</div>"
      ],
      "text/plain": [
       "   Id  MSSubClass  LotFrontage  LotArea  OverallQual  OverallCond  YearBuilt  \\\n",
       "0   1          60         65.0     8450            7            5       2003   \n",
       "1   2          20         80.0     9600            6            8       1976   \n",
       "2   3          60         68.0    11250            7            5       2001   \n",
       "3   4          70         60.0     9550            7            5       1915   \n",
       "4   5          60         84.0    14260            8            5       2000   \n",
       "\n",
       "   YearRemodAdd  MasVnrArea  BsmtFinSF1    ...      WoodDeckSF  OpenPorchSF  \\\n",
       "0          2003       196.0         706    ...               0           61   \n",
       "1          1976         0.0         978    ...             298            0   \n",
       "2          2002       162.0         486    ...               0           42   \n",
       "3          1970         0.0         216    ...               0           35   \n",
       "4          2000       350.0         655    ...             192           84   \n",
       "\n",
       "   EnclosedPorch  3SsnPorch  ScreenPorch  PoolArea  MiscVal  MoSold  YrSold  \\\n",
       "0              0          0            0         0        0       2    2008   \n",
       "1              0          0            0         0        0       5    2007   \n",
       "2              0          0            0         0        0       9    2008   \n",
       "3            272          0            0         0        0       2    2006   \n",
       "4              0          0            0         0        0      12    2008   \n",
       "\n",
       "   SalePrice  \n",
       "0     208500  \n",
       "1     181500  \n",
       "2     223500  \n",
       "3     140000  \n",
       "4     250000  \n",
       "\n",
       "[5 rows x 38 columns]"
      ]
     },
     "execution_count": 4,
     "metadata": {},
     "output_type": "execute_result"
    }
   ],
   "source": [
    "numerics = ['int16', 'int32', 'int64', 'float16', 'float32', 'float64']\n",
    "dataTrain = dataTrain.select_dtypes(include=numerics)\n",
    "dataTrain.head()"
   ]
  },
  {
   "cell_type": "markdown",
   "metadata": {
    "_uuid": "52aef20e91d4eae12f749225296f76efec918032"
   },
   "source": [
    "# Single Variable Models (for illustration purposes)\n",
    "**We simplify the data for the purpose of illustration and introduction of the regularized models. **<br/>\n",
    "Later we will include multiple variables in the models."
   ]
  },
  {
   "cell_type": "code",
   "execution_count": 5,
   "metadata": {
    "_uuid": "a956bfb8c18fdaaa69375e32988f4ae45a72b76f"
   },
   "outputs": [
    {
     "data": {
      "text/html": [
       "<div>\n",
       "<style scoped>\n",
       "    .dataframe tbody tr th:only-of-type {\n",
       "        vertical-align: middle;\n",
       "    }\n",
       "\n",
       "    .dataframe tbody tr th {\n",
       "        vertical-align: top;\n",
       "    }\n",
       "\n",
       "    .dataframe thead th {\n",
       "        text-align: right;\n",
       "    }\n",
       "</style>\n",
       "<table border=\"1\" class=\"dataframe\">\n",
       "  <thead>\n",
       "    <tr style=\"text-align: right;\">\n",
       "      <th></th>\n",
       "      <th>GarageArea</th>\n",
       "      <th>SalePrice</th>\n",
       "    </tr>\n",
       "  </thead>\n",
       "  <tbody>\n",
       "    <tr>\n",
       "      <th>0</th>\n",
       "      <td>548</td>\n",
       "      <td>208500</td>\n",
       "    </tr>\n",
       "    <tr>\n",
       "      <th>1</th>\n",
       "      <td>460</td>\n",
       "      <td>181500</td>\n",
       "    </tr>\n",
       "    <tr>\n",
       "      <th>2</th>\n",
       "      <td>608</td>\n",
       "      <td>223500</td>\n",
       "    </tr>\n",
       "    <tr>\n",
       "      <th>3</th>\n",
       "      <td>642</td>\n",
       "      <td>140000</td>\n",
       "    </tr>\n",
       "    <tr>\n",
       "      <th>4</th>\n",
       "      <td>836</td>\n",
       "      <td>250000</td>\n",
       "    </tr>\n",
       "  </tbody>\n",
       "</table>\n",
       "</div>"
      ],
      "text/plain": [
       "   GarageArea  SalePrice\n",
       "0         548     208500\n",
       "1         460     181500\n",
       "2         608     223500\n",
       "3         642     140000\n",
       "4         836     250000"
      ]
     },
     "execution_count": 5,
     "metadata": {},
     "output_type": "execute_result"
    }
   ],
   "source": [
    "dataTrain = dataTrain[['GarageArea','SalePrice']]\n",
    "dataTrain.head()"
   ]
  },
  {
   "cell_type": "markdown",
   "metadata": {
    "_uuid": "b5b15a078997623f8a9d5475301cb7b1cc54f3d3"
   },
   "source": [
    "Check to see if there are any missing values?"
   ]
  },
  {
   "cell_type": "code",
   "execution_count": 6,
   "metadata": {
    "_uuid": "b5ced5a6ca5f518ff9e7a1ff9f5bd2c6132b5c83"
   },
   "outputs": [
    {
     "data": {
      "text/plain": [
       "False"
      ]
     },
     "execution_count": 6,
     "metadata": {},
     "output_type": "execute_result"
    }
   ],
   "source": [
    "dataTrain.isnull().values.any()"
   ]
  },
  {
   "cell_type": "markdown",
   "metadata": {
    "_uuid": "d1749349aefb8e3eff18421e4293e19e77231132"
   },
   "source": [
    "No missing values, so we don't have to worry much about data cleaning."
   ]
  },
  {
   "cell_type": "code",
   "execution_count": 7,
   "metadata": {
    "_uuid": "2902397b8e9717ed0673d8a50595ca47a1d4af80"
   },
   "outputs": [
    {
     "data": {
      "image/png": "[encoded data removed]",
      "text/plain": [
       "<Figure size 432x288 with 1 Axes>"
      ]
     },
     "metadata": {
      "needs_background": "light"
     },
     "output_type": "display_data"
    }
   ],
   "source": [
    "# Take a look at the data. \n",
    "plt.plot('GarageArea','SalePrice',data=dataTrain, marker = 'o', linestyle = '')\n",
    "plt.ylabel('Sale Price (dollars)', fontsize = 18)\n",
    "plt.xlabel('Garage Area (square feet)', fontsize = 18)\n",
    "plt.show()"
   ]
  },
  {
   "cell_type": "code",
   "execution_count": 8,
   "metadata": {
    "_uuid": "489b5a023bc08b2374ac0be9df486bb4fab42d80"
   },
   "outputs": [
    {
     "data": {
      "text/plain": [
       "array([[548],\n",
       "       [460],\n",
       "       [608],\n",
       "       ...,\n",
       "       [252],\n",
       "       [240],\n",
       "       [276]], dtype=int64)"
      ]
     },
     "execution_count": 8,
     "metadata": {},
     "output_type": "execute_result"
    }
   ],
   "source": [
    "# format training data\n",
    "xTrain = dataTrain['GarageArea'].values.reshape(-1,1) # as_matrix is deprecated since version 0.23.0\n",
    "yTrain = dataTrain['SalePrice'].values.reshape(-1,1)\n",
    "xTrain"
   ]
  },
  {
   "cell_type": "markdown",
   "metadata": {
    "_uuid": "029e532abcbeb4752abcccf75a8d1a9a74c9297a"
   },
   "source": [
    "Let's first do a degree 10 linear regression model **without** regularization."
   ]
  },
  {
   "cell_type": "code",
   "execution_count": 9,
   "metadata": {
    "_uuid": "a7208be77e907175942ed289555090c120b3d03d"
   },
   "outputs": [
    {
     "name": "stdout",
     "output_type": "stream",
     "text": [
      "xTrain shape:  (1460, 1)\n",
      "xTrain shape:  (1460, 11)\n"
     ]
    }
   ],
   "source": [
    "# Transform the input features\n",
    "Poly = PolynomialFeatures(degree = 10)\n",
    "xTrainPoly = Poly.fit_transform(xTrain)\n",
    "\n",
    "print('xTrain shape: ', xTrain.shape)\n",
    "print('xTrainPoly shape: ', xTrainPoly.shape)"
   ]
  },
  {
   "cell_type": "markdown",
   "metadata": {
    "_uuid": "6bc2b105ec1c7c2ab51be4a7ce050aea41649ab4"
   },
   "source": [
    "Previously (see my Machine Learning 1 kernel), we standardized input features ourselves, but this can also be easily done through **Scikit-learn**:"
   ]
  },
  {
   "cell_type": "code",
   "execution_count": 10,
   "metadata": {
    "_uuid": "381dad171bb758d118f7c730af117499adabcc00"
   },
   "outputs": [
    {
     "data": {
      "text/plain": [
       "(array([1.00000000e+00, 2.13731608e+02, 2.24211273e+05, 2.32893337e+08,\n",
       "        2.57524995e+11, 3.06990248e+14, 3.88489528e+17, 5.11049967e+20,\n",
       "        6.87865895e+23, 9.38340778e+26, 1.29044368e+30]),\n",
       " array([1.00000000e+00, 4.72980137e+02, 2.69391410e+05, 1.72384828e+08,\n",
       "        1.22842427e+11, 9.68455771e+13, 8.39558350e+16, 7.94695046e+19,\n",
       "        8.14093850e+22, 8.92902055e+25, 1.03622078e+29]))"
      ]
     },
     "execution_count": 10,
     "metadata": {},
     "output_type": "execute_result"
    }
   ],
   "source": [
    "from sklearn.preprocessing import StandardScaler\n",
    "# standardization\n",
    "scaler = StandardScaler()\n",
    "xTrainPolyStan = scaler.fit_transform(xTrainPoly)\n",
    "scaler.scale_, scaler.mean_"
   ]
  },
  {
   "cell_type": "code",
   "execution_count": 11,
   "metadata": {
    "_uuid": "af36a6b62864b607c0d4076a3b3375bbc9b99aba"
   },
   "outputs": [
    {
     "data": {
      "image/png": "[encoded data removed]",
      "text/plain": [
       "<Figure size 432x288 with 1 Axes>"
      ]
     },
     "metadata": {
      "needs_background": "light"
     },
     "output_type": "display_data"
    }
   ],
   "source": [
    "# linear regression\n",
    "reg = LinearRegression()\n",
    "reg.fit(xTrainPolyStan, yTrain)\n",
    "\n",
    "# predict\n",
    "xFit = np.linspace(0,1500,num=200).reshape(-1,1)\n",
    "xFitPoly = Poly.transform(xFit)\n",
    "xFitPolyStan = scaler.transform(xFitPoly)\n",
    "yFit = reg.predict(xFitPolyStan)\n",
    "\n",
    "# plot\n",
    "plt.plot(xFit,yFit, lw=3, color='r', zorder = 2)\n",
    "plt.plot('GarageArea','SalePrice',data=dataTrain, marker = 'o', color = 'b', linestyle = '', zorder = 1)\n",
    "plt.ylabel('Sale Price (dollars)', fontsize = 18)\n",
    "plt.xlabel('Garage Area (square feet)', fontsize = 18)\n",
    "plt.show()"
   ]
  },
  {
   "cell_type": "markdown",
   "metadata": {
    "_uuid": "6e3faa7cf81eaa12ade117f3689513f4d5afe2f3"
   },
   "source": [
    "## Ridge Regression\n",
    "Regular linear regression has the form of: J(theta) = MSE(theta) <br/>\n",
    "\n",
    "Ridge regression appy a regularization term proportional to the **square of l2-norm** of feature weights (not including the intercept). A common expression is: <br/>\n",
    "J(theta) = MSE(theta) + alpha 1/2 (theta_1^2 + theta_2^2 + ... + theta_n^2)\n",
    "\n",
    "The corrsponding expression for gradient of theta and the optimal solution for theta will change, due to the additonal term. We can also use the **Scikit-Learn** package to do ridge regression."
   ]
  },
  {
   "cell_type": "code",
   "execution_count": 12,
   "metadata": {
    "_uuid": "5dbce9b2af50e93d4ec9d5171bff684daab83858"
   },
   "outputs": [],
   "source": [
    "from sklearn.linear_model import Ridge"
   ]
  },
  {
   "cell_type": "markdown",
   "metadata": {
    "_uuid": "b9f0fc018c3ad3a409e169294b928d60f2175102"
   },
   "source": [
    "Ridge regression is sensitive to the input features, therefore **standardization is usually recommended** before Ridge regression. <br/>\n",
    "Some useful info here: https://stats.stackexchange.com/questions/111017/question-about-standardizing-in-ridge-regression <br/>\n",
    "Here, standardization has already been carried out (see above), so we will go straight to training."
   ]
  },
  {
   "cell_type": "code",
   "execution_count": 13,
   "metadata": {
    "_uuid": "a05d2b04b3e3339503010ec282232c83bb5e6de7"
   },
   "outputs": [
    {
     "data": {
      "image/png": "[encoded data removed]",
      "text/plain": [
       "<Figure size 432x288 with 1 Axes>"
      ]
     },
     "metadata": {
      "needs_background": "light"
     },
     "output_type": "display_data"
    }
   ],
   "source": [
    "i=0\n",
    "ls = ['-','--',':']\n",
    "color = ['r','g','orange']\n",
    "\n",
    "for a in [0,2,2000]:\n",
    "    ridgeReg = Ridge(alpha=a)\n",
    "    ridgeReg.fit(xTrainPolyStan, yTrain)\n",
    "\n",
    "    # predict\n",
    "    xFit = np.linspace(0,1500,num=200).reshape(-1,1)\n",
    "    xFitPoly = Poly.transform(xFit)\n",
    "    xFitPolyStan = scaler.transform(xFitPoly)\n",
    "    yFit = ridgeReg.predict(xFitPolyStan)\n",
    "    \n",
    "    # plot\n",
    "    plt.plot(xFit,yFit, lw=3, color=color[i], zorder = 2, label= \"alpha = \" + str(a),linestyle=ls[i])\n",
    "    i = i + 1\n",
    "    \n",
    "plt.plot('GarageArea','SalePrice',data=dataTrain, marker = 'o', color = 'b', linestyle = '', zorder = 1)\n",
    "plt.ylabel('Sale Price (dollars)', fontsize = 18)\n",
    "plt.xlabel('Garage Area (square feet)', fontsize = 18)\n",
    "plt.legend(fontsize = 14)\n",
    "plt.show()"
   ]
  },
  {
   "cell_type": "markdown",
   "metadata": {
    "_uuid": "d100fd7ed5473aa8038617a0e41dd66120fd2096"
   },
   "source": [
    "In general, the larger alpha is, the \"flatter\" the fit will be. Eventually, as alpha approaches infinity, the prediction y_hat will just be a constant, since all thetas (except the intercept) will be regularized to zero. <br/>\n",
    "\n",
    "In theory, ridge regression with alpha = 0 should give the same result as regular linear regression, but sometimes that is not the case. See one post here: https://stackoverflow.com/questions/40570370/difference-between-linearregression-and-ridgealpha-0. <br/>\n",
    "The post describes a polynomial model where ridge regression overflowed, but linear regression did not. (we don't have this problem here.)"
   ]
  },
  {
   "cell_type": "markdown",
   "metadata": {
    "_uuid": "6a006de8bcd7dfd8f8e03788d1eaf0be41746209"
   },
   "source": [
    "## Lasso Regression\n",
    "Least Absolute Shrinkage and Selection Operator Regression - LASSO <br/>\n",
    "Cost function: J(theta) = MSE(theta) + alpha (|theta_1| + |theta_2| + ... + |theta_n|). The penalty is proportional to the **l1-norm** of theta. <br/>\n",
    "\n",
    "The advantage of Lasso over ridge regression lies in the diamond shape of contour of the l1-norm penalty, which leads to some of the thetas being eliminated (set to 0) quickly. This means the Lasso regression can perform automatic feature selection, when ridge regression cannot. If you have the book *Hands-on Machine Learning with Scikit-Learn & Tensorflow*, Figure 4-19 gives a more detailed explanation of the feature selection capability of Lass0. You can also understand the difference of ridge and Lasso regression by understanding that, ridge's l2-penalty heavily penalizes large thetas, but has nearly no penalization for small thetas (due to the square), whereas Lasso's l1-penalty gives appropriate penalization to even small thetas. <br/>"
   ]
  },
  {
   "cell_type": "code",
   "execution_count": 14,
   "metadata": {
    "_uuid": "3f54c402040769cf02711a9e954b6c38a4a84332"
   },
   "outputs": [],
   "source": [
    "from sklearn.linear_model import Lasso"
   ]
  },
  {
   "cell_type": "code",
   "execution_count": 15,
   "metadata": {
    "_uuid": "fb646cfe632cfd14a47d7ccd4bafbd08ff1b4bd1"
   },
   "outputs": [
    {
     "name": "stderr",
     "output_type": "stream",
     "text": [
      "C:\\Users\\Esmal\\Anaconda3\\lib\\site-packages\\sklearn\\linear_model\\coordinate_descent.py:492: ConvergenceWarning: Objective did not converge. You might want to increase the number of iterations. Fitting data with very small alpha may cause precision problems.\n",
      "  ConvergenceWarning)\n",
      "C:\\Users\\Esmal\\Anaconda3\\lib\\site-packages\\sklearn\\linear_model\\coordinate_descent.py:492: ConvergenceWarning: Objective did not converge. You might want to increase the number of iterations. Fitting data with very small alpha may cause precision problems.\n",
      "  ConvergenceWarning)\n",
      "C:\\Users\\Esmal\\Anaconda3\\lib\\site-packages\\sklearn\\linear_model\\coordinate_descent.py:492: ConvergenceWarning: Objective did not converge. You might want to increase the number of iterations. Fitting data with very small alpha may cause precision problems.\n",
      "  ConvergenceWarning)\n"
     ]
    },
    {
     "data": {
      "image/png": "[encoded data removed]",
      "text/plain": [
       "<Figure size 432x288 with 1 Axes>"
      ]
     },
     "metadata": {
      "needs_background": "light"
     },
     "output_type": "display_data"
    }
   ],
   "source": [
    "i=0\n",
    "ls = ['-','--',':']\n",
    "color = ['r','g','orange']\n",
    "\n",
    "for a in [0.1,1,10]:\n",
    "    lassoReg = Lasso(alpha=a)\n",
    "    lassoReg.fit(xTrainPolyStan, yTrain)\n",
    "\n",
    "    # predict\n",
    "    xFit = np.linspace(0,1500,num=200).reshape(-1,1)\n",
    "    xFitPoly = Poly.transform(xFit)\n",
    "    xFitPolyStan = scaler.transform(xFitPoly)\n",
    "    yFit = lassoReg.predict(xFitPolyStan)\n",
    "    \n",
    "    # plot\n",
    "    plt.plot(xFit,yFit, lw=3, color=color[i], zorder = 2, label= \"alpha = \" + str(a),linestyle=ls[i])\n",
    "    i = i + 1\n",
    "    \n",
    "plt.plot('GarageArea','SalePrice',data=dataTrain, marker = 'o', color = 'b', linestyle = '', zorder = 1)\n",
    "plt.ylabel('Sale Price (dollars)', fontsize = 18)\n",
    "plt.xlabel('Garage Area (square feet)', fontsize = 18)\n",
    "plt.legend(fontsize = 14)\n",
    "plt.show()"
   ]
  },
  {
   "cell_type": "markdown",
   "metadata": {
    "_uuid": "65005f621c76269143ad31488bf29c38a7020c95"
   },
   "source": [
    "As you can see, the three alpha tested gives very similar fits. As mentioned earlier, Lasso regression tends to return sparse theta vector, with many least important features eliminated (set to 0). Even when alpha is small, such elimination can happen, leading to similar fits for certain range of alphas.\n",
    "\n",
    "As mentioned in Scikit-Learn's [documentaion](http://scikit-learn.org/stable/modules/generated/sklearn.linear_model.Lasso.html), Lasso function is not advised to use with alpha = 0. In such cases, LinearRegression should be used instead. <br/>\n",
    "\n",
    "Stochastic gradient descent can be used for any type of optimization problem. Here we show the example of lasso regression using SGDRegressor from Scikit-Learn package."
   ]
  },
  {
   "cell_type": "code",
   "execution_count": 16,
   "metadata": {
    "_uuid": "22f8a4a238ebc590d9b07c0e8a21e2db6ae9a04c"
   },
   "outputs": [],
   "source": [
    "from sklearn.linear_model import SGDRegressor"
   ]
  },
  {
   "cell_type": "code",
   "execution_count": 17,
   "metadata": {
    "_uuid": "c6c7bc741cf4c340a0f0724b87608941053cf62c"
   },
   "outputs": [
    {
     "name": "stderr",
     "output_type": "stream",
     "text": [
      "C:\\Users\\Esmal\\Anaconda3\\lib\\site-packages\\sklearn\\linear_model\\stochastic_gradient.py:166: FutureWarning: max_iter and tol parameters have been added in SGDRegressor in 0.19. If both are left unset, they default to max_iter=5 and tol=None. If tol is not None, max_iter defaults to max_iter=1000. From 0.21, default max_iter will be 1000, and default tol will be 1e-3.\n",
      "  FutureWarning)\n"
     ]
    },
    {
     "data": {
      "image/png": "[encoded data removed]",
      "text/plain": [
       "<Figure size 432x288 with 1 Axes>"
      ]
     },
     "metadata": {
      "needs_background": "light"
     },
     "output_type": "display_data"
    }
   ],
   "source": [
    "sgd = SGDRegressor(loss='squared_loss', penalty='l1', alpha=0.1)\n",
    "yTrain = yTrain.ravel() # format required by sgd\n",
    "sgd.fit(xTrainPolyStan, yTrain)\n",
    "\n",
    "# predict\n",
    "xFit = np.linspace(0,1500,num=200).reshape(-1,1)\n",
    "xFitPoly = Poly.transform(xFit)\n",
    "xFitPolyStan = scaler.transform(xFitPoly)\n",
    "yFit = sgd.predict(xFitPolyStan)\n",
    "\n",
    "plt.plot(xFit,yFit, lw=3, color='r', zorder = 2, label= \"alpha = 0.1\",linestyle='-')\n",
    "plt.plot('GarageArea','SalePrice',data=dataTrain, marker = 'o', color = 'b', linestyle = '', zorder = 1)\n",
    "plt.ylabel('Sale Price (dollars)', fontsize = 18)\n",
    "plt.xlabel('Garage Area (square feet)', fontsize = 18)\n",
    "plt.legend(fontsize = 14)\n",
    "plt.show()"
   ]
  },
  {
   "cell_type": "markdown",
   "metadata": {
    "_uuid": "6111829a4e06b6b5a1b311ab85247b64b0928d17"
   },
   "source": [
    "## Elastic Net\n",
    "Elastic net is somewhere between ridge regression and lasso regression. The cost function is: <br/>\n",
    "J(theta) = MSE(theta) + r lasso_penalty + (1-r) ridge_penalty. "
   ]
  },
  {
   "cell_type": "code",
   "execution_count": 18,
   "metadata": {
    "_uuid": "5f3724b844d70c568e63e8eecd7d9197d0ef7fa3"
   },
   "outputs": [],
   "source": [
    "from sklearn.linear_model import ElasticNet"
   ]
  },
  {
   "cell_type": "code",
   "execution_count": 19,
   "metadata": {
    "_uuid": "5eae4d50f808324b627f290b1f5aa802cc2a929b"
   },
   "outputs": [
    {
     "data": {
      "image/png": "[encoded data removed]",
      "text/plain": [
       "<Figure size 432x288 with 1 Axes>"
      ]
     },
     "metadata": {
      "needs_background": "light"
     },
     "output_type": "display_data"
    }
   ],
   "source": [
    "yTrain = yTrain.reshape(-1,1)\n",
    "elasticReg = ElasticNet(alpha = 0.1, l1_ratio = 0.5)\n",
    "elasticReg.fit(xTrainPolyStan, yTrain)\n",
    "\n",
    "# predict\n",
    "xFit = np.linspace(0,1500,num=200).reshape(-1,1)\n",
    "xFitPoly = Poly.transform(xFit)\n",
    "xFitPolyStan = scaler.transform(xFitPoly)\n",
    "yFit = elasticReg.predict(xFitPolyStan)\n",
    "\n",
    "plt.plot(xFit,yFit, lw=3, color='r', zorder = 2, label= \"alpha = 0.1\",linestyle='-')\n",
    "plt.plot('GarageArea','SalePrice',data=dataTrain, marker = 'o', color = 'b', linestyle = '', zorder = 1)\n",
    "plt.ylabel('Sale Price (dollars)', fontsize = 18)\n",
    "plt.xlabel('Garage Area (square feet)', fontsize = 18)\n",
    "plt.legend(fontsize = 14)\n",
    "plt.show()"
   ]
  },
  {
   "cell_type": "markdown",
   "metadata": {
    "_uuid": "e7eb8e1f7dc8016fd609aa29393b5cb02774d371"
   },
   "source": [
    "**So, which model should we choose in practice?** <br/>\n",
    "Ridge regression: a good default. However, if sparse features are expected, ridge should be replaced by lasso or elastic net. <br/>\n",
    "Lasso regression: good for sparse feature selection. However, if the number of features is greater than the number of training samples, or when there are strongly correlated features, ridge or elastic net should be used. <br/>\n",
    "Elastic net: versatile since the ratio parameter r is tunable. A 50% ratio of l1 and l2-penalty can be a good default, too."
   ]
  },
  {
   "cell_type": "markdown",
   "metadata": {
    "_uuid": "7c72c04b728af563e7682f1546de1952ef547fb3"
   },
   "source": [
    "# Multi-variable models (for actual prediction)\n",
    "Here, we try to predict house prices with an elastic net model with fourth order features. <br/>\n",
    "Let's look at the training set again:\n",
    "\n"
   ]
  },
  {
   "cell_type": "code",
   "execution_count": 20,
   "metadata": {
    "_uuid": "ff47007b8109fe40b1d0686cee9c1e94e67c0593"
   },
   "outputs": [],
   "source": [
    "from sklearn.metrics import mean_squared_error"
   ]
  },
  {
   "cell_type": "code",
   "execution_count": 21,
   "metadata": {
    "_uuid": "df46a5d4ab098fc63315aa81dcd2db3c2d015db9"
   },
   "outputs": [
    {
     "data": {
      "text/html": [
       "<div>\n",
       "<style scoped>\n",
       "    .dataframe tbody tr th:only-of-type {\n",
       "        vertical-align: middle;\n",
       "    }\n",
       "\n",
       "    .dataframe tbody tr th {\n",
       "        vertical-align: top;\n",
       "    }\n",
       "\n",
       "    .dataframe thead th {\n",
       "        text-align: right;\n",
       "    }\n",
       "</style>\n",
       "<table border=\"1\" class=\"dataframe\">\n",
       "  <thead>\n",
       "    <tr style=\"text-align: right;\">\n",
       "      <th></th>\n",
       "      <th>Id</th>\n",
       "      <th>MSSubClass</th>\n",
       "      <th>MSZoning</th>\n",
       "      <th>LotFrontage</th>\n",
       "      <th>LotArea</th>\n",
       "      <th>Street</th>\n",
       "      <th>Alley</th>\n",
       "      <th>LotShape</th>\n",
       "      <th>LandContour</th>\n",
       "      <th>Utilities</th>\n",
       "      <th>...</th>\n",
       "      <th>PoolArea</th>\n",
       "      <th>PoolQC</th>\n",
       "      <th>Fence</th>\n",
       "      <th>MiscFeature</th>\n",
       "      <th>MiscVal</th>\n",
       "      <th>MoSold</th>\n",
       "      <th>YrSold</th>\n",
       "      <th>SaleType</th>\n",
       "      <th>SaleCondition</th>\n",
       "      <th>SalePrice</th>\n",
       "    </tr>\n",
       "  </thead>\n",
       "  <tbody>\n",
       "    <tr>\n",
       "      <th>0</th>\n",
       "      <td>1</td>\n",
       "      <td>60</td>\n",
       "      <td>RL</td>\n",
       "      <td>65.0</td>\n",
       "      <td>8450</td>\n",
       "      <td>Pave</td>\n",
       "      <td>NaN</td>\n",
       "      <td>Reg</td>\n",
       "      <td>Lvl</td>\n",
       "      <td>AllPub</td>\n",
       "      <td>...</td>\n",
       "      <td>0</td>\n",
       "      <td>NaN</td>\n",
       "      <td>NaN</td>\n",
       "      <td>NaN</td>\n",
       "      <td>0</td>\n",
       "      <td>2</td>\n",
       "      <td>2008</td>\n",
       "      <td>WD</td>\n",
       "      <td>Normal</td>\n",
       "      <td>208500</td>\n",
       "    </tr>\n",
       "    <tr>\n",
       "      <th>1</th>\n",
       "      <td>2</td>\n",
       "      <td>20</td>\n",
       "      <td>RL</td>\n",
       "      <td>80.0</td>\n",
       "      <td>9600</td>\n",
       "      <td>Pave</td>\n",
       "      <td>NaN</td>\n",
       "      <td>Reg</td>\n",
       "      <td>Lvl</td>\n",
       "      <td>AllPub</td>\n",
       "      <td>...</td>\n",
       "      <td>0</td>\n",
       "      <td>NaN</td>\n",
       "      <td>NaN</td>\n",
       "      <td>NaN</td>\n",
       "      <td>0</td>\n",
       "      <td>5</td>\n",
       "      <td>2007</td>\n",
       "      <td>WD</td>\n",
       "      <td>Normal</td>\n",
       "      <td>181500</td>\n",
       "    </tr>\n",
       "    <tr>\n",
       "      <th>2</th>\n",
       "      <td>3</td>\n",
       "      <td>60</td>\n",
       "      <td>RL</td>\n",
       "      <td>68.0</td>\n",
       "      <td>11250</td>\n",
       "      <td>Pave</td>\n",
       "      <td>NaN</td>\n",
       "      <td>IR1</td>\n",
       "      <td>Lvl</td>\n",
       "      <td>AllPub</td>\n",
       "      <td>...</td>\n",
       "      <td>0</td>\n",
       "      <td>NaN</td>\n",
       "      <td>NaN</td>\n",
       "      <td>NaN</td>\n",
       "      <td>0</td>\n",
       "      <td>9</td>\n",
       "      <td>2008</td>\n",
       "      <td>WD</td>\n",
       "      <td>Normal</td>\n",
       "      <td>223500</td>\n",
       "    </tr>\n",
       "    <tr>\n",
       "      <th>3</th>\n",
       "      <td>4</td>\n",
       "      <td>70</td>\n",
       "      <td>RL</td>\n",
       "      <td>60.0</td>\n",
       "      <td>9550</td>\n",
       "      <td>Pave</td>\n",
       "      <td>NaN</td>\n",
       "      <td>IR1</td>\n",
       "      <td>Lvl</td>\n",
       "      <td>AllPub</td>\n",
       "      <td>...</td>\n",
       "      <td>0</td>\n",
       "      <td>NaN</td>\n",
       "      <td>NaN</td>\n",
       "      <td>NaN</td>\n",
       "      <td>0</td>\n",
       "      <td>2</td>\n",
       "      <td>2006</td>\n",
       "      <td>WD</td>\n",
       "      <td>Abnorml</td>\n",
       "      <td>140000</td>\n",
       "    </tr>\n",
       "    <tr>\n",
       "      <th>4</th>\n",
       "      <td>5</td>\n",
       "      <td>60</td>\n",
       "      <td>RL</td>\n",
       "      <td>84.0</td>\n",
       "      <td>14260</td>\n",
       "      <td>Pave</td>\n",
       "      <td>NaN</td>\n",
       "      <td>IR1</td>\n",
       "      <td>Lvl</td>\n",
       "      <td>AllPub</td>\n",
       "      <td>...</td>\n",
       "      <td>0</td>\n",
       "      <td>NaN</td>\n",
       "      <td>NaN</td>\n",
       "      <td>NaN</td>\n",
       "      <td>0</td>\n",
       "      <td>12</td>\n",
       "      <td>2008</td>\n",
       "      <td>WD</td>\n",
       "      <td>Normal</td>\n",
       "      <td>250000</td>\n",
       "    </tr>\n",
       "  </tbody>\n",
       "</table>\n",
       "<p>5 rows × 81 columns</p>\n",
       "</div>"
      ],
      "text/plain": [
       "   Id  MSSubClass MSZoning  LotFrontage  LotArea Street Alley LotShape  \\\n",
       "0   1          60       RL         65.0     8450   Pave   NaN      Reg   \n",
       "1   2          20       RL         80.0     9600   Pave   NaN      Reg   \n",
       "2   3          60       RL         68.0    11250   Pave   NaN      IR1   \n",
       "3   4          70       RL         60.0     9550   Pave   NaN      IR1   \n",
       "4   5          60       RL         84.0    14260   Pave   NaN      IR1   \n",
       "\n",
       "  LandContour Utilities    ...     PoolArea PoolQC Fence MiscFeature MiscVal  \\\n",
       "0         Lvl    AllPub    ...            0    NaN   NaN         NaN       0   \n",
       "1         Lvl    AllPub    ...            0    NaN   NaN         NaN       0   \n",
       "2         Lvl    AllPub    ...            0    NaN   NaN         NaN       0   \n",
       "3         Lvl    AllPub    ...            0    NaN   NaN         NaN       0   \n",
       "4         Lvl    AllPub    ...            0    NaN   NaN         NaN       0   \n",
       "\n",
       "  MoSold YrSold  SaleType  SaleCondition  SalePrice  \n",
       "0      2   2008        WD         Normal     208500  \n",
       "1      5   2007        WD         Normal     181500  \n",
       "2      9   2008        WD         Normal     223500  \n",
       "3      2   2006        WD        Abnorml     140000  \n",
       "4     12   2008        WD         Normal     250000  \n",
       "\n",
       "[5 rows x 81 columns]"
      ]
     },
     "execution_count": 21,
     "metadata": {},
     "output_type": "execute_result"
    }
   ],
   "source": [
    "dataTrain = pd.read_csv('train.csv')\n",
    "dataTrain.head()"
   ]
  },
  {
   "cell_type": "markdown",
   "metadata": {
    "_uuid": "6e394ca6917542ab1f5e1123a287a3cab6e35051"
   },
   "source": [
    "Let's say we have reasons to believe the OverallQual, LotArea, TotalBsmtSF, 1stFlrSF, 2ndFlrSF,  GarageArea, and OpenPorchSF are some of the most relevant features for sale price prediction, and we want to build a four-degree (including interactions) linear model with elastic net regularization to predict sale price (**this is, of course, a huge simiplification of the actual problem, but here we just want to show how the regularized linear models work, and how well they can perform with limited information** ). Here is how we do it:"
   ]
  },
  {
   "cell_type": "code",
   "execution_count": 22,
   "metadata": {
    "_uuid": "f908f0f188b657eac14c00f2682178949639959f"
   },
   "outputs": [],
   "source": [
    "# Obtain training data\n",
    "xTrain = dataTrain[['OverallQual','LotArea', 'TotalBsmtSF', '1stFlrSF', '2ndFlrSF', 'GarageArea', 'OpenPorchSF']].values\n",
    "yTrain = dataTrain['SalePrice'].values.reshape(-1,1)"
   ]
  },
  {
   "cell_type": "markdown",
   "metadata": {
    "_uuid": "63426de224c09522fae4670f39be9fb102a9f1d5"
   },
   "source": [
    "## Elastic Net"
   ]
  },
  {
   "cell_type": "code",
   "execution_count": 23,
   "metadata": {
    "_uuid": "d5fed200c3fd2e49671866220d90d10cc95806d3"
   },
   "outputs": [
    {
     "name": "stdout",
     "output_type": "stream",
     "text": [
      "0.152314810652\n"
     ]
    },
    {
     "name": "stderr",
     "output_type": "stream",
     "text": [
      "C:\\Users\\Esmal\\Anaconda3\\lib\\site-packages\\sklearn\\linear_model\\coordinate_descent.py:492: ConvergenceWarning: Objective did not converge. You might want to increase the number of iterations. Fitting data with very small alpha may cause precision problems.\n",
      "  ConvergenceWarning)\n"
     ]
    }
   ],
   "source": [
    "# Transform the data\n",
    "poly2 = PolynomialFeatures(degree = 4, include_bias = False)\n",
    "xTrainPoly = poly2.fit_transform(xTrain)\n",
    "scaler = StandardScaler()\n",
    "xTrainPolyStan = scaler.fit_transform(xTrainPoly)\n",
    "\n",
    "# Fit the data\n",
    "elasticReg = ElasticNet(alpha = 0.1, l1_ratio = 0.85)\n",
    "elasticReg.fit(xTrainPolyStan, yTrain)\n",
    "\n",
    "# evaluate performance on training set\n",
    "yTrainHat = elasticReg.predict(xTrainPolyStan)\n",
    "\n",
    "# calculate rmse based on log(price)\n",
    "mse = mean_squared_error(np.log(yTrain), np.log(yTrainHat))\n",
    "rmse = np.sqrt(mse)\n",
    "print(rmse)"
   ]
  },
  {
   "cell_type": "markdown",
   "metadata": {
    "_uuid": "10f21acc4900fe1fd9dd672fb8e6f37659278ad1"
   },
   "source": [
    " Let's plot predicted sale price and actual sale price:"
   ]
  },
  {
   "cell_type": "code",
   "execution_count": 24,
   "metadata": {
    "_uuid": "9517dffdb40be8d5d8ede1cd877d4f4181c63c5b"
   },
   "outputs": [
    {
     "data": {
      "image/png": "[encoded data removed]",
      "text/plain": [
       "<Figure size 432x288 with 1 Axes>"
      ]
     },
     "metadata": {
      "needs_background": "light"
     },
     "output_type": "display_data"
    }
   ],
   "source": [
    "x = np.linspace(0,800000,num=1000)\n",
    "plt.plot(yTrainHat, yTrain,marker='o', linestyle = '', zorder = 1, color='b')\n",
    "plt.plot(x, x, linestyle = '-',color='red',zorder=2,lw=3)\n",
    "plt.xlabel('predicted sale price (dollars)', fontsize = 18)\n",
    "plt.ylabel('actual sale price (dollars)', fontsize = 18)\n",
    "plt.show()"
   ]
  },
  {
   "cell_type": "markdown",
   "metadata": {
    "_uuid": "5914c36cf7c181a28066840f97cf768897b74354"
   },
   "source": [
    "Not bad. Let's try the test set."
   ]
  },
  {
   "cell_type": "code",
   "execution_count": 25,
   "metadata": {
    "_uuid": "4adb677a59ba00065527fdea135ba0d733ae99ad"
   },
   "outputs": [
    {
     "data": {
      "text/html": [
       "<div>\n",
       "<style scoped>\n",
       "    .dataframe tbody tr th:only-of-type {\n",
       "        vertical-align: middle;\n",
       "    }\n",
       "\n",
       "    .dataframe tbody tr th {\n",
       "        vertical-align: top;\n",
       "    }\n",
       "\n",
       "    .dataframe thead th {\n",
       "        text-align: right;\n",
       "    }\n",
       "</style>\n",
       "<table border=\"1\" class=\"dataframe\">\n",
       "  <thead>\n",
       "    <tr style=\"text-align: right;\">\n",
       "      <th></th>\n",
       "      <th>Id</th>\n",
       "      <th>MSSubClass</th>\n",
       "      <th>MSZoning</th>\n",
       "      <th>LotFrontage</th>\n",
       "      <th>LotArea</th>\n",
       "      <th>Street</th>\n",
       "      <th>Alley</th>\n",
       "      <th>LotShape</th>\n",
       "      <th>LandContour</th>\n",
       "      <th>Utilities</th>\n",
       "      <th>...</th>\n",
       "      <th>ScreenPorch</th>\n",
       "      <th>PoolArea</th>\n",
       "      <th>PoolQC</th>\n",
       "      <th>Fence</th>\n",
       "      <th>MiscFeature</th>\n",
       "      <th>MiscVal</th>\n",
       "      <th>MoSold</th>\n",
       "      <th>YrSold</th>\n",
       "      <th>SaleType</th>\n",
       "      <th>SaleCondition</th>\n",
       "    </tr>\n",
       "  </thead>\n",
       "  <tbody>\n",
       "    <tr>\n",
       "      <th>0</th>\n",
       "      <td>1461</td>\n",
       "      <td>20</td>\n",
       "      <td>RH</td>\n",
       "      <td>80.0</td>\n",
       "      <td>11622</td>\n",
       "      <td>Pave</td>\n",
       "      <td>NaN</td>\n",
       "      <td>Reg</td>\n",
       "      <td>Lvl</td>\n",
       "      <td>AllPub</td>\n",
       "      <td>...</td>\n",
       "      <td>120</td>\n",
       "      <td>0</td>\n",
       "      <td>NaN</td>\n",
       "      <td>MnPrv</td>\n",
       "      <td>NaN</td>\n",
       "      <td>0</td>\n",
       "      <td>6</td>\n",
       "      <td>2010</td>\n",
       "      <td>WD</td>\n",
       "      <td>Normal</td>\n",
       "    </tr>\n",
       "    <tr>\n",
       "      <th>1</th>\n",
       "      <td>1462</td>\n",
       "      <td>20</td>\n",
       "      <td>RL</td>\n",
       "      <td>81.0</td>\n",
       "      <td>14267</td>\n",
       "      <td>Pave</td>\n",
       "      <td>NaN</td>\n",
       "      <td>IR1</td>\n",
       "      <td>Lvl</td>\n",
       "      <td>AllPub</td>\n",
       "      <td>...</td>\n",
       "      <td>0</td>\n",
       "      <td>0</td>\n",
       "      <td>NaN</td>\n",
       "      <td>NaN</td>\n",
       "      <td>Gar2</td>\n",
       "      <td>12500</td>\n",
       "      <td>6</td>\n",
       "      <td>2010</td>\n",
       "      <td>WD</td>\n",
       "      <td>Normal</td>\n",
       "    </tr>\n",
       "    <tr>\n",
       "      <th>2</th>\n",
       "      <td>1463</td>\n",
       "      <td>60</td>\n",
       "      <td>RL</td>\n",
       "      <td>74.0</td>\n",
       "      <td>13830</td>\n",
       "      <td>Pave</td>\n",
       "      <td>NaN</td>\n",
       "      <td>IR1</td>\n",
       "      <td>Lvl</td>\n",
       "      <td>AllPub</td>\n",
       "      <td>...</td>\n",
       "      <td>0</td>\n",
       "      <td>0</td>\n",
       "      <td>NaN</td>\n",
       "      <td>MnPrv</td>\n",
       "      <td>NaN</td>\n",
       "      <td>0</td>\n",
       "      <td>3</td>\n",
       "      <td>2010</td>\n",
       "      <td>WD</td>\n",
       "      <td>Normal</td>\n",
       "    </tr>\n",
       "    <tr>\n",
       "      <th>3</th>\n",
       "      <td>1464</td>\n",
       "      <td>60</td>\n",
       "      <td>RL</td>\n",
       "      <td>78.0</td>\n",
       "      <td>9978</td>\n",
       "      <td>Pave</td>\n",
       "      <td>NaN</td>\n",
       "      <td>IR1</td>\n",
       "      <td>Lvl</td>\n",
       "      <td>AllPub</td>\n",
       "      <td>...</td>\n",
       "      <td>0</td>\n",
       "      <td>0</td>\n",
       "      <td>NaN</td>\n",
       "      <td>NaN</td>\n",
       "      <td>NaN</td>\n",
       "      <td>0</td>\n",
       "      <td>6</td>\n",
       "      <td>2010</td>\n",
       "      <td>WD</td>\n",
       "      <td>Normal</td>\n",
       "    </tr>\n",
       "    <tr>\n",
       "      <th>4</th>\n",
       "      <td>1465</td>\n",
       "      <td>120</td>\n",
       "      <td>RL</td>\n",
       "      <td>43.0</td>\n",
       "      <td>5005</td>\n",
       "      <td>Pave</td>\n",
       "      <td>NaN</td>\n",
       "      <td>IR1</td>\n",
       "      <td>HLS</td>\n",
       "      <td>AllPub</td>\n",
       "      <td>...</td>\n",
       "      <td>144</td>\n",
       "      <td>0</td>\n",
       "      <td>NaN</td>\n",
       "      <td>NaN</td>\n",
       "      <td>NaN</td>\n",
       "      <td>0</td>\n",
       "      <td>1</td>\n",
       "      <td>2010</td>\n",
       "      <td>WD</td>\n",
       "      <td>Normal</td>\n",
       "    </tr>\n",
       "  </tbody>\n",
       "</table>\n",
       "<p>5 rows × 80 columns</p>\n",
       "</div>"
      ],
      "text/plain": [
       "     Id  MSSubClass MSZoning  LotFrontage  LotArea Street Alley LotShape  \\\n",
       "0  1461          20       RH         80.0    11622   Pave   NaN      Reg   \n",
       "1  1462          20       RL         81.0    14267   Pave   NaN      IR1   \n",
       "2  1463          60       RL         74.0    13830   Pave   NaN      IR1   \n",
       "3  1464          60       RL         78.0     9978   Pave   NaN      IR1   \n",
       "4  1465         120       RL         43.0     5005   Pave   NaN      IR1   \n",
       "\n",
       "  LandContour Utilities      ...       ScreenPorch PoolArea PoolQC  Fence  \\\n",
       "0         Lvl    AllPub      ...               120        0    NaN  MnPrv   \n",
       "1         Lvl    AllPub      ...                 0        0    NaN    NaN   \n",
       "2         Lvl    AllPub      ...                 0        0    NaN  MnPrv   \n",
       "3         Lvl    AllPub      ...                 0        0    NaN    NaN   \n",
       "4         HLS    AllPub      ...               144        0    NaN    NaN   \n",
       "\n",
       "  MiscFeature MiscVal MoSold  YrSold  SaleType  SaleCondition  \n",
       "0         NaN       0      6    2010        WD         Normal  \n",
       "1        Gar2   12500      6    2010        WD         Normal  \n",
       "2         NaN       0      3    2010        WD         Normal  \n",
       "3         NaN       0      6    2010        WD         Normal  \n",
       "4         NaN       0      1    2010        WD         Normal  \n",
       "\n",
       "[5 rows x 80 columns]"
      ]
     },
     "execution_count": 25,
     "metadata": {},
     "output_type": "execute_result"
    }
   ],
   "source": [
    "dataTest = pd.read_csv('test.csv')\n",
    "dataTest.head()"
   ]
  },
  {
   "cell_type": "code",
   "execution_count": 26,
   "metadata": {
    "_uuid": "e6c53b667aafc8522809c8bed34ecc4fe3851eb7"
   },
   "outputs": [
    {
     "data": {
      "text/plain": [
       "Id             False\n",
       "OverallQual    False\n",
       "LotArea        False\n",
       "TotalBsmtSF     True\n",
       "1stFlrSF       False\n",
       "2ndFlrSF       False\n",
       "GarageArea      True\n",
       "OpenPorchSF    False\n",
       "dtype: bool"
      ]
     },
     "execution_count": 26,
     "metadata": {},
     "output_type": "execute_result"
    }
   ],
   "source": [
    "dataTest = dataTest[['Id','OverallQual','LotArea', 'TotalBsmtSF', '1stFlrSF', '2ndFlrSF', 'GarageArea','OpenPorchSF']]\n",
    "dataTest.isnull().any()"
   ]
  },
  {
   "cell_type": "code",
   "execution_count": 27,
   "metadata": {
    "_uuid": "79655b20e64c4520b0cb5d2a34533921aa41c309"
   },
   "outputs": [
    {
     "data": {
      "text/plain": [
       "Id             False\n",
       "OverallQual    False\n",
       "LotArea        False\n",
       "TotalBsmtSF    False\n",
       "1stFlrSF       False\n",
       "2ndFlrSF       False\n",
       "GarageArea     False\n",
       "OpenPorchSF    False\n",
       "dtype: bool"
      ]
     },
     "execution_count": 27,
     "metadata": {},
     "output_type": "execute_result"
    }
   ],
   "source": [
    "# fill the nans with respective means.\n",
    "dictMs = {'TotalBsmtSF':dataTest['TotalBsmtSF'].mean(skipna=True),\n",
    "          'GarageArea':dataTest['GarageArea'].mean(skipna=True)}\n",
    "dataTest = dataTest.fillna(value=dictMs)\n",
    "dataTest.isnull().any()"
   ]
  },
  {
   "cell_type": "code",
   "execution_count": 28,
   "metadata": {
    "_uuid": "ffbfbb988f3f268b7db1c02b6a749d9b954f7976"
   },
   "outputs": [],
   "source": [
    "xTest = dataTest[['OverallQual','LotArea', 'TotalBsmtSF', '1stFlrSF', '2ndFlrSF', 'GarageArea', 'OpenPorchSF']].values\n",
    "xTestPoly = poly2.transform(xTest)\n",
    "xTestPolyStan = scaler.transform(xTestPoly)\n",
    "yTestHat = elasticReg.predict(xTestPolyStan)"
   ]
  },
  {
   "cell_type": "code",
   "execution_count": 29,
   "metadata": {
    "_uuid": "3a770b324b9627e723f01a8db4c4fa88c2f32be4"
   },
   "outputs": [],
   "source": [
    "sub = pd.DataFrame()\n",
    "sub['Id'] = dataTest['Id']\n",
    "sub['SalePrice'] = yTestHat\n",
    "sub.to_csv('submission.csv',index=False)"
   ]
  },
  {
   "cell_type": "markdown",
   "metadata": {
    "_uuid": "1c89e9839e939e1d30f2883902f52f01a5c4f51b"
   },
   "source": [
    "I did submit this result and my model's RMSE on the test set is 0.17055. For a simple regularized linear model with arbitrarily chosen indenpendent variables, this RMSE is good enough. <br/>\n",
    "Below I will talk about early stopping method, which ends up producing a similar but slightly worse RMSE on the test set."
   ]
  },
  {
   "cell_type": "markdown",
   "metadata": {
    "_uuid": "c0dc3532b665eda35f4a39a0d27a35700f013243"
   },
   "source": [
    "## SGD and Early Stopping\n",
    "We have introduced stochastic gradient descent (SGD) in the previous machine learning tutorial [Machine Learning 1 - Regression, Gradient Descent](https://www.kaggle.com/fengdanye/machine-learning-1-regression-gradient-descent). For iterative learning algorithm like SGD, a good regularization technique is **early stopping**. To use this technique, we split the available data for training into a **training** set and a **validation** set: <br/>\n",
    "<img src=\"https://imgur.com/anuQyV9.jpg\" width=\"500px\"/>\n",
    "Then, for each epoch, we train the model on the training set and calculate RMSE for both the training set and the validation set. At first, both RMSE_training (blue curve below) and RMSE_validation (red curve below) should be overall decreasing. But starting from a certain epoch, the RMSE_validation will start increasing, indicating the model is now overfitting to the training set:\n",
    "<img src=\"https://upload.wikimedia.org/wikipedia/commons/f/fc/Overfitting.png\" width=\"300px\"/>\n",
    "The early stopping technique simply stops the training when RMSE_validation reaches its minimum. For SGD, randomness is present and early stopping will stop the training when RMSE_validation is above its minimum for a certain time and roll back to the parameters that give the minimum RMSE_validation value. <br/>\n",
    "Let's try SGD with early stopping on our dataset."
   ]
  },
  {
   "cell_type": "code",
   "execution_count": 30,
   "metadata": {
    "_uuid": "7a581aed9c32b4fdf2445006f30e17862719635b"
   },
   "outputs": [],
   "source": [
    "# Transform and standardize the data\n",
    "poly2 = PolynomialFeatures(degree = 4, include_bias = False)\n",
    "xTrainPoly = poly2.fit_transform(xTrain)\n",
    "scaler = StandardScaler()\n",
    "xTrainPolyStan = scaler.fit_transform(xTrainPoly)\n",
    "yTrainLog = np.log(yTrain)"
   ]
  },
  {
   "cell_type": "markdown",
   "metadata": {
    "_uuid": "c0ea8859c4f5cac02309b3c7e1fda51f66154650"
   },
   "source": [
    "Here I used log(yTrain) as the target values in training, as it seems to perform better than yTrain."
   ]
  },
  {
   "cell_type": "code",
   "execution_count": 31,
   "metadata": {
    "_uuid": "e133fda946b15ee10405d457d87be54e22dcdf18"
   },
   "outputs": [
    {
     "name": "stdout",
     "output_type": "stream",
     "text": [
      "Training sample size is:  1168\n"
     ]
    }
   ],
   "source": [
    "# shuffle data and split into training set and validation set\n",
    "from sklearn.utils import shuffle\n",
    "xShuffled, yShuffled = shuffle(xTrainPolyStan, yTrainLog)\n",
    "\n",
    "train_ratio = 0.8\n",
    "mTrain = np.int(len(xShuffled[:,0])*train_ratio) # 1168\n",
    "print(\"Training sample size is: \", mTrain)\n",
    "\n",
    "X_train_stan = xShuffled[0:mTrain]\n",
    "Y_train = yShuffled[0:mTrain].ravel()\n",
    "X_val_stan = xShuffled[mTrain:]\n",
    "Y_val = yShuffled[mTrain:].ravel()"
   ]
  },
  {
   "cell_type": "markdown",
   "metadata": {
    "_uuid": "b849bc7891674e79516f5a4473b72199ae21ca8b"
   },
   "source": [
    "With Scikit-Learn, you can actually do SGD with early stopping in one line, but we will write a more detailed version here for better understanding of the algorithm:"
   ]
  },
  {
   "cell_type": "code",
   "execution_count": 32,
   "metadata": {
    "_uuid": "03d79bfdc716290cdaf70e08104bf46c7050e53e"
   },
   "outputs": [],
   "source": [
    "from sklearn.metrics import mean_squared_error\n",
    "from sklearn.linear_model import SGDRegressor\n",
    "from copy import deepcopy"
   ]
  },
  {
   "cell_type": "code",
   "execution_count": 33,
   "metadata": {
    "_uuid": "6917a1eba4adc34ebdab8c340a302326d1353b2f"
   },
   "outputs": [
    {
     "name": "stdout",
     "output_type": "stream",
     "text": [
      "Time to stop!\n",
      "num epoch = 5071\n",
      "best epoch =  4071\n"
     ]
    }
   ],
   "source": [
    "import warnings\n",
    "warnings.filterwarnings(\"ignore\", category=DeprecationWarning)\n",
    "\n",
    "sgdReg = SGDRegressor(n_iter=1, warm_start = True, penalty=None, learning_rate = 'constant', eta0=0.00001)\n",
    "\n",
    "mse_val_min = float(\"inf\")\n",
    "best_epoch = None\n",
    "best_model = None\n",
    "rmse_train = []\n",
    "rmse_val = []\n",
    "\n",
    "n_no_change = 0\n",
    "\n",
    "for epoch in range(1,100000):\n",
    "    sgdReg.fit(X_train_stan, Y_train)\n",
    "    Y_train_predict = sgdReg.predict(X_train_stan)\n",
    "    train_error = mean_squared_error(Y_train_predict,Y_train)\n",
    "    rmse_train.append(np.sqrt(train_error))\n",
    "    Y_val_predict = sgdReg.predict(X_val_stan)\n",
    "    val_error = mean_squared_error(Y_val_predict, Y_val)\n",
    "    rmse_val.append(np.sqrt(val_error))\n",
    "    \n",
    "    if val_error < mse_val_min:\n",
    "        n_no_change = 0\n",
    "        mse_val_min = val_error\n",
    "        best_epoch = epoch\n",
    "        best_model = deepcopy(sgdReg)\n",
    "    else:\n",
    "        n_no_change = n_no_change + 1\n",
    "    \n",
    "    if n_no_change >= 1000:\n",
    "        print('Time to stop!')\n",
    "        print('num epoch =', epoch)\n",
    "        print('best epoch = ', best_epoch)\n",
    "        break"
   ]
  },
  {
   "cell_type": "markdown",
   "metadata": {
    "_uuid": "3e0ad34f83f407629f4ffbe47cd27c1dc2ce9d56"
   },
   "source": [
    "Notice that I used n_no_change >= 1000 as the stopping criterion to be on the safe side. A smaller number is doable."
   ]
  },
  {
   "cell_type": "code",
   "execution_count": 34,
   "metadata": {
    "_uuid": "32c6bc8677bc2b190cae55bf39f71c20cd3e0016"
   },
   "outputs": [
    {
     "data": {
      "image/png": "[encoded data removed]",
      "text/plain": [
       "<Figure size 864x288 with 2 Axes>"
      ]
     },
     "metadata": {
      "needs_background": "light"
     },
     "output_type": "display_data"
    }
   ],
   "source": [
    "# plot rmse\n",
    "fig,ax = plt.subplots(nrows = 1, ncols = 2, figsize = (12,4))\n",
    "plt.subplots_adjust(wspace=0.5)\n",
    "\n",
    "ax[0].plot(rmse_train, label = 'training')\n",
    "ax[0].plot(rmse_val, label = 'validation')\n",
    "ax[0].set_xlabel('epoch', fontsize = 18)\n",
    "ax[0].set_ylabel('RMSE', fontsize = 18)\n",
    "ax[0].legend(fontsize=14)\n",
    "\n",
    "ax[1].plot(rmse_train[best_epoch-3:best_epoch+2], label = 'training')\n",
    "ax[1].plot(rmse_val[best_epoch-3:best_epoch+2], label = 'validation')\n",
    "ax[1].set_xlabel('epoch', fontsize = 18)\n",
    "ax[1].set_ylabel('RMSE', fontsize = 18)\n",
    "ax[1].set_xticks([0,1,2,3,4])\n",
    "xticklabels = [str(e) for e in range(best_epoch-2,best_epoch+3)]\n",
    "ax[1].set_xticklabels(xticklabels)\n",
    "ax[1].plot(2,rmse_val[best_epoch-1],marker='o',color='r')\n",
    "ax[1].text(2,rmse_val[best_epoch-1]-0.001,'minimum',color='r',fontsize=14)\n",
    "ax[1].legend(fontsize=14)\n",
    "plt.show()"
   ]
  },
  {
   "cell_type": "code",
   "execution_count": 35,
   "metadata": {
    "_uuid": "be157264692bdcd9fd2e7cd6c0e77814d5371816"
   },
   "outputs": [
    {
     "name": "stdout",
     "output_type": "stream",
     "text": [
      "0.15179842854093195\n"
     ]
    }
   ],
   "source": [
    "# total rmse on the train + validation sets\n",
    "yTrainHatLog = best_model.predict(xTrainPolyStan)\n",
    "print(np.sqrt(mean_squared_error(yTrainHatLog,yTrainLog)))"
   ]
  },
  {
   "cell_type": "code",
   "execution_count": 36,
   "metadata": {
    "_uuid": "6d5a8ff1e8a7025ef1562f0f9ec6b4c12990c500"
   },
   "outputs": [
    {
     "data": {
      "image/png": "[encoded data removed]",
      "text/plain": [
       "<Figure size 432x288 with 1 Axes>"
      ]
     },
     "metadata": {
      "needs_background": "light"
     },
     "output_type": "display_data"
    }
   ],
   "source": [
    "# plot the train + validation sets' predicted sale price vs actual sale price\n",
    "plt.plot(np.exp(yTrainHatLog),np.exp(yTrainLog), marker = 'o', linestyle='', color = 'b')\n",
    "x = np.linspace(0,800000,num=1000)\n",
    "plt.plot(x, x, linestyle = '-',color='red',zorder=2,lw=3)\n",
    "plt.xlabel('predicted sale price (dollars)', fontsize = 18)\n",
    "plt.ylabel('actual sale price (dollars)', fontsize = 18)\n",
    "plt.show()"
   ]
  },
  {
   "cell_type": "markdown",
   "metadata": {
    "_uuid": "14d8fb1a2fd711826592e0fb5640a8163a54732f"
   },
   "source": [
    "For sklearn 0.20, early stopping is added to SGDRegressor. You can run the following code to achieve what we did above:\n",
    "> sgdReg = SGDRegressor(penalty=None, learning_rate = 'constant', eta0=0.00001, early_stopping = True, n_iter_no_change = 500, max_iter=100000) <br/>\n",
    "sgdReg.fit(xShuffled, yShuffled)"
   ]
  },
  {
   "cell_type": "markdown",
   "metadata": {
    "_uuid": "427e3fcffee128769b6f9d4923c6ac5ee797cbf9"
   },
   "source": [
    "If you run the above code multiple times, you will notice that the algorithm's performance fluctuate a bit with different shuffling results. Some selected training sets may lead to much worse RMSE than others. Let's try to improve the model with k-fold splitting."
   ]
  },
  {
   "cell_type": "code",
   "execution_count": 37,
   "metadata": {
    "_uuid": "fd4cfe2774859dd7560f8d914d2208cd4d725e63"
   },
   "outputs": [],
   "source": [
    "from sklearn.model_selection import KFold"
   ]
  },
  {
   "cell_type": "code",
   "execution_count": 38,
   "metadata": {
    "_uuid": "fbeb402662addfa2ecefc17b4bb03d5e1baf1e10"
   },
   "outputs": [
    {
     "name": "stdout",
     "output_type": "stream",
     "text": [
      "Round # 1\n",
      "Running...\n",
      "Round # 2\n",
      "Running...\n",
      "Time to stop!\n",
      "num epoch = 1004\n",
      "best epoch =  4 , from round # 2\n",
      "Round # 3\n",
      "Running...\n",
      "Time to stop!\n",
      "num epoch = 1001\n",
      "best epoch =  1 , from round # 3\n",
      "Round # 4\n",
      "Running...\n",
      "Time to stop!\n",
      "num epoch = 1001\n",
      "best epoch =  1 , from round # 4\n",
      "Round # 5\n",
      "Running...\n",
      "Time to stop!\n",
      "num epoch = 1020\n",
      "best epoch =  20 , from round # 5\n"
     ]
    }
   ],
   "source": [
    "xShuffled, yShuffled = shuffle(xTrainPolyStan, yTrainLog)\n",
    "\n",
    "sgdReg = SGDRegressor(n_iter=1, warm_start = True, penalty=None, learning_rate = 'constant', eta0=0.00001)\n",
    "\n",
    "round_num = 0\n",
    "best_epoch = None\n",
    "best_model = None\n",
    "rmse_train = []\n",
    "rmse_val = []\n",
    "\n",
    "kf = KFold(n_splits=5)\n",
    "\n",
    "for train_index, val_index in kf.split(xShuffled):\n",
    "    round_num = round_num + 1\n",
    "    print(\"Round #\", round_num)\n",
    "    X_train_stan, X_val_stan = xShuffled[train_index], xShuffled[val_index]\n",
    "    Y_train, Y_val = yShuffled[train_index].ravel(), yShuffled[val_index].ravel()\n",
    "    \n",
    "    print(\"Running...\")\n",
    "    mse_val_min = float(\"inf\")\n",
    "    n_no_change = 0\n",
    "\n",
    "    for epoch in range(1,100000):\n",
    "        sgdReg.fit(X_train_stan, Y_train)\n",
    "        Y_train_predict = sgdReg.predict(X_train_stan)\n",
    "        train_error = mean_squared_error(Y_train_predict,Y_train)\n",
    "        rmse_train.append(np.sqrt(train_error))\n",
    "        Y_val_predict = sgdReg.predict(X_val_stan)\n",
    "        val_error = mean_squared_error(Y_val_predict, Y_val)\n",
    "        rmse_val.append(np.sqrt(val_error))\n",
    "    \n",
    "        if val_error < mse_val_min:\n",
    "            n_no_change = 0\n",
    "            mse_val_min = val_error\n",
    "            best_epoch = epoch\n",
    "            best_model = deepcopy(sgdReg)\n",
    "        else:\n",
    "            n_no_change = n_no_change + 1\n",
    "    \n",
    "        if n_no_change >= 1000:\n",
    "            print('Time to stop!')\n",
    "            print('num epoch =', epoch)\n",
    "            print('best epoch = ', best_epoch,', from round #', round_num)\n",
    "            break"
   ]
  },
  {
   "cell_type": "code",
   "execution_count": 39,
   "metadata": {
    "_uuid": "d65eb954fe7f310832fba1fc118523636118b528"
   },
   "outputs": [
    {
     "data": {
      "image/png": "[encoded data removed]",
      "text/plain": [
       "<Figure size 432x288 with 1 Axes>"
      ]
     },
     "metadata": {
      "needs_background": "light"
     },
     "output_type": "display_data"
    }
   ],
   "source": [
    "fig,ax = plt.subplots(nrows = 1, ncols = 1, figsize = (6,4))\n",
    "plt.subplots_adjust(wspace=0.5)\n",
    "\n",
    "ax.plot(rmse_train, label = 'training')\n",
    "ax.plot(rmse_val, label = 'validation')\n",
    "ax.set_xlabel('epoch', fontsize = 18)\n",
    "ax.set_ylabel('RMSE', fontsize = 18)\n",
    "ax.legend(fontsize=14)\n",
    "plt.show()"
   ]
  },
  {
   "cell_type": "markdown",
   "metadata": {
    "_uuid": "3cfb9dcd4c17a9b0c4e46d28660eef38bae0a814"
   },
   "source": [
    "Due to the random nature of SGD algorithm, you will have different results every time you run the code. Here is a plot of RMSE for one of my runs: <br/>\n",
    "<img src=\"https://imgur.com/6XyZLSa.png\" width=\"300px\"/>\n",
    "This is to illustrate how using k-fold splitting can help with model performance. As you can see, a big drop of RMSE takes place when we switch to the second fold (epoch=100000 in this case)."
   ]
  },
  {
   "cell_type": "code",
   "execution_count": 40,
   "metadata": {
    "_uuid": "460ca4bb171429de0258e84afec8c7d7b2c210d7"
   },
   "outputs": [
    {
     "name": "stdout",
     "output_type": "stream",
     "text": [
      "0.14757276857806076\n"
     ]
    }
   ],
   "source": [
    "# total rmse on the train + validation sets\n",
    "yTrainHatLog = best_model.predict(xTrainPolyStan)\n",
    "print(np.sqrt(mean_squared_error(yTrainHatLog,yTrainLog)))"
   ]
  },
  {
   "cell_type": "code",
   "execution_count": 41,
   "metadata": {
    "_uuid": "91a879dc8546277033ab6f2168b98e38b5d7ce87"
   },
   "outputs": [
    {
     "data": {
      "image/png": "[encoded data removed]",
      "text/plain": [
       "<Figure size 432x288 with 1 Axes>"
      ]
     },
     "metadata": {
      "needs_background": "light"
     },
     "output_type": "display_data"
    }
   ],
   "source": [
    "# plot the train + validation sets' predicted sale price vs actual sale price\n",
    "plt.plot(np.exp(yTrainHatLog),np.exp(yTrainLog), marker = 'o', linestyle='', color = 'b')\n",
    "x = np.linspace(0,800000,num=1000)\n",
    "plt.plot(x, x, linestyle = '-',color='red',zorder=2,lw=3)\n",
    "plt.xlabel('predicted sale price (dollars)', fontsize = 18)\n",
    "plt.ylabel('actual sale price (dollars)', fontsize = 18)\n",
    "plt.show()"
   ]
  },
  {
   "cell_type": "code",
   "execution_count": 42,
   "metadata": {
    "_uuid": "22bea480e07327fee187b96315a7fb77de40e1d0"
   },
   "outputs": [],
   "source": [
    "# test set (data preprocessing - see Elastic Net part)\n",
    "yTestHatLog = best_model.predict(xTestPolyStan)\n",
    "sub = pd.DataFrame()\n",
    "sub['Id'] = dataTest['Id']\n",
    "sub['SalePrice'] = np.exp(yTestHatLog)\n",
    "sub.to_csv('submission2.csv',index=False)"
   ]
  },
  {
   "cell_type": "markdown",
   "metadata": {
    "_uuid": "ff65a864c4428940a91af3ef82c58406657771f9"
   },
   "source": [
    "Thought with lower training RMSE, the SGD + early stopping model actually does not perform as well as the elastic net model. I got RMSE=0.18 for one of my submissions on this SGD model. My speculation:\n",
    "* SGD model gives different model each time, due to its random nature. Ensemble learning should help with this probelm.\n",
    "* SGD model is overfitting to the training + validation sets, therefore perform not as well on the test set. **Early stopping really only prevents overfitting to the training set (the one with validation set taken out)**. Including a regularization term should help with this problem."
   ]
  },
  {
   "cell_type": "code",
   "execution_count": null,
   "metadata": {
    "_uuid": "44aea79253592981ff954baf3ea2ea92dcfb3d1e"
   },
   "outputs": [],
   "source": []
  }
 ],
 "metadata": {
  "kernelspec": {
   "display_name": "Python 3",
   "language": "python",
   "name": "python3"
  },
  "language_info": {
   "codemirror_mode": {
    "name": "ipython",
    "version": 3
   },
   "file_extension": ".py",
   "mimetype": "text/x-python",
   "name": "python",
   "nbconvert_exporter": "python",
   "pygments_lexer": "ipython3",
   "version": "3.7.1"
  }
 },
 "nbformat": 4,
 "nbformat_minor": 2
}
