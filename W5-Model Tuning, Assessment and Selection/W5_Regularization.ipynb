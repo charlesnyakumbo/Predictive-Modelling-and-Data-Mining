{
 "cells": [
  {
   "cell_type": "markdown",
   "metadata": {},
   "source": [
    "# Week 5: Regularization\n"
   ]
  },
  {
   "cell_type": "markdown",
   "metadata": {},
   "source": [
    "**1- Polynomial Regression** </br>\n",
    "**2- Ridge Regression** </br>\n",
    "**3- Lasso Regression** </br>\n",
    "**4- Elastic Net** </br>\n",
    "**3- Alpha Tuning** "
   ]
  },
  {
   "cell_type": "markdown",
   "metadata": {},
   "source": [
    "\n",
    "## 1- Polynomial Regression\n",
    "\n",
    "![Imgur](https://i.imgur.com/o0viGO2.png)"
   ]
  },
  {
   "cell_type": "code",
   "execution_count": 36,
   "metadata": {},
   "outputs": [],
   "source": [
    "import numpy as np\n",
    "import seaborn as sns\n",
    "import matplotlib.pyplot as plt"
   ]
  },
  {
   "cell_type": "markdown",
   "metadata": {},
   "source": [
    "### 1.1 Generate some nonlinear data,\n",
    "1. Create 100 random (uniformly distributed) points between -3 and 3\n",
    "1. Create a quadratic equation y = 0.5 * X**2 + X + 2 \n",
    "1. Add some noise (normally distributed) to the equation (between 0 and 1)\n"
   ]
  },
  {
   "cell_type": "code",
   "execution_count": 37,
   "metadata": {},
   "outputs": [
    {
     "data": {
      "text/plain": [
       "<matplotlib.collections.PathCollection at 0x20bf67da9b0>"
      ]
     },
     "execution_count": 37,
     "metadata": {},
     "output_type": "execute_result"
    },
    {
     "data": {
      "image/png": "[encoded data removed]",
      "text/plain": [
       "<Figure size 432x288 with 1 Axes>"
      ]
     },
     "metadata": {
      "needs_background": "light"
     },
     "output_type": "display_data"
    }
   ],
   "source": [
    "m = 100\n",
    "X = 6 * np.random.rand(m, 1) - 3\n",
    "y = 0.5 * X**2 + X + 2 + np.random.randn(m, 1)\n",
    "\n",
    "plt.scatter(X,y)"
   ]
  },
  {
   "cell_type": "markdown",
   "metadata": {},
   "source": [
    "### 1.2 Fit a polynomial model \n",
    "\n",
    "**Transform the input features,**\n",
    "1. Create polynomial features with degree=2 \n",
    "1. fit_transform the 1D feature (X) to get 11 features"
   ]
  },
  {
   "cell_type": "code",
   "execution_count": 38,
   "metadata": {},
   "outputs": [
    {
     "data": {
      "text/plain": [
       "(100, 2)"
      ]
     },
     "execution_count": 38,
     "metadata": {},
     "output_type": "execute_result"
    }
   ],
   "source": [
    "from sklearn.preprocessing import PolynomialFeatures\n",
    "poly_features = PolynomialFeatures(degree=2, include_bias=False)\n",
    "x_poly = poly_features.fit_transform(X)\n",
    "\n",
    "x_poly.shape"
   ]
  },
  {
   "cell_type": "markdown",
   "metadata": {},
   "source": [
    "### 1.3 Fitting a LinearRegression \n",
    "\n",
    "1. Fit a LinearRegression to the x_poly\n",
    "1. Print rgr.intercept_ and rgr.coef_\n",
    "1. Are these close to the original quadratic function we had?"
   ]
  },
  {
   "cell_type": "code",
   "execution_count": 39,
   "metadata": {},
   "outputs": [
    {
     "data": {
      "text/plain": [
       "(array([2.01707212]), array([[0.8731023 , 0.48690158]]))"
      ]
     },
     "execution_count": 39,
     "metadata": {},
     "output_type": "execute_result"
    }
   ],
   "source": [
    "from sklearn.linear_model import LinearRegression\n",
    "\n",
    "rgr = LinearRegression()\n",
    "rgr.fit(x_poly, y)\n",
    "rgr.intercept_, rgr.coef_\n"
   ]
  },
  {
   "cell_type": "markdown",
   "metadata": {},
   "source": [
    "### 1.4 Plot original dataset and fitted function \n",
    "\n",
    "1. Create 200 points (linearly spaced) between -4 and 4\n",
    "1. Transform these points with the **fitted PolynomialFeatures object** in the previous section\n",
    "1. Use rgr fitted above to predict y and plot them\n"
   ]
  },
  {
   "cell_type": "code",
   "execution_count": 40,
   "metadata": {},
   "outputs": [
    {
     "data": {
      "text/plain": [
       "(-2, 8.0)"
      ]
     },
     "execution_count": 40,
     "metadata": {},
     "output_type": "execute_result"
    },
    {
     "data": {
      "image/png": "[encoded data removed]",
      "text/plain": [
       "<Figure size 432x288 with 1 Axes>"
      ]
     },
     "metadata": {
      "needs_background": "light"
     },
     "output_type": "display_data"
    }
   ],
   "source": [
    "# predict\n",
    "xfit = np.linspace(-3,3,num=200).reshape(-1,1)\n",
    "xfitpoly = poly_features.transform(xfit)\n",
    "\n",
    "yfit = rgr.predict(xfitpoly)\n",
    "\n",
    "\n",
    "plt.plot(xfit, yfit, 'r') # Fitted curve\n",
    "plt.scatter(X, y)         # Original data\n",
    "plt.ylim(top=8)\n",
    "plt.ylim(bottom=-2)"
   ]
  },
  {
   "cell_type": "markdown",
   "metadata": {},
   "source": [
    "**Change the degree of polynomial to 5, 10, 30, etc. and explain the fitted curve**"
   ]
  },
  {
   "cell_type": "markdown",
   "metadata": {},
   "source": [
    "### 1.5 Use the following function to plot learning curves"
   ]
  },
  {
   "cell_type": "code",
   "execution_count": 41,
   "metadata": {},
   "outputs": [],
   "source": [
    "from sklearn.metrics import mean_squared_error\n",
    "from sklearn.model_selection import train_test_split\n",
    "\n",
    "def plot_learning_curves(model, X, y):\n",
    "    X_train, X_val, y_train, y_val = train_test_split(X, y, test_size=0.2)\n",
    "    train_errors, val_errors = [], []\n",
    "    \n",
    "    for m in range(1, len(X_train)):\n",
    "        model.fit(X_train[:m], y_train[:m])\n",
    "        y_train_predict = model.predict(X_train[:m])\n",
    "        y_val_predict = model.predict(X_val)\n",
    "        train_errors.append(mean_squared_error(y_train_predict, y_train[:m]))\n",
    "        val_errors.append(mean_squared_error(y_val_predict, y_val))\n",
    "        \n",
    "    plt.plot(np.sqrt(train_errors), \"r-+\", linewidth=2, label=\"Train\")\n",
    "    plt.plot(np.sqrt(val_errors), \"b-\", linewidth=3, label=\"Test\")\n",
    "    plt.ylim(top=5)\n",
    "    plt.ylim(bottom=0)\n",
    "    plt.xlabel('Training set size')\n",
    "    plt.ylabel('RMSE')\n",
    "    plt.legend()"
   ]
  },
  {
   "cell_type": "code",
   "execution_count": 42,
   "metadata": {},
   "outputs": [
    {
     "data": {
      "image/png": "[encoded data removed]",
      "text/plain": [
       "<Figure size 432x288 with 1 Axes>"
      ]
     },
     "metadata": {
      "needs_background": "light"
     },
     "output_type": "display_data"
    }
   ],
   "source": [
    "## Plot the learning curves for X and y\n",
    "plot_learning_curves(LinearRegression(), X, y)"
   ]
  },
  {
   "cell_type": "code",
   "execution_count": 43,
   "metadata": {},
   "outputs": [
    {
     "data": {
      "image/png": "[encoded data removed]",
      "text/plain": [
       "<Figure size 432x288 with 1 Axes>"
      ]
     },
     "metadata": {
      "needs_background": "light"
     },
     "output_type": "display_data"
    }
   ],
   "source": [
    "## Plot the learning curves for x_poly and y\n",
    "plot_learning_curves(LinearRegression(), x_poly, y)"
   ]
  },
  {
   "cell_type": "markdown",
   "metadata": {},
   "source": [
    "**How can we help the overfitted model?**\n",
    "\n",
    "Increase number of training sample to 1000"
   ]
  },
  {
   "cell_type": "markdown",
   "metadata": {},
   "source": [
    "### 2- Ridge Regression\n",
    "\n",
    "Ridge regression is sensitive to the input features, therefore **standardization** is usually recommended before Ridge regression. \n",
    "\n",
    "Create a scaler object and fit_transform the polinomial feature created in previous section."
   ]
  },
  {
   "cell_type": "code",
   "execution_count": 44,
   "metadata": {},
   "outputs": [
    {
     "data": {
      "text/plain": [
       "(array([1.67384528, 2.45562389]), array([-0.08927081,  2.80972731]))"
      ]
     },
     "execution_count": 44,
     "metadata": {},
     "output_type": "execute_result"
    }
   ],
   "source": [
    "from sklearn.preprocessing import StandardScaler\n",
    "# standardization\n",
    "scaler = StandardScaler()\n",
    "x_poly_stan = scaler.fit_transform(x_poly)\n",
    "scaler.scale_, scaler.mean_"
   ]
  },
  {
   "cell_type": "markdown",
   "metadata": {},
   "source": [
    "## 2.1 Train a Ridge regression model and plot the predictions** \n",
    "\n",
    "\n",
    "1. Create a reg object with Ridge\n",
    "1. Fit the x_poly_stan to y </br>\n",
    "\n",
    "\n",
    "**Create xtest (should be transformed with 1-PolynomialFeatures and 2-StandardScaler) - Why?**\n",
    "1. Create 200 points (linearly spaced) between -3 and 3\n",
    "1. Transform these points with the **fitted PolynomialFeatures object** in the previous section\n",
    "1. Transform the new points with the **fitted StandardScaler object** in the previous section\n",
    "1. Predict the y values for these (transformed) points using fitted reg object\n",
    "1. Plot 1- original points **(plt.plot(xFit,yFit))** and 2- predicted points in the same graph **(plt.scatter(X,y))**"
   ]
  },
  {
   "cell_type": "code",
   "execution_count": 45,
   "metadata": {},
   "outputs": [
    {
     "data": {
      "image/png": "[encoded data removed]",
      "text/plain": [
       "<Figure size 432x288 with 1 Axes>"
      ]
     },
     "metadata": {
      "needs_background": "light"
     },
     "output_type": "display_data"
    }
   ],
   "source": [
    "# Ridge regression\n",
    "from sklearn.linear_model import Ridge\n",
    "reg = Ridge(alpha=20)\n",
    "reg.fit(x_poly_stan, y)\n",
    "\n",
    "# predict\n",
    "xFit = np.linspace(-3,3,num=200).reshape(-1,1)\n",
    "xFitPoly = poly_features.transform(xFit)\n",
    "xFitPolyStan = scaler.transform(xFitPoly)\n",
    "yFit = reg.predict(xFitPolyStan)\n",
    "\n",
    "# plot\n",
    "plt.plot(xFit,yFit, lw=3, color='r', zorder = 2)\n",
    "plt.scatter(X,y)\n",
    "plt.ylabel('X1', fontsize = 18)\n",
    "plt.xlabel('X2', fontsize = 18)\n",
    "plt.ylim(top=8)\n",
    "plt.ylim(bottom=-2)\n",
    "plt.show()"
   ]
  },
  {
   "cell_type": "markdown",
   "metadata": {},
   "source": [
    "**What happens if we choose a large (small) alpha?**"
   ]
  },
  {
   "cell_type": "markdown",
   "metadata": {},
   "source": [
    "## 3- Lasso Regression"
   ]
  },
  {
   "cell_type": "code",
   "execution_count": 46,
   "metadata": {},
   "outputs": [
    {
     "data": {
      "image/png": "[encoded data removed]",
      "text/plain": [
       "<Figure size 432x288 with 1 Axes>"
      ]
     },
     "metadata": {
      "needs_background": "light"
     },
     "output_type": "display_data"
    }
   ],
   "source": [
    "# Lasso regression\n",
    "from sklearn.linear_model import Lasso\n",
    "reg = Lasso(alpha=1)\n",
    "reg.fit(x_poly_stan, y)\n",
    "\n",
    "# predict\n",
    "xFit = np.linspace(-3,3,num=200).reshape(-1,1)\n",
    "xFitPoly = poly_features.transform(xFit)\n",
    "xFitPolyStan = scaler.transform(xFitPoly)\n",
    "yFit = reg.predict(xFitPolyStan)\n",
    "\n",
    "# plot\n",
    "plt.plot(xFit,yFit, lw=3, color='r', zorder = 2)\n",
    "plt.scatter(X,y)\n",
    "plt.ylabel('X1', fontsize = 18)\n",
    "plt.xlabel('X2', fontsize = 18)\n",
    "plt.ylim(top=8)\n",
    "plt.ylim(bottom=-2)\n",
    "plt.show()"
   ]
  },
  {
   "cell_type": "markdown",
   "metadata": {},
   "source": [
    "## 4- Elastic Net"
   ]
  },
  {
   "cell_type": "code",
   "execution_count": 47,
   "metadata": {},
   "outputs": [
    {
     "data": {
      "image/png": "[encoded data removed]",
      "text/plain": [
       "<Figure size 432x288 with 1 Axes>"
      ]
     },
     "metadata": {
      "needs_background": "light"
     },
     "output_type": "display_data"
    }
   ],
   "source": [
    "# Elastic Net\n",
    "from sklearn.linear_model import ElasticNet\n",
    "reg = ElasticNet(alpha=1)\n",
    "reg.fit(x_poly_stan, y)\n",
    "\n",
    "# predict\n",
    "xFit = np.linspace(-3,3,num=200).reshape(-1,1)\n",
    "xFitPoly = poly_features.transform(xFit)\n",
    "xFitPolyStan = scaler.transform(xFitPoly)\n",
    "yFit = reg.predict(xFitPolyStan)\n",
    "\n",
    "# plot\n",
    "plt.plot(xFit,yFit, lw=3, color='r', zorder = 2)\n",
    "plt.scatter(X,y)\n",
    "plt.ylabel('X1', fontsize = 18)\n",
    "plt.xlabel('X2', fontsize = 18)\n",
    "plt.ylim(top=8)\n",
    "plt.ylim(bottom=-2)\n",
    "plt.show()"
   ]
  },
  {
   "cell_type": "markdown",
   "metadata": {},
   "source": [
    "**What happens if we choose a large (small) alpha?**"
   ]
  },
  {
   "cell_type": "markdown",
   "metadata": {},
   "source": [
    "## 5- Alpha tuning\n",
    "\n",
    "Use cross validation to find the optimal alpha\n",
    "\n",
    "1. [RidgeCV](https://scikit-learn.org/stable/modules/generated/sklearn.linear_model.RidgeCV.html)\n",
    "1. [LassoCV](https://scikit-learn.org/stable/modules/generated/sklearn.linear_model.LassoCV.html)\n",
    "1. [ElasticNetCV](https://scikit-learn.org/stable/modules/generated/sklearn.linear_model.ElasticNetCV.html)"
   ]
  },
  {
   "cell_type": "markdown",
   "metadata": {},
   "source": [
    "### 5.1 RidgeCV:\n",
    "\n",
    "**Using RidgeCV, tune the alpha for (X, y)**"
   ]
  },
  {
   "cell_type": "code",
   "execution_count": 48,
   "metadata": {},
   "outputs": [
    {
     "name": "stdout",
     "output_type": "stream",
     "text": [
      "R^2 score:  0.48152232113246285\n",
      "Optimal alpha:  1.0\n"
     ]
    }
   ],
   "source": [
    "from sklearn.linear_model import RidgeCV\n",
    "\n",
    "ridgecv = RidgeCV(cv=5)\n",
    "ridgecv.fit(X, y)\n",
    "\n",
    "print('R^2 score: ', ridgecv.score(X, y))\n",
    "\n",
    "print('Optimal alpha: ', ridgecv.alpha_)"
   ]
  },
  {
   "cell_type": "markdown",
   "metadata": {},
   "source": [
    "### 5.2 LassoCV:\n",
    "\n",
    "**Using LassoCV, tune the alpha for (X, y)**"
   ]
  },
  {
   "cell_type": "code",
   "execution_count": 49,
   "metadata": {},
   "outputs": [
    {
     "name": "stdout",
     "output_type": "stream",
     "text": [
      "R^2 score:  0.48152793028751006\n",
      "Optimal alpha:  0.002428803139380218\n"
     ]
    },
    {
     "name": "stderr",
     "output_type": "stream",
     "text": [
      "C:\\Users\\Esmal\\Anaconda3\\lib\\site-packages\\sklearn\\linear_model\\coordinate_descent.py:1109: DataConversionWarning: A column-vector y was passed when a 1d array was expected. Please change the shape of y to (n_samples, ), for example using ravel().\n",
      "  y = column_or_1d(y, warn=True)\n"
     ]
    }
   ],
   "source": [
    "from sklearn.linear_model import LassoCV\n",
    "\n",
    "lassocv = LassoCV(cv=5)\n",
    "lassocv.fit(X, y)\n",
    "\n",
    "print('R^2 score: ', lassocv.score(X, y))\n",
    "\n",
    "print('Optimal alpha: ', lassocv.alpha_)"
   ]
  },
  {
   "cell_type": "markdown",
   "metadata": {},
   "source": [
    "### 5.3 ElasticNetCV:\n",
    "\n",
    "**Using ElasticNetCV, tune the alpha for (X, y)**"
   ]
  },
  {
   "cell_type": "code",
   "execution_count": 50,
   "metadata": {},
   "outputs": [
    {
     "name": "stdout",
     "output_type": "stream",
     "text": [
      "R^2 score:  0.4815267364696004\n",
      "Optimal alpha:  0.004857606278760436\n"
     ]
    },
    {
     "name": "stderr",
     "output_type": "stream",
     "text": [
      "C:\\Users\\Esmal\\Anaconda3\\lib\\site-packages\\sklearn\\linear_model\\coordinate_descent.py:1109: DataConversionWarning: A column-vector y was passed when a 1d array was expected. Please change the shape of y to (n_samples, ), for example using ravel().\n",
      "  y = column_or_1d(y, warn=True)\n"
     ]
    }
   ],
   "source": [
    "from sklearn.linear_model import ElasticNetCV\n",
    "\n",
    "elnetCV = ElasticNetCV(cv=5)\n",
    "elnetCV.fit(X, y)\n",
    "\n",
    "print('R^2 score: ', elnetCV.score(X, y))\n",
    "\n",
    "print('Optimal alpha: ', elnetCV.alpha_)"
   ]
  },
  {
   "cell_type": "code",
   "execution_count": null,
   "metadata": {},
   "outputs": [],
   "source": []
  },
  {
   "cell_type": "code",
   "execution_count": null,
   "metadata": {},
   "outputs": [],
   "source": []
  }
 ],
 "metadata": {
  "kernelspec": {
   "display_name": "Python 3",
   "language": "python",
   "name": "python3"
  },
  "language_info": {
   "codemirror_mode": {
    "name": "ipython",
    "version": 3
   },
   "file_extension": ".py",
   "mimetype": "text/x-python",
   "name": "python",
   "nbconvert_exporter": "python",
   "pygments_lexer": "ipython3",
   "version": "3.7.1"
  }
 },
 "nbformat": 4,
 "nbformat_minor": 2
}
